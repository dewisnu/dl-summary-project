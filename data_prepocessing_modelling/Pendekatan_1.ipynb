{
 "metadata": {
  "kernelspec": {
   "display_name": "Python 3",
   "name": "python3"
  },
  "language_info": {
   "name": "python",
   "version": "3.10.14",
   "mimetype": "text/x-python",
   "codemirror_mode": {
    "name": "ipython",
    "version": 3
   },
   "pygments_lexer": "ipython3",
   "nbconvert_exporter": "python",
   "file_extension": ".py"
  },
  "kaggle": {
   "accelerator": "gpu",
   "dataSources": [],
   "dockerImageVersionId": 30787,
   "isInternetEnabled": true,
   "language": "python",
   "sourceType": "notebook",
   "isGpuEnabled": true
  },
  "colab": {
   "provenance": [],
   "gpuType": "T4"
  },
  "accelerator": "GPU",
  "widgets": {
   "application/vnd.jupyter.widget-state+json": {
    "1be69efa190f44cd93819bf86046f9b3": {
     "model_module": "@jupyter-widgets/controls",
     "model_name": "HBoxModel",
     "model_module_version": "1.5.0",
     "state": {
      "_dom_classes": [],
      "_model_module": "@jupyter-widgets/controls",
      "_model_module_version": "1.5.0",
      "_model_name": "HBoxModel",
      "_view_count": null,
      "_view_module": "@jupyter-widgets/controls",
      "_view_module_version": "1.5.0",
      "_view_name": "HBoxView",
      "box_style": "",
      "children": [
       "IPY_MODEL_47af6d6659ba4f6eaf20e9473148e275",
       "IPY_MODEL_1fc82a1926cc43c29bf6c94003db9655",
       "IPY_MODEL_6829ba4b3c7d4d2a91a63cdbff8fa96f"
      ],
      "layout": "IPY_MODEL_36d55f892c4e4f93ad713118bdc42239"
     }
    },
    "47af6d6659ba4f6eaf20e9473148e275": {
     "model_module": "@jupyter-widgets/controls",
     "model_name": "HTMLModel",
     "model_module_version": "1.5.0",
     "state": {
      "_dom_classes": [],
      "_model_module": "@jupyter-widgets/controls",
      "_model_module_version": "1.5.0",
      "_model_name": "HTMLModel",
      "_view_count": null,
      "_view_module": "@jupyter-widgets/controls",
      "_view_module_version": "1.5.0",
      "_view_name": "HTMLView",
      "description": "",
      "description_tooltip": null,
      "layout": "IPY_MODEL_702947c1c8eb4333bc90fffbfee1f688",
      "placeholder": "​",
      "style": "IPY_MODEL_3462c1f2c33a453dbfaf1739adeccbd9",
      "value": "tokenizer_config.json: 100%"
     }
    },
    "1fc82a1926cc43c29bf6c94003db9655": {
     "model_module": "@jupyter-widgets/controls",
     "model_name": "FloatProgressModel",
     "model_module_version": "1.5.0",
     "state": {
      "_dom_classes": [],
      "_model_module": "@jupyter-widgets/controls",
      "_model_module_version": "1.5.0",
      "_model_name": "FloatProgressModel",
      "_view_count": null,
      "_view_module": "@jupyter-widgets/controls",
      "_view_module_version": "1.5.0",
      "_view_name": "ProgressView",
      "bar_style": "success",
      "description": "",
      "description_tooltip": null,
      "layout": "IPY_MODEL_38b3e5235704492aa35dcd3e1478e863",
      "max": 20746,
      "min": 0,
      "orientation": "horizontal",
      "style": "IPY_MODEL_016d3d31084e4310998505aed8022ca5",
      "value": 20746
     }
    },
    "6829ba4b3c7d4d2a91a63cdbff8fa96f": {
     "model_module": "@jupyter-widgets/controls",
     "model_name": "HTMLModel",
     "model_module_version": "1.5.0",
     "state": {
      "_dom_classes": [],
      "_model_module": "@jupyter-widgets/controls",
      "_model_module_version": "1.5.0",
      "_model_name": "HTMLModel",
      "_view_count": null,
      "_view_module": "@jupyter-widgets/controls",
      "_view_module_version": "1.5.0",
      "_view_name": "HTMLView",
      "description": "",
      "description_tooltip": null,
      "layout": "IPY_MODEL_ce1956778bce4fb5bc4cbfcbb608325f",
      "placeholder": "​",
      "style": "IPY_MODEL_fd7e1dcc7b1746efabd5e690b06fc050",
      "value": " 20.7k/20.7k [00:00&lt;00:00, 423kB/s]"
     }
    },
    "36d55f892c4e4f93ad713118bdc42239": {
     "model_module": "@jupyter-widgets/base",
     "model_name": "LayoutModel",
     "model_module_version": "1.2.0",
     "state": {
      "_model_module": "@jupyter-widgets/base",
      "_model_module_version": "1.2.0",
      "_model_name": "LayoutModel",
      "_view_count": null,
      "_view_module": "@jupyter-widgets/base",
      "_view_module_version": "1.2.0",
      "_view_name": "LayoutView",
      "align_content": null,
      "align_items": null,
      "align_self": null,
      "border": null,
      "bottom": null,
      "display": null,
      "flex": null,
      "flex_flow": null,
      "grid_area": null,
      "grid_auto_columns": null,
      "grid_auto_flow": null,
      "grid_auto_rows": null,
      "grid_column": null,
      "grid_gap": null,
      "grid_row": null,
      "grid_template_areas": null,
      "grid_template_columns": null,
      "grid_template_rows": null,
      "height": null,
      "justify_content": null,
      "justify_items": null,
      "left": null,
      "margin": null,
      "max_height": null,
      "max_width": null,
      "min_height": null,
      "min_width": null,
      "object_fit": null,
      "object_position": null,
      "order": null,
      "overflow": null,
      "overflow_x": null,
      "overflow_y": null,
      "padding": null,
      "right": null,
      "top": null,
      "visibility": null,
      "width": null
     }
    },
    "702947c1c8eb4333bc90fffbfee1f688": {
     "model_module": "@jupyter-widgets/base",
     "model_name": "LayoutModel",
     "model_module_version": "1.2.0",
     "state": {
      "_model_module": "@jupyter-widgets/base",
      "_model_module_version": "1.2.0",
      "_model_name": "LayoutModel",
      "_view_count": null,
      "_view_module": "@jupyter-widgets/base",
      "_view_module_version": "1.2.0",
      "_view_name": "LayoutView",
      "align_content": null,
      "align_items": null,
      "align_self": null,
      "border": null,
      "bottom": null,
      "display": null,
      "flex": null,
      "flex_flow": null,
      "grid_area": null,
      "grid_auto_columns": null,
      "grid_auto_flow": null,
      "grid_auto_rows": null,
      "grid_column": null,
      "grid_gap": null,
      "grid_row": null,
      "grid_template_areas": null,
      "grid_template_columns": null,
      "grid_template_rows": null,
      "height": null,
      "justify_content": null,
      "justify_items": null,
      "left": null,
      "margin": null,
      "max_height": null,
      "max_width": null,
      "min_height": null,
      "min_width": null,
      "object_fit": null,
      "object_position": null,
      "order": null,
      "overflow": null,
      "overflow_x": null,
      "overflow_y": null,
      "padding": null,
      "right": null,
      "top": null,
      "visibility": null,
      "width": null
     }
    },
    "3462c1f2c33a453dbfaf1739adeccbd9": {
     "model_module": "@jupyter-widgets/controls",
     "model_name": "DescriptionStyleModel",
     "model_module_version": "1.5.0",
     "state": {
      "_model_module": "@jupyter-widgets/controls",
      "_model_module_version": "1.5.0",
      "_model_name": "DescriptionStyleModel",
      "_view_count": null,
      "_view_module": "@jupyter-widgets/base",
      "_view_module_version": "1.2.0",
      "_view_name": "StyleView",
      "description_width": ""
     }
    },
    "38b3e5235704492aa35dcd3e1478e863": {
     "model_module": "@jupyter-widgets/base",
     "model_name": "LayoutModel",
     "model_module_version": "1.2.0",
     "state": {
      "_model_module": "@jupyter-widgets/base",
      "_model_module_version": "1.2.0",
      "_model_name": "LayoutModel",
      "_view_count": null,
      "_view_module": "@jupyter-widgets/base",
      "_view_module_version": "1.2.0",
      "_view_name": "LayoutView",
      "align_content": null,
      "align_items": null,
      "align_self": null,
      "border": null,
      "bottom": null,
      "display": null,
      "flex": null,
      "flex_flow": null,
      "grid_area": null,
      "grid_auto_columns": null,
      "grid_auto_flow": null,
      "grid_auto_rows": null,
      "grid_column": null,
      "grid_gap": null,
      "grid_row": null,
      "grid_template_areas": null,
      "grid_template_columns": null,
      "grid_template_rows": null,
      "height": null,
      "justify_content": null,
      "justify_items": null,
      "left": null,
      "margin": null,
      "max_height": null,
      "max_width": null,
      "min_height": null,
      "min_width": null,
      "object_fit": null,
      "object_position": null,
      "order": null,
      "overflow": null,
      "overflow_x": null,
      "overflow_y": null,
      "padding": null,
      "right": null,
      "top": null,
      "visibility": null,
      "width": null
     }
    },
    "016d3d31084e4310998505aed8022ca5": {
     "model_module": "@jupyter-widgets/controls",
     "model_name": "ProgressStyleModel",
     "model_module_version": "1.5.0",
     "state": {
      "_model_module": "@jupyter-widgets/controls",
      "_model_module_version": "1.5.0",
      "_model_name": "ProgressStyleModel",
      "_view_count": null,
      "_view_module": "@jupyter-widgets/base",
      "_view_module_version": "1.2.0",
      "_view_name": "StyleView",
      "bar_color": null,
      "description_width": ""
     }
    },
    "ce1956778bce4fb5bc4cbfcbb608325f": {
     "model_module": "@jupyter-widgets/base",
     "model_name": "LayoutModel",
     "model_module_version": "1.2.0",
     "state": {
      "_model_module": "@jupyter-widgets/base",
      "_model_module_version": "1.2.0",
      "_model_name": "LayoutModel",
      "_view_count": null,
      "_view_module": "@jupyter-widgets/base",
      "_view_module_version": "1.2.0",
      "_view_name": "LayoutView",
      "align_content": null,
      "align_items": null,
      "align_self": null,
      "border": null,
      "bottom": null,
      "display": null,
      "flex": null,
      "flex_flow": null,
      "grid_area": null,
      "grid_auto_columns": null,
      "grid_auto_flow": null,
      "grid_auto_rows": null,
      "grid_column": null,
      "grid_gap": null,
      "grid_row": null,
      "grid_template_areas": null,
      "grid_template_columns": null,
      "grid_template_rows": null,
      "height": null,
      "justify_content": null,
      "justify_items": null,
      "left": null,
      "margin": null,
      "max_height": null,
      "max_width": null,
      "min_height": null,
      "min_width": null,
      "object_fit": null,
      "object_position": null,
      "order": null,
      "overflow": null,
      "overflow_x": null,
      "overflow_y": null,
      "padding": null,
      "right": null,
      "top": null,
      "visibility": null,
      "width": null
     }
    },
    "fd7e1dcc7b1746efabd5e690b06fc050": {
     "model_module": "@jupyter-widgets/controls",
     "model_name": "DescriptionStyleModel",
     "model_module_version": "1.5.0",
     "state": {
      "_model_module": "@jupyter-widgets/controls",
      "_model_module_version": "1.5.0",
      "_model_name": "DescriptionStyleModel",
      "_view_count": null,
      "_view_module": "@jupyter-widgets/base",
      "_view_module_version": "1.2.0",
      "_view_name": "StyleView",
      "description_width": ""
     }
    },
    "4916843693db41b9a763b93b51cecc7f": {
     "model_module": "@jupyter-widgets/controls",
     "model_name": "HBoxModel",
     "model_module_version": "1.5.0",
     "state": {
      "_dom_classes": [],
      "_model_module": "@jupyter-widgets/controls",
      "_model_module_version": "1.5.0",
      "_model_name": "HBoxModel",
      "_view_count": null,
      "_view_module": "@jupyter-widgets/controls",
      "_view_module_version": "1.5.0",
      "_view_name": "HBoxView",
      "box_style": "",
      "children": [
       "IPY_MODEL_e4fd85a933694361a12fbc914c7d418e",
       "IPY_MODEL_91efcf23514644bf898f937ccc315a86",
       "IPY_MODEL_41645a0fd6274ec387c1997acabf5246"
      ],
      "layout": "IPY_MODEL_b3743752c6eb4a22aa71c4d1ab504d82"
     }
    },
    "e4fd85a933694361a12fbc914c7d418e": {
     "model_module": "@jupyter-widgets/controls",
     "model_name": "HTMLModel",
     "model_module_version": "1.5.0",
     "state": {
      "_dom_classes": [],
      "_model_module": "@jupyter-widgets/controls",
      "_model_module_version": "1.5.0",
      "_model_name": "HTMLModel",
      "_view_count": null,
      "_view_module": "@jupyter-widgets/controls",
      "_view_module_version": "1.5.0",
      "_view_name": "HTMLView",
      "description": "",
      "description_tooltip": null,
      "layout": "IPY_MODEL_9ada205d7596432a8db03967c99dac8f",
      "placeholder": "​",
      "style": "IPY_MODEL_caf0fdecf10043baa0ff5b7f382469b4",
      "value": "spiece.model: 100%"
     }
    },
    "91efcf23514644bf898f937ccc315a86": {
     "model_module": "@jupyter-widgets/controls",
     "model_name": "FloatProgressModel",
     "model_module_version": "1.5.0",
     "state": {
      "_dom_classes": [],
      "_model_module": "@jupyter-widgets/controls",
      "_model_module_version": "1.5.0",
      "_model_name": "FloatProgressModel",
      "_view_count": null,
      "_view_module": "@jupyter-widgets/controls",
      "_view_module_version": "1.5.0",
      "_view_name": "ProgressView",
      "bar_style": "success",
      "description": "",
      "description_tooltip": null,
      "layout": "IPY_MODEL_dc28877087ba444680dfe5346caba378",
      "max": 791656,
      "min": 0,
      "orientation": "horizontal",
      "style": "IPY_MODEL_918fb32d93a546369b6e31d1bcc57228",
      "value": 791656
     }
    },
    "41645a0fd6274ec387c1997acabf5246": {
     "model_module": "@jupyter-widgets/controls",
     "model_name": "HTMLModel",
     "model_module_version": "1.5.0",
     "state": {
      "_dom_classes": [],
      "_model_module": "@jupyter-widgets/controls",
      "_model_module_version": "1.5.0",
      "_model_name": "HTMLModel",
      "_view_count": null,
      "_view_module": "@jupyter-widgets/controls",
      "_view_module_version": "1.5.0",
      "_view_name": "HTMLView",
      "description": "",
      "description_tooltip": null,
      "layout": "IPY_MODEL_083fa54ad5c6408fbb09417f15625208",
      "placeholder": "​",
      "style": "IPY_MODEL_6e40738dc97e4fff9830993a21452203",
      "value": " 792k/792k [00:00&lt;00:00, 9.18MB/s]"
     }
    },
    "b3743752c6eb4a22aa71c4d1ab504d82": {
     "model_module": "@jupyter-widgets/base",
     "model_name": "LayoutModel",
     "model_module_version": "1.2.0",
     "state": {
      "_model_module": "@jupyter-widgets/base",
      "_model_module_version": "1.2.0",
      "_model_name": "LayoutModel",
      "_view_count": null,
      "_view_module": "@jupyter-widgets/base",
      "_view_module_version": "1.2.0",
      "_view_name": "LayoutView",
      "align_content": null,
      "align_items": null,
      "align_self": null,
      "border": null,
      "bottom": null,
      "display": null,
      "flex": null,
      "flex_flow": null,
      "grid_area": null,
      "grid_auto_columns": null,
      "grid_auto_flow": null,
      "grid_auto_rows": null,
      "grid_column": null,
      "grid_gap": null,
      "grid_row": null,
      "grid_template_areas": null,
      "grid_template_columns": null,
      "grid_template_rows": null,
      "height": null,
      "justify_content": null,
      "justify_items": null,
      "left": null,
      "margin": null,
      "max_height": null,
      "max_width": null,
      "min_height": null,
      "min_width": null,
      "object_fit": null,
      "object_position": null,
      "order": null,
      "overflow": null,
      "overflow_x": null,
      "overflow_y": null,
      "padding": null,
      "right": null,
      "top": null,
      "visibility": null,
      "width": null
     }
    },
    "9ada205d7596432a8db03967c99dac8f": {
     "model_module": "@jupyter-widgets/base",
     "model_name": "LayoutModel",
     "model_module_version": "1.2.0",
     "state": {
      "_model_module": "@jupyter-widgets/base",
      "_model_module_version": "1.2.0",
      "_model_name": "LayoutModel",
      "_view_count": null,
      "_view_module": "@jupyter-widgets/base",
      "_view_module_version": "1.2.0",
      "_view_name": "LayoutView",
      "align_content": null,
      "align_items": null,
      "align_self": null,
      "border": null,
      "bottom": null,
      "display": null,
      "flex": null,
      "flex_flow": null,
      "grid_area": null,
      "grid_auto_columns": null,
      "grid_auto_flow": null,
      "grid_auto_rows": null,
      "grid_column": null,
      "grid_gap": null,
      "grid_row": null,
      "grid_template_areas": null,
      "grid_template_columns": null,
      "grid_template_rows": null,
      "height": null,
      "justify_content": null,
      "justify_items": null,
      "left": null,
      "margin": null,
      "max_height": null,
      "max_width": null,
      "min_height": null,
      "min_width": null,
      "object_fit": null,
      "object_position": null,
      "order": null,
      "overflow": null,
      "overflow_x": null,
      "overflow_y": null,
      "padding": null,
      "right": null,
      "top": null,
      "visibility": null,
      "width": null
     }
    },
    "caf0fdecf10043baa0ff5b7f382469b4": {
     "model_module": "@jupyter-widgets/controls",
     "model_name": "DescriptionStyleModel",
     "model_module_version": "1.5.0",
     "state": {
      "_model_module": "@jupyter-widgets/controls",
      "_model_module_version": "1.5.0",
      "_model_name": "DescriptionStyleModel",
      "_view_count": null,
      "_view_module": "@jupyter-widgets/base",
      "_view_module_version": "1.2.0",
      "_view_name": "StyleView",
      "description_width": ""
     }
    },
    "dc28877087ba444680dfe5346caba378": {
     "model_module": "@jupyter-widgets/base",
     "model_name": "LayoutModel",
     "model_module_version": "1.2.0",
     "state": {
      "_model_module": "@jupyter-widgets/base",
      "_model_module_version": "1.2.0",
      "_model_name": "LayoutModel",
      "_view_count": null,
      "_view_module": "@jupyter-widgets/base",
      "_view_module_version": "1.2.0",
      "_view_name": "LayoutView",
      "align_content": null,
      "align_items": null,
      "align_self": null,
      "border": null,
      "bottom": null,
      "display": null,
      "flex": null,
      "flex_flow": null,
      "grid_area": null,
      "grid_auto_columns": null,
      "grid_auto_flow": null,
      "grid_auto_rows": null,
      "grid_column": null,
      "grid_gap": null,
      "grid_row": null,
      "grid_template_areas": null,
      "grid_template_columns": null,
      "grid_template_rows": null,
      "height": null,
      "justify_content": null,
      "justify_items": null,
      "left": null,
      "margin": null,
      "max_height": null,
      "max_width": null,
      "min_height": null,
      "min_width": null,
      "object_fit": null,
      "object_position": null,
      "order": null,
      "overflow": null,
      "overflow_x": null,
      "overflow_y": null,
      "padding": null,
      "right": null,
      "top": null,
      "visibility": null,
      "width": null
     }
    },
    "918fb32d93a546369b6e31d1bcc57228": {
     "model_module": "@jupyter-widgets/controls",
     "model_name": "ProgressStyleModel",
     "model_module_version": "1.5.0",
     "state": {
      "_model_module": "@jupyter-widgets/controls",
      "_model_module_version": "1.5.0",
      "_model_name": "ProgressStyleModel",
      "_view_count": null,
      "_view_module": "@jupyter-widgets/base",
      "_view_module_version": "1.2.0",
      "_view_name": "StyleView",
      "bar_color": null,
      "description_width": ""
     }
    },
    "083fa54ad5c6408fbb09417f15625208": {
     "model_module": "@jupyter-widgets/base",
     "model_name": "LayoutModel",
     "model_module_version": "1.2.0",
     "state": {
      "_model_module": "@jupyter-widgets/base",
      "_model_module_version": "1.2.0",
      "_model_name": "LayoutModel",
      "_view_count": null,
      "_view_module": "@jupyter-widgets/base",
      "_view_module_version": "1.2.0",
      "_view_name": "LayoutView",
      "align_content": null,
      "align_items": null,
      "align_self": null,
      "border": null,
      "bottom": null,
      "display": null,
      "flex": null,
      "flex_flow": null,
      "grid_area": null,
      "grid_auto_columns": null,
      "grid_auto_flow": null,
      "grid_auto_rows": null,
      "grid_column": null,
      "grid_gap": null,
      "grid_row": null,
      "grid_template_areas": null,
      "grid_template_columns": null,
      "grid_template_rows": null,
      "height": null,
      "justify_content": null,
      "justify_items": null,
      "left": null,
      "margin": null,
      "max_height": null,
      "max_width": null,
      "min_height": null,
      "min_width": null,
      "object_fit": null,
      "object_position": null,
      "order": null,
      "overflow": null,
      "overflow_x": null,
      "overflow_y": null,
      "padding": null,
      "right": null,
      "top": null,
      "visibility": null,
      "width": null
     }
    },
    "6e40738dc97e4fff9830993a21452203": {
     "model_module": "@jupyter-widgets/controls",
     "model_name": "DescriptionStyleModel",
     "model_module_version": "1.5.0",
     "state": {
      "_model_module": "@jupyter-widgets/controls",
      "_model_module_version": "1.5.0",
      "_model_name": "DescriptionStyleModel",
      "_view_count": null,
      "_view_module": "@jupyter-widgets/base",
      "_view_module_version": "1.2.0",
      "_view_name": "StyleView",
      "description_width": ""
     }
    },
    "84bb03128cd546b39b1e57bc1532f4a1": {
     "model_module": "@jupyter-widgets/controls",
     "model_name": "HBoxModel",
     "model_module_version": "1.5.0",
     "state": {
      "_dom_classes": [],
      "_model_module": "@jupyter-widgets/controls",
      "_model_module_version": "1.5.0",
      "_model_name": "HBoxModel",
      "_view_count": null,
      "_view_module": "@jupyter-widgets/controls",
      "_view_module_version": "1.5.0",
      "_view_name": "HBoxView",
      "box_style": "",
      "children": [
       "IPY_MODEL_f8e96c2046f14be1b67d23cb7763bf51",
       "IPY_MODEL_5fd6aab2eca44040a8c95fa63a7e591a",
       "IPY_MODEL_27ab0db28b3a464aa7870461247e8ef4"
      ],
      "layout": "IPY_MODEL_ee9621e65d5a46c6b73bbd76bc92d076"
     }
    },
    "f8e96c2046f14be1b67d23cb7763bf51": {
     "model_module": "@jupyter-widgets/controls",
     "model_name": "HTMLModel",
     "model_module_version": "1.5.0",
     "state": {
      "_dom_classes": [],
      "_model_module": "@jupyter-widgets/controls",
      "_model_module_version": "1.5.0",
      "_model_name": "HTMLModel",
      "_view_count": null,
      "_view_module": "@jupyter-widgets/controls",
      "_view_module_version": "1.5.0",
      "_view_name": "HTMLView",
      "description": "",
      "description_tooltip": null,
      "layout": "IPY_MODEL_3a98384dc30043f6ba4bcd2c93d82592",
      "placeholder": "​",
      "style": "IPY_MODEL_046f5b28999a47cbaade8fccf0065645",
      "value": "tokenizer.json: 100%"
     }
    },
    "5fd6aab2eca44040a8c95fa63a7e591a": {
     "model_module": "@jupyter-widgets/controls",
     "model_name": "FloatProgressModel",
     "model_module_version": "1.5.0",
     "state": {
      "_dom_classes": [],
      "_model_module": "@jupyter-widgets/controls",
      "_model_module_version": "1.5.0",
      "_model_name": "FloatProgressModel",
      "_view_count": null,
      "_view_module": "@jupyter-widgets/controls",
      "_view_module_version": "1.5.0",
      "_view_name": "ProgressView",
      "bar_style": "success",
      "description": "",
      "description_tooltip": null,
      "layout": "IPY_MODEL_974bfc3f989740a5b6b7134c47505629",
      "max": 2422267,
      "min": 0,
      "orientation": "horizontal",
      "style": "IPY_MODEL_efa9791a262b4ff59259de66633c0f29",
      "value": 2422267
     }
    },
    "27ab0db28b3a464aa7870461247e8ef4": {
     "model_module": "@jupyter-widgets/controls",
     "model_name": "HTMLModel",
     "model_module_version": "1.5.0",
     "state": {
      "_dom_classes": [],
      "_model_module": "@jupyter-widgets/controls",
      "_model_module_version": "1.5.0",
      "_model_name": "HTMLModel",
      "_view_count": null,
      "_view_module": "@jupyter-widgets/controls",
      "_view_module_version": "1.5.0",
      "_view_name": "HTMLView",
      "description": "",
      "description_tooltip": null,
      "layout": "IPY_MODEL_155082be27f14f11a9b00e96053d6cc3",
      "placeholder": "​",
      "style": "IPY_MODEL_2c4b80c3dc554694810992b9cf5754cd",
      "value": " 2.42M/2.42M [00:01&lt;00:00, 2.13MB/s]"
     }
    },
    "ee9621e65d5a46c6b73bbd76bc92d076": {
     "model_module": "@jupyter-widgets/base",
     "model_name": "LayoutModel",
     "model_module_version": "1.2.0",
     "state": {
      "_model_module": "@jupyter-widgets/base",
      "_model_module_version": "1.2.0",
      "_model_name": "LayoutModel",
      "_view_count": null,
      "_view_module": "@jupyter-widgets/base",
      "_view_module_version": "1.2.0",
      "_view_name": "LayoutView",
      "align_content": null,
      "align_items": null,
      "align_self": null,
      "border": null,
      "bottom": null,
      "display": null,
      "flex": null,
      "flex_flow": null,
      "grid_area": null,
      "grid_auto_columns": null,
      "grid_auto_flow": null,
      "grid_auto_rows": null,
      "grid_column": null,
      "grid_gap": null,
      "grid_row": null,
      "grid_template_areas": null,
      "grid_template_columns": null,
      "grid_template_rows": null,
      "height": null,
      "justify_content": null,
      "justify_items": null,
      "left": null,
      "margin": null,
      "max_height": null,
      "max_width": null,
      "min_height": null,
      "min_width": null,
      "object_fit": null,
      "object_position": null,
      "order": null,
      "overflow": null,
      "overflow_x": null,
      "overflow_y": null,
      "padding": null,
      "right": null,
      "top": null,
      "visibility": null,
      "width": null
     }
    },
    "3a98384dc30043f6ba4bcd2c93d82592": {
     "model_module": "@jupyter-widgets/base",
     "model_name": "LayoutModel",
     "model_module_version": "1.2.0",
     "state": {
      "_model_module": "@jupyter-widgets/base",
      "_model_module_version": "1.2.0",
      "_model_name": "LayoutModel",
      "_view_count": null,
      "_view_module": "@jupyter-widgets/base",
      "_view_module_version": "1.2.0",
      "_view_name": "LayoutView",
      "align_content": null,
      "align_items": null,
      "align_self": null,
      "border": null,
      "bottom": null,
      "display": null,
      "flex": null,
      "flex_flow": null,
      "grid_area": null,
      "grid_auto_columns": null,
      "grid_auto_flow": null,
      "grid_auto_rows": null,
      "grid_column": null,
      "grid_gap": null,
      "grid_row": null,
      "grid_template_areas": null,
      "grid_template_columns": null,
      "grid_template_rows": null,
      "height": null,
      "justify_content": null,
      "justify_items": null,
      "left": null,
      "margin": null,
      "max_height": null,
      "max_width": null,
      "min_height": null,
      "min_width": null,
      "object_fit": null,
      "object_position": null,
      "order": null,
      "overflow": null,
      "overflow_x": null,
      "overflow_y": null,
      "padding": null,
      "right": null,
      "top": null,
      "visibility": null,
      "width": null
     }
    },
    "046f5b28999a47cbaade8fccf0065645": {
     "model_module": "@jupyter-widgets/controls",
     "model_name": "DescriptionStyleModel",
     "model_module_version": "1.5.0",
     "state": {
      "_model_module": "@jupyter-widgets/controls",
      "_model_module_version": "1.5.0",
      "_model_name": "DescriptionStyleModel",
      "_view_count": null,
      "_view_module": "@jupyter-widgets/base",
      "_view_module_version": "1.2.0",
      "_view_name": "StyleView",
      "description_width": ""
     }
    },
    "974bfc3f989740a5b6b7134c47505629": {
     "model_module": "@jupyter-widgets/base",
     "model_name": "LayoutModel",
     "model_module_version": "1.2.0",
     "state": {
      "_model_module": "@jupyter-widgets/base",
      "_model_module_version": "1.2.0",
      "_model_name": "LayoutModel",
      "_view_count": null,
      "_view_module": "@jupyter-widgets/base",
      "_view_module_version": "1.2.0",
      "_view_name": "LayoutView",
      "align_content": null,
      "align_items": null,
      "align_self": null,
      "border": null,
      "bottom": null,
      "display": null,
      "flex": null,
      "flex_flow": null,
      "grid_area": null,
      "grid_auto_columns": null,
      "grid_auto_flow": null,
      "grid_auto_rows": null,
      "grid_column": null,
      "grid_gap": null,
      "grid_row": null,
      "grid_template_areas": null,
      "grid_template_columns": null,
      "grid_template_rows": null,
      "height": null,
      "justify_content": null,
      "justify_items": null,
      "left": null,
      "margin": null,
      "max_height": null,
      "max_width": null,
      "min_height": null,
      "min_width": null,
      "object_fit": null,
      "object_position": null,
      "order": null,
      "overflow": null,
      "overflow_x": null,
      "overflow_y": null,
      "padding": null,
      "right": null,
      "top": null,
      "visibility": null,
      "width": null
     }
    },
    "efa9791a262b4ff59259de66633c0f29": {
     "model_module": "@jupyter-widgets/controls",
     "model_name": "ProgressStyleModel",
     "model_module_version": "1.5.0",
     "state": {
      "_model_module": "@jupyter-widgets/controls",
      "_model_module_version": "1.5.0",
      "_model_name": "ProgressStyleModel",
      "_view_count": null,
      "_view_module": "@jupyter-widgets/base",
      "_view_module_version": "1.2.0",
      "_view_name": "StyleView",
      "bar_color": null,
      "description_width": ""
     }
    },
    "155082be27f14f11a9b00e96053d6cc3": {
     "model_module": "@jupyter-widgets/base",
     "model_name": "LayoutModel",
     "model_module_version": "1.2.0",
     "state": {
      "_model_module": "@jupyter-widgets/base",
      "_model_module_version": "1.2.0",
      "_model_name": "LayoutModel",
      "_view_count": null,
      "_view_module": "@jupyter-widgets/base",
      "_view_module_version": "1.2.0",
      "_view_name": "LayoutView",
      "align_content": null,
      "align_items": null,
      "align_self": null,
      "border": null,
      "bottom": null,
      "display": null,
      "flex": null,
      "flex_flow": null,
      "grid_area": null,
      "grid_auto_columns": null,
      "grid_auto_flow": null,
      "grid_auto_rows": null,
      "grid_column": null,
      "grid_gap": null,
      "grid_row": null,
      "grid_template_areas": null,
      "grid_template_columns": null,
      "grid_template_rows": null,
      "height": null,
      "justify_content": null,
      "justify_items": null,
      "left": null,
      "margin": null,
      "max_height": null,
      "max_width": null,
      "min_height": null,
      "min_width": null,
      "object_fit": null,
      "object_position": null,
      "order": null,
      "overflow": null,
      "overflow_x": null,
      "overflow_y": null,
      "padding": null,
      "right": null,
      "top": null,
      "visibility": null,
      "width": null
     }
    },
    "2c4b80c3dc554694810992b9cf5754cd": {
     "model_module": "@jupyter-widgets/controls",
     "model_name": "DescriptionStyleModel",
     "model_module_version": "1.5.0",
     "state": {
      "_model_module": "@jupyter-widgets/controls",
      "_model_module_version": "1.5.0",
      "_model_name": "DescriptionStyleModel",
      "_view_count": null,
      "_view_module": "@jupyter-widgets/base",
      "_view_module_version": "1.2.0",
      "_view_name": "StyleView",
      "description_width": ""
     }
    },
    "f264fb574a7c406387087a89fa93e603": {
     "model_module": "@jupyter-widgets/controls",
     "model_name": "HBoxModel",
     "model_module_version": "1.5.0",
     "state": {
      "_dom_classes": [],
      "_model_module": "@jupyter-widgets/controls",
      "_model_module_version": "1.5.0",
      "_model_name": "HBoxModel",
      "_view_count": null,
      "_view_module": "@jupyter-widgets/controls",
      "_view_module_version": "1.5.0",
      "_view_name": "HBoxView",
      "box_style": "",
      "children": [
       "IPY_MODEL_fa7363eda81d4a1b8ec1c48c0b5c936a",
       "IPY_MODEL_740cf6f334c144e0b0765e1c3beee84d",
       "IPY_MODEL_b4f3ea10b3404c7aad00af50377b6671"
      ],
      "layout": "IPY_MODEL_a9d4f845c1104f1582fd9fa18cce58a8"
     }
    },
    "fa7363eda81d4a1b8ec1c48c0b5c936a": {
     "model_module": "@jupyter-widgets/controls",
     "model_name": "HTMLModel",
     "model_module_version": "1.5.0",
     "state": {
      "_dom_classes": [],
      "_model_module": "@jupyter-widgets/controls",
      "_model_module_version": "1.5.0",
      "_model_name": "HTMLModel",
      "_view_count": null,
      "_view_module": "@jupyter-widgets/controls",
      "_view_module_version": "1.5.0",
      "_view_name": "HTMLView",
      "description": "",
      "description_tooltip": null,
      "layout": "IPY_MODEL_8d875ebcd9b94da4bd8ccb97637ce6e2",
      "placeholder": "​",
      "style": "IPY_MODEL_1a0af3afa9154c3eaf4673c1ccb91020",
      "value": "special_tokens_map.json: 100%"
     }
    },
    "740cf6f334c144e0b0765e1c3beee84d": {
     "model_module": "@jupyter-widgets/controls",
     "model_name": "FloatProgressModel",
     "model_module_version": "1.5.0",
     "state": {
      "_dom_classes": [],
      "_model_module": "@jupyter-widgets/controls",
      "_model_module_version": "1.5.0",
      "_model_name": "FloatProgressModel",
      "_view_count": null,
      "_view_module": "@jupyter-widgets/controls",
      "_view_module_version": "1.5.0",
      "_view_name": "ProgressView",
      "bar_style": "success",
      "description": "",
      "description_tooltip": null,
      "layout": "IPY_MODEL_62a8eface2934c3299d573a0d4d8adaa",
      "max": 2543,
      "min": 0,
      "orientation": "horizontal",
      "style": "IPY_MODEL_bb619473eafb4ee1a43fba9eaa8a25bf",
      "value": 2543
     }
    },
    "b4f3ea10b3404c7aad00af50377b6671": {
     "model_module": "@jupyter-widgets/controls",
     "model_name": "HTMLModel",
     "model_module_version": "1.5.0",
     "state": {
      "_dom_classes": [],
      "_model_module": "@jupyter-widgets/controls",
      "_model_module_version": "1.5.0",
      "_model_name": "HTMLModel",
      "_view_count": null,
      "_view_module": "@jupyter-widgets/controls",
      "_view_module_version": "1.5.0",
      "_view_name": "HTMLView",
      "description": "",
      "description_tooltip": null,
      "layout": "IPY_MODEL_6bbeee5cb83f405d8e01d5fa95732c89",
      "placeholder": "​",
      "style": "IPY_MODEL_8197e099be6143ff90c6dca332513905",
      "value": " 2.54k/2.54k [00:00&lt;00:00, 74.5kB/s]"
     }
    },
    "a9d4f845c1104f1582fd9fa18cce58a8": {
     "model_module": "@jupyter-widgets/base",
     "model_name": "LayoutModel",
     "model_module_version": "1.2.0",
     "state": {
      "_model_module": "@jupyter-widgets/base",
      "_model_module_version": "1.2.0",
      "_model_name": "LayoutModel",
      "_view_count": null,
      "_view_module": "@jupyter-widgets/base",
      "_view_module_version": "1.2.0",
      "_view_name": "LayoutView",
      "align_content": null,
      "align_items": null,
      "align_self": null,
      "border": null,
      "bottom": null,
      "display": null,
      "flex": null,
      "flex_flow": null,
      "grid_area": null,
      "grid_auto_columns": null,
      "grid_auto_flow": null,
      "grid_auto_rows": null,
      "grid_column": null,
      "grid_gap": null,
      "grid_row": null,
      "grid_template_areas": null,
      "grid_template_columns": null,
      "grid_template_rows": null,
      "height": null,
      "justify_content": null,
      "justify_items": null,
      "left": null,
      "margin": null,
      "max_height": null,
      "max_width": null,
      "min_height": null,
      "min_width": null,
      "object_fit": null,
      "object_position": null,
      "order": null,
      "overflow": null,
      "overflow_x": null,
      "overflow_y": null,
      "padding": null,
      "right": null,
      "top": null,
      "visibility": null,
      "width": null
     }
    },
    "8d875ebcd9b94da4bd8ccb97637ce6e2": {
     "model_module": "@jupyter-widgets/base",
     "model_name": "LayoutModel",
     "model_module_version": "1.2.0",
     "state": {
      "_model_module": "@jupyter-widgets/base",
      "_model_module_version": "1.2.0",
      "_model_name": "LayoutModel",
      "_view_count": null,
      "_view_module": "@jupyter-widgets/base",
      "_view_module_version": "1.2.0",
      "_view_name": "LayoutView",
      "align_content": null,
      "align_items": null,
      "align_self": null,
      "border": null,
      "bottom": null,
      "display": null,
      "flex": null,
      "flex_flow": null,
      "grid_area": null,
      "grid_auto_columns": null,
      "grid_auto_flow": null,
      "grid_auto_rows": null,
      "grid_column": null,
      "grid_gap": null,
      "grid_row": null,
      "grid_template_areas": null,
      "grid_template_columns": null,
      "grid_template_rows": null,
      "height": null,
      "justify_content": null,
      "justify_items": null,
      "left": null,
      "margin": null,
      "max_height": null,
      "max_width": null,
      "min_height": null,
      "min_width": null,
      "object_fit": null,
      "object_position": null,
      "order": null,
      "overflow": null,
      "overflow_x": null,
      "overflow_y": null,
      "padding": null,
      "right": null,
      "top": null,
      "visibility": null,
      "width": null
     }
    },
    "1a0af3afa9154c3eaf4673c1ccb91020": {
     "model_module": "@jupyter-widgets/controls",
     "model_name": "DescriptionStyleModel",
     "model_module_version": "1.5.0",
     "state": {
      "_model_module": "@jupyter-widgets/controls",
      "_model_module_version": "1.5.0",
      "_model_name": "DescriptionStyleModel",
      "_view_count": null,
      "_view_module": "@jupyter-widgets/base",
      "_view_module_version": "1.2.0",
      "_view_name": "StyleView",
      "description_width": ""
     }
    },
    "62a8eface2934c3299d573a0d4d8adaa": {
     "model_module": "@jupyter-widgets/base",
     "model_name": "LayoutModel",
     "model_module_version": "1.2.0",
     "state": {
      "_model_module": "@jupyter-widgets/base",
      "_model_module_version": "1.2.0",
      "_model_name": "LayoutModel",
      "_view_count": null,
      "_view_module": "@jupyter-widgets/base",
      "_view_module_version": "1.2.0",
      "_view_name": "LayoutView",
      "align_content": null,
      "align_items": null,
      "align_self": null,
      "border": null,
      "bottom": null,
      "display": null,
      "flex": null,
      "flex_flow": null,
      "grid_area": null,
      "grid_auto_columns": null,
      "grid_auto_flow": null,
      "grid_auto_rows": null,
      "grid_column": null,
      "grid_gap": null,
      "grid_row": null,
      "grid_template_areas": null,
      "grid_template_columns": null,
      "grid_template_rows": null,
      "height": null,
      "justify_content": null,
      "justify_items": null,
      "left": null,
      "margin": null,
      "max_height": null,
      "max_width": null,
      "min_height": null,
      "min_width": null,
      "object_fit": null,
      "object_position": null,
      "order": null,
      "overflow": null,
      "overflow_x": null,
      "overflow_y": null,
      "padding": null,
      "right": null,
      "top": null,
      "visibility": null,
      "width": null
     }
    },
    "bb619473eafb4ee1a43fba9eaa8a25bf": {
     "model_module": "@jupyter-widgets/controls",
     "model_name": "ProgressStyleModel",
     "model_module_version": "1.5.0",
     "state": {
      "_model_module": "@jupyter-widgets/controls",
      "_model_module_version": "1.5.0",
      "_model_name": "ProgressStyleModel",
      "_view_count": null,
      "_view_module": "@jupyter-widgets/base",
      "_view_module_version": "1.2.0",
      "_view_name": "StyleView",
      "bar_color": null,
      "description_width": ""
     }
    },
    "6bbeee5cb83f405d8e01d5fa95732c89": {
     "model_module": "@jupyter-widgets/base",
     "model_name": "LayoutModel",
     "model_module_version": "1.2.0",
     "state": {
      "_model_module": "@jupyter-widgets/base",
      "_model_module_version": "1.2.0",
      "_model_name": "LayoutModel",
      "_view_count": null,
      "_view_module": "@jupyter-widgets/base",
      "_view_module_version": "1.2.0",
      "_view_name": "LayoutView",
      "align_content": null,
      "align_items": null,
      "align_self": null,
      "border": null,
      "bottom": null,
      "display": null,
      "flex": null,
      "flex_flow": null,
      "grid_area": null,
      "grid_auto_columns": null,
      "grid_auto_flow": null,
      "grid_auto_rows": null,
      "grid_column": null,
      "grid_gap": null,
      "grid_row": null,
      "grid_template_areas": null,
      "grid_template_columns": null,
      "grid_template_rows": null,
      "height": null,
      "justify_content": null,
      "justify_items": null,
      "left": null,
      "margin": null,
      "max_height": null,
      "max_width": null,
      "min_height": null,
      "min_width": null,
      "object_fit": null,
      "object_position": null,
      "order": null,
      "overflow": null,
      "overflow_x": null,
      "overflow_y": null,
      "padding": null,
      "right": null,
      "top": null,
      "visibility": null,
      "width": null
     }
    },
    "8197e099be6143ff90c6dca332513905": {
     "model_module": "@jupyter-widgets/controls",
     "model_name": "DescriptionStyleModel",
     "model_module_version": "1.5.0",
     "state": {
      "_model_module": "@jupyter-widgets/controls",
      "_model_module_version": "1.5.0",
      "_model_name": "DescriptionStyleModel",
      "_view_count": null,
      "_view_module": "@jupyter-widgets/base",
      "_view_module_version": "1.2.0",
      "_view_name": "StyleView",
      "description_width": ""
     }
    },
    "48f1ab8c57d2429993d1c0be232dfd0b": {
     "model_module": "@jupyter-widgets/controls",
     "model_name": "HBoxModel",
     "model_module_version": "1.5.0",
     "state": {
      "_dom_classes": [],
      "_model_module": "@jupyter-widgets/controls",
      "_model_module_version": "1.5.0",
      "_model_name": "HBoxModel",
      "_view_count": null,
      "_view_module": "@jupyter-widgets/controls",
      "_view_module_version": "1.5.0",
      "_view_name": "HBoxView",
      "box_style": "",
      "children": [
       "IPY_MODEL_393cd5dfb49f4c458ae63ea8f72a7d49",
       "IPY_MODEL_2efc1bd1e7d640de96076d11011b3cbf",
       "IPY_MODEL_af3c6ba142364b9f85e296559ce4db2c"
      ],
      "layout": "IPY_MODEL_3e58ad5cd05c4a9c9484a6ad2932643f"
     }
    },
    "393cd5dfb49f4c458ae63ea8f72a7d49": {
     "model_module": "@jupyter-widgets/controls",
     "model_name": "HTMLModel",
     "model_module_version": "1.5.0",
     "state": {
      "_dom_classes": [],
      "_model_module": "@jupyter-widgets/controls",
      "_model_module_version": "1.5.0",
      "_model_name": "HTMLModel",
      "_view_count": null,
      "_view_module": "@jupyter-widgets/controls",
      "_view_module_version": "1.5.0",
      "_view_name": "HTMLView",
      "description": "",
      "description_tooltip": null,
      "layout": "IPY_MODEL_ae032e14c54540cfbfffa159c8fee2d9",
      "placeholder": "​",
      "style": "IPY_MODEL_915f2d53f2634ab59c90a6db889f1008",
      "value": "config.json: 100%"
     }
    },
    "2efc1bd1e7d640de96076d11011b3cbf": {
     "model_module": "@jupyter-widgets/controls",
     "model_name": "FloatProgressModel",
     "model_module_version": "1.5.0",
     "state": {
      "_dom_classes": [],
      "_model_module": "@jupyter-widgets/controls",
      "_model_module_version": "1.5.0",
      "_model_name": "FloatProgressModel",
      "_view_count": null,
      "_view_module": "@jupyter-widgets/controls",
      "_view_module_version": "1.5.0",
      "_view_name": "ProgressView",
      "bar_style": "success",
      "description": "",
      "description_tooltip": null,
      "layout": "IPY_MODEL_f4c735b7be8b427f99b343a0818876b7",
      "max": 1502,
      "min": 0,
      "orientation": "horizontal",
      "style": "IPY_MODEL_fd6a19b4178a411dbd7e16aec4072c95",
      "value": 1502
     }
    },
    "af3c6ba142364b9f85e296559ce4db2c": {
     "model_module": "@jupyter-widgets/controls",
     "model_name": "HTMLModel",
     "model_module_version": "1.5.0",
     "state": {
      "_dom_classes": [],
      "_model_module": "@jupyter-widgets/controls",
      "_model_module_version": "1.5.0",
      "_model_name": "HTMLModel",
      "_view_count": null,
      "_view_module": "@jupyter-widgets/controls",
      "_view_module_version": "1.5.0",
      "_view_name": "HTMLView",
      "description": "",
      "description_tooltip": null,
      "layout": "IPY_MODEL_e96b4eed8c48459985e5f3336896e1aa",
      "placeholder": "​",
      "style": "IPY_MODEL_1d0de61e04214253893b679f5c6e4af7",
      "value": " 1.50k/1.50k [00:00&lt;00:00, 113kB/s]"
     }
    },
    "3e58ad5cd05c4a9c9484a6ad2932643f": {
     "model_module": "@jupyter-widgets/base",
     "model_name": "LayoutModel",
     "model_module_version": "1.2.0",
     "state": {
      "_model_module": "@jupyter-widgets/base",
      "_model_module_version": "1.2.0",
      "_model_name": "LayoutModel",
      "_view_count": null,
      "_view_module": "@jupyter-widgets/base",
      "_view_module_version": "1.2.0",
      "_view_name": "LayoutView",
      "align_content": null,
      "align_items": null,
      "align_self": null,
      "border": null,
      "bottom": null,
      "display": null,
      "flex": null,
      "flex_flow": null,
      "grid_area": null,
      "grid_auto_columns": null,
      "grid_auto_flow": null,
      "grid_auto_rows": null,
      "grid_column": null,
      "grid_gap": null,
      "grid_row": null,
      "grid_template_areas": null,
      "grid_template_columns": null,
      "grid_template_rows": null,
      "height": null,
      "justify_content": null,
      "justify_items": null,
      "left": null,
      "margin": null,
      "max_height": null,
      "max_width": null,
      "min_height": null,
      "min_width": null,
      "object_fit": null,
      "object_position": null,
      "order": null,
      "overflow": null,
      "overflow_x": null,
      "overflow_y": null,
      "padding": null,
      "right": null,
      "top": null,
      "visibility": null,
      "width": null
     }
    },
    "ae032e14c54540cfbfffa159c8fee2d9": {
     "model_module": "@jupyter-widgets/base",
     "model_name": "LayoutModel",
     "model_module_version": "1.2.0",
     "state": {
      "_model_module": "@jupyter-widgets/base",
      "_model_module_version": "1.2.0",
      "_model_name": "LayoutModel",
      "_view_count": null,
      "_view_module": "@jupyter-widgets/base",
      "_view_module_version": "1.2.0",
      "_view_name": "LayoutView",
      "align_content": null,
      "align_items": null,
      "align_self": null,
      "border": null,
      "bottom": null,
      "display": null,
      "flex": null,
      "flex_flow": null,
      "grid_area": null,
      "grid_auto_columns": null,
      "grid_auto_flow": null,
      "grid_auto_rows": null,
      "grid_column": null,
      "grid_gap": null,
      "grid_row": null,
      "grid_template_areas": null,
      "grid_template_columns": null,
      "grid_template_rows": null,
      "height": null,
      "justify_content": null,
      "justify_items": null,
      "left": null,
      "margin": null,
      "max_height": null,
      "max_width": null,
      "min_height": null,
      "min_width": null,
      "object_fit": null,
      "object_position": null,
      "order": null,
      "overflow": null,
      "overflow_x": null,
      "overflow_y": null,
      "padding": null,
      "right": null,
      "top": null,
      "visibility": null,
      "width": null
     }
    },
    "915f2d53f2634ab59c90a6db889f1008": {
     "model_module": "@jupyter-widgets/controls",
     "model_name": "DescriptionStyleModel",
     "model_module_version": "1.5.0",
     "state": {
      "_model_module": "@jupyter-widgets/controls",
      "_model_module_version": "1.5.0",
      "_model_name": "DescriptionStyleModel",
      "_view_count": null,
      "_view_module": "@jupyter-widgets/base",
      "_view_module_version": "1.2.0",
      "_view_name": "StyleView",
      "description_width": ""
     }
    },
    "f4c735b7be8b427f99b343a0818876b7": {
     "model_module": "@jupyter-widgets/base",
     "model_name": "LayoutModel",
     "model_module_version": "1.2.0",
     "state": {
      "_model_module": "@jupyter-widgets/base",
      "_model_module_version": "1.2.0",
      "_model_name": "LayoutModel",
      "_view_count": null,
      "_view_module": "@jupyter-widgets/base",
      "_view_module_version": "1.2.0",
      "_view_name": "LayoutView",
      "align_content": null,
      "align_items": null,
      "align_self": null,
      "border": null,
      "bottom": null,
      "display": null,
      "flex": null,
      "flex_flow": null,
      "grid_area": null,
      "grid_auto_columns": null,
      "grid_auto_flow": null,
      "grid_auto_rows": null,
      "grid_column": null,
      "grid_gap": null,
      "grid_row": null,
      "grid_template_areas": null,
      "grid_template_columns": null,
      "grid_template_rows": null,
      "height": null,
      "justify_content": null,
      "justify_items": null,
      "left": null,
      "margin": null,
      "max_height": null,
      "max_width": null,
      "min_height": null,
      "min_width": null,
      "object_fit": null,
      "object_position": null,
      "order": null,
      "overflow": null,
      "overflow_x": null,
      "overflow_y": null,
      "padding": null,
      "right": null,
      "top": null,
      "visibility": null,
      "width": null
     }
    },
    "fd6a19b4178a411dbd7e16aec4072c95": {
     "model_module": "@jupyter-widgets/controls",
     "model_name": "ProgressStyleModel",
     "model_module_version": "1.5.0",
     "state": {
      "_model_module": "@jupyter-widgets/controls",
      "_model_module_version": "1.5.0",
      "_model_name": "ProgressStyleModel",
      "_view_count": null,
      "_view_module": "@jupyter-widgets/base",
      "_view_module_version": "1.2.0",
      "_view_name": "StyleView",
      "bar_color": null,
      "description_width": ""
     }
    },
    "e96b4eed8c48459985e5f3336896e1aa": {
     "model_module": "@jupyter-widgets/base",
     "model_name": "LayoutModel",
     "model_module_version": "1.2.0",
     "state": {
      "_model_module": "@jupyter-widgets/base",
      "_model_module_version": "1.2.0",
      "_model_name": "LayoutModel",
      "_view_count": null,
      "_view_module": "@jupyter-widgets/base",
      "_view_module_version": "1.2.0",
      "_view_name": "LayoutView",
      "align_content": null,
      "align_items": null,
      "align_self": null,
      "border": null,
      "bottom": null,
      "display": null,
      "flex": null,
      "flex_flow": null,
      "grid_area": null,
      "grid_auto_columns": null,
      "grid_auto_flow": null,
      "grid_auto_rows": null,
      "grid_column": null,
      "grid_gap": null,
      "grid_row": null,
      "grid_template_areas": null,
      "grid_template_columns": null,
      "grid_template_rows": null,
      "height": null,
      "justify_content": null,
      "justify_items": null,
      "left": null,
      "margin": null,
      "max_height": null,
      "max_width": null,
      "min_height": null,
      "min_width": null,
      "object_fit": null,
      "object_position": null,
      "order": null,
      "overflow": null,
      "overflow_x": null,
      "overflow_y": null,
      "padding": null,
      "right": null,
      "top": null,
      "visibility": null,
      "width": null
     }
    },
    "1d0de61e04214253893b679f5c6e4af7": {
     "model_module": "@jupyter-widgets/controls",
     "model_name": "DescriptionStyleModel",
     "model_module_version": "1.5.0",
     "state": {
      "_model_module": "@jupyter-widgets/controls",
      "_model_module_version": "1.5.0",
      "_model_name": "DescriptionStyleModel",
      "_view_count": null,
      "_view_module": "@jupyter-widgets/base",
      "_view_module_version": "1.2.0",
      "_view_name": "StyleView",
      "description_width": ""
     }
    },
    "13eff104721043b3832574d727b908b0": {
     "model_module": "@jupyter-widgets/controls",
     "model_name": "HBoxModel",
     "model_module_version": "1.5.0",
     "state": {
      "_dom_classes": [],
      "_model_module": "@jupyter-widgets/controls",
      "_model_module_version": "1.5.0",
      "_model_name": "HBoxModel",
      "_view_count": null,
      "_view_module": "@jupyter-widgets/controls",
      "_view_module_version": "1.5.0",
      "_view_name": "HBoxView",
      "box_style": "",
      "children": [
       "IPY_MODEL_7d74ccbb4d694749bd1b05b718b9b42b",
       "IPY_MODEL_8ce361fba6084635a77fb4347569a4d6",
       "IPY_MODEL_d749285618a24cb1961ea969b63238ab"
      ],
      "layout": "IPY_MODEL_c8f3ddf82e1f4ddea7bcd3e00f0d9ab2"
     }
    },
    "7d74ccbb4d694749bd1b05b718b9b42b": {
     "model_module": "@jupyter-widgets/controls",
     "model_name": "HTMLModel",
     "model_module_version": "1.5.0",
     "state": {
      "_dom_classes": [],
      "_model_module": "@jupyter-widgets/controls",
      "_model_module_version": "1.5.0",
      "_model_name": "HTMLModel",
      "_view_count": null,
      "_view_module": "@jupyter-widgets/controls",
      "_view_module_version": "1.5.0",
      "_view_name": "HTMLView",
      "description": "",
      "description_tooltip": null,
      "layout": "IPY_MODEL_a84c66278ef94036a7ea4d5f0acbb84a",
      "placeholder": "​",
      "style": "IPY_MODEL_b9ea8a932ca44d6c8acd450371e9544f",
      "value": "model.safetensors: 100%"
     }
    },
    "8ce361fba6084635a77fb4347569a4d6": {
     "model_module": "@jupyter-widgets/controls",
     "model_name": "FloatProgressModel",
     "model_module_version": "1.5.0",
     "state": {
      "_dom_classes": [],
      "_model_module": "@jupyter-widgets/controls",
      "_model_module_version": "1.5.0",
      "_model_name": "FloatProgressModel",
      "_view_count": null,
      "_view_module": "@jupyter-widgets/controls",
      "_view_module_version": "1.5.0",
      "_view_name": "ProgressView",
      "bar_style": "success",
      "description": "",
      "description_tooltip": null,
      "layout": "IPY_MODEL_5a8d91d33a724646ae29daf68b3950a8",
      "max": 242041896,
      "min": 0,
      "orientation": "horizontal",
      "style": "IPY_MODEL_cf7d3151c6144a5f93e0ad7902cbd608",
      "value": 242041896
     }
    },
    "d749285618a24cb1961ea969b63238ab": {
     "model_module": "@jupyter-widgets/controls",
     "model_name": "HTMLModel",
     "model_module_version": "1.5.0",
     "state": {
      "_dom_classes": [],
      "_model_module": "@jupyter-widgets/controls",
      "_model_module_version": "1.5.0",
      "_model_name": "HTMLModel",
      "_view_count": null,
      "_view_module": "@jupyter-widgets/controls",
      "_view_module_version": "1.5.0",
      "_view_name": "HTMLView",
      "description": "",
      "description_tooltip": null,
      "layout": "IPY_MODEL_5a0d29214f954dc086ebc2fe9d23562c",
      "placeholder": "​",
      "style": "IPY_MODEL_9cbe1f79f5ab4e008c58308b814fb3ad",
      "value": " 242M/242M [00:11&lt;00:00, 24.1MB/s]"
     }
    },
    "c8f3ddf82e1f4ddea7bcd3e00f0d9ab2": {
     "model_module": "@jupyter-widgets/base",
     "model_name": "LayoutModel",
     "model_module_version": "1.2.0",
     "state": {
      "_model_module": "@jupyter-widgets/base",
      "_model_module_version": "1.2.0",
      "_model_name": "LayoutModel",
      "_view_count": null,
      "_view_module": "@jupyter-widgets/base",
      "_view_module_version": "1.2.0",
      "_view_name": "LayoutView",
      "align_content": null,
      "align_items": null,
      "align_self": null,
      "border": null,
      "bottom": null,
      "display": null,
      "flex": null,
      "flex_flow": null,
      "grid_area": null,
      "grid_auto_columns": null,
      "grid_auto_flow": null,
      "grid_auto_rows": null,
      "grid_column": null,
      "grid_gap": null,
      "grid_row": null,
      "grid_template_areas": null,
      "grid_template_columns": null,
      "grid_template_rows": null,
      "height": null,
      "justify_content": null,
      "justify_items": null,
      "left": null,
      "margin": null,
      "max_height": null,
      "max_width": null,
      "min_height": null,
      "min_width": null,
      "object_fit": null,
      "object_position": null,
      "order": null,
      "overflow": null,
      "overflow_x": null,
      "overflow_y": null,
      "padding": null,
      "right": null,
      "top": null,
      "visibility": null,
      "width": null
     }
    },
    "a84c66278ef94036a7ea4d5f0acbb84a": {
     "model_module": "@jupyter-widgets/base",
     "model_name": "LayoutModel",
     "model_module_version": "1.2.0",
     "state": {
      "_model_module": "@jupyter-widgets/base",
      "_model_module_version": "1.2.0",
      "_model_name": "LayoutModel",
      "_view_count": null,
      "_view_module": "@jupyter-widgets/base",
      "_view_module_version": "1.2.0",
      "_view_name": "LayoutView",
      "align_content": null,
      "align_items": null,
      "align_self": null,
      "border": null,
      "bottom": null,
      "display": null,
      "flex": null,
      "flex_flow": null,
      "grid_area": null,
      "grid_auto_columns": null,
      "grid_auto_flow": null,
      "grid_auto_rows": null,
      "grid_column": null,
      "grid_gap": null,
      "grid_row": null,
      "grid_template_areas": null,
      "grid_template_columns": null,
      "grid_template_rows": null,
      "height": null,
      "justify_content": null,
      "justify_items": null,
      "left": null,
      "margin": null,
      "max_height": null,
      "max_width": null,
      "min_height": null,
      "min_width": null,
      "object_fit": null,
      "object_position": null,
      "order": null,
      "overflow": null,
      "overflow_x": null,
      "overflow_y": null,
      "padding": null,
      "right": null,
      "top": null,
      "visibility": null,
      "width": null
     }
    },
    "b9ea8a932ca44d6c8acd450371e9544f": {
     "model_module": "@jupyter-widgets/controls",
     "model_name": "DescriptionStyleModel",
     "model_module_version": "1.5.0",
     "state": {
      "_model_module": "@jupyter-widgets/controls",
      "_model_module_version": "1.5.0",
      "_model_name": "DescriptionStyleModel",
      "_view_count": null,
      "_view_module": "@jupyter-widgets/base",
      "_view_module_version": "1.2.0",
      "_view_name": "StyleView",
      "description_width": ""
     }
    },
    "5a8d91d33a724646ae29daf68b3950a8": {
     "model_module": "@jupyter-widgets/base",
     "model_name": "LayoutModel",
     "model_module_version": "1.2.0",
     "state": {
      "_model_module": "@jupyter-widgets/base",
      "_model_module_version": "1.2.0",
      "_model_name": "LayoutModel",
      "_view_count": null,
      "_view_module": "@jupyter-widgets/base",
      "_view_module_version": "1.2.0",
      "_view_name": "LayoutView",
      "align_content": null,
      "align_items": null,
      "align_self": null,
      "border": null,
      "bottom": null,
      "display": null,
      "flex": null,
      "flex_flow": null,
      "grid_area": null,
      "grid_auto_columns": null,
      "grid_auto_flow": null,
      "grid_auto_rows": null,
      "grid_column": null,
      "grid_gap": null,
      "grid_row": null,
      "grid_template_areas": null,
      "grid_template_columns": null,
      "grid_template_rows": null,
      "height": null,
      "justify_content": null,
      "justify_items": null,
      "left": null,
      "margin": null,
      "max_height": null,
      "max_width": null,
      "min_height": null,
      "min_width": null,
      "object_fit": null,
      "object_position": null,
      "order": null,
      "overflow": null,
      "overflow_x": null,
      "overflow_y": null,
      "padding": null,
      "right": null,
      "top": null,
      "visibility": null,
      "width": null
     }
    },
    "cf7d3151c6144a5f93e0ad7902cbd608": {
     "model_module": "@jupyter-widgets/controls",
     "model_name": "ProgressStyleModel",
     "model_module_version": "1.5.0",
     "state": {
      "_model_module": "@jupyter-widgets/controls",
      "_model_module_version": "1.5.0",
      "_model_name": "ProgressStyleModel",
      "_view_count": null,
      "_view_module": "@jupyter-widgets/base",
      "_view_module_version": "1.2.0",
      "_view_name": "StyleView",
      "bar_color": null,
      "description_width": ""
     }
    },
    "5a0d29214f954dc086ebc2fe9d23562c": {
     "model_module": "@jupyter-widgets/base",
     "model_name": "LayoutModel",
     "model_module_version": "1.2.0",
     "state": {
      "_model_module": "@jupyter-widgets/base",
      "_model_module_version": "1.2.0",
      "_model_name": "LayoutModel",
      "_view_count": null,
      "_view_module": "@jupyter-widgets/base",
      "_view_module_version": "1.2.0",
      "_view_name": "LayoutView",
      "align_content": null,
      "align_items": null,
      "align_self": null,
      "border": null,
      "bottom": null,
      "display": null,
      "flex": null,
      "flex_flow": null,
      "grid_area": null,
      "grid_auto_columns": null,
      "grid_auto_flow": null,
      "grid_auto_rows": null,
      "grid_column": null,
      "grid_gap": null,
      "grid_row": null,
      "grid_template_areas": null,
      "grid_template_columns": null,
      "grid_template_rows": null,
      "height": null,
      "justify_content": null,
      "justify_items": null,
      "left": null,
      "margin": null,
      "max_height": null,
      "max_width": null,
      "min_height": null,
      "min_width": null,
      "object_fit": null,
      "object_position": null,
      "order": null,
      "overflow": null,
      "overflow_x": null,
      "overflow_y": null,
      "padding": null,
      "right": null,
      "top": null,
      "visibility": null,
      "width": null
     }
    },
    "9cbe1f79f5ab4e008c58308b814fb3ad": {
     "model_module": "@jupyter-widgets/controls",
     "model_name": "DescriptionStyleModel",
     "model_module_version": "1.5.0",
     "state": {
      "_model_module": "@jupyter-widgets/controls",
      "_model_module_version": "1.5.0",
      "_model_name": "DescriptionStyleModel",
      "_view_count": null,
      "_view_module": "@jupyter-widgets/base",
      "_view_module_version": "1.2.0",
      "_view_name": "StyleView",
      "description_width": ""
     }
    },
    "0666fbe7bd044316a058054faf6210d7": {
     "model_module": "@jupyter-widgets/controls",
     "model_name": "HBoxModel",
     "model_module_version": "1.5.0",
     "state": {
      "_dom_classes": [],
      "_model_module": "@jupyter-widgets/controls",
      "_model_module_version": "1.5.0",
      "_model_name": "HBoxModel",
      "_view_count": null,
      "_view_module": "@jupyter-widgets/controls",
      "_view_module_version": "1.5.0",
      "_view_name": "HBoxView",
      "box_style": "",
      "children": [
       "IPY_MODEL_bf0d6d9ce4274843a03c97479dc8ee57",
       "IPY_MODEL_d31a74290cfb4edd9510fec48317c9ec",
       "IPY_MODEL_0644c9aa7ed94b139e680bfc571eca9e"
      ],
      "layout": "IPY_MODEL_1faef07a644d489b9f3a78d1e7b083b1"
     }
    },
    "bf0d6d9ce4274843a03c97479dc8ee57": {
     "model_module": "@jupyter-widgets/controls",
     "model_name": "HTMLModel",
     "model_module_version": "1.5.0",
     "state": {
      "_dom_classes": [],
      "_model_module": "@jupyter-widgets/controls",
      "_model_module_version": "1.5.0",
      "_model_name": "HTMLModel",
      "_view_count": null,
      "_view_module": "@jupyter-widgets/controls",
      "_view_module_version": "1.5.0",
      "_view_name": "HTMLView",
      "description": "",
      "description_tooltip": null,
      "layout": "IPY_MODEL_b44e2f76f7a94eed830ff1851b0f7da3",
      "placeholder": "​",
      "style": "IPY_MODEL_379aafa16e5a482499e14027dbc81f57",
      "value": "generation_config.json: 100%"
     }
    },
    "d31a74290cfb4edd9510fec48317c9ec": {
     "model_module": "@jupyter-widgets/controls",
     "model_name": "FloatProgressModel",
     "model_module_version": "1.5.0",
     "state": {
      "_dom_classes": [],
      "_model_module": "@jupyter-widgets/controls",
      "_model_module_version": "1.5.0",
      "_model_name": "FloatProgressModel",
      "_view_count": null,
      "_view_module": "@jupyter-widgets/controls",
      "_view_module_version": "1.5.0",
      "_view_name": "ProgressView",
      "bar_style": "success",
      "description": "",
      "description_tooltip": null,
      "layout": "IPY_MODEL_88bacfa26b604047b035fcc494ee121e",
      "max": 192,
      "min": 0,
      "orientation": "horizontal",
      "style": "IPY_MODEL_68aa1b9a64274109adbf8a48d3b78ce8",
      "value": 192
     }
    },
    "0644c9aa7ed94b139e680bfc571eca9e": {
     "model_module": "@jupyter-widgets/controls",
     "model_name": "HTMLModel",
     "model_module_version": "1.5.0",
     "state": {
      "_dom_classes": [],
      "_model_module": "@jupyter-widgets/controls",
      "_model_module_version": "1.5.0",
      "_model_name": "HTMLModel",
      "_view_count": null,
      "_view_module": "@jupyter-widgets/controls",
      "_view_module_version": "1.5.0",
      "_view_name": "HTMLView",
      "description": "",
      "description_tooltip": null,
      "layout": "IPY_MODEL_814771c405314ce9ab3d7dabad79c619",
      "placeholder": "​",
      "style": "IPY_MODEL_9afec2e058f8460389b10b607c5925ad",
      "value": " 192/192 [00:00&lt;00:00, 14.1kB/s]"
     }
    },
    "1faef07a644d489b9f3a78d1e7b083b1": {
     "model_module": "@jupyter-widgets/base",
     "model_name": "LayoutModel",
     "model_module_version": "1.2.0",
     "state": {
      "_model_module": "@jupyter-widgets/base",
      "_model_module_version": "1.2.0",
      "_model_name": "LayoutModel",
      "_view_count": null,
      "_view_module": "@jupyter-widgets/base",
      "_view_module_version": "1.2.0",
      "_view_name": "LayoutView",
      "align_content": null,
      "align_items": null,
      "align_self": null,
      "border": null,
      "bottom": null,
      "display": null,
      "flex": null,
      "flex_flow": null,
      "grid_area": null,
      "grid_auto_columns": null,
      "grid_auto_flow": null,
      "grid_auto_rows": null,
      "grid_column": null,
      "grid_gap": null,
      "grid_row": null,
      "grid_template_areas": null,
      "grid_template_columns": null,
      "grid_template_rows": null,
      "height": null,
      "justify_content": null,
      "justify_items": null,
      "left": null,
      "margin": null,
      "max_height": null,
      "max_width": null,
      "min_height": null,
      "min_width": null,
      "object_fit": null,
      "object_position": null,
      "order": null,
      "overflow": null,
      "overflow_x": null,
      "overflow_y": null,
      "padding": null,
      "right": null,
      "top": null,
      "visibility": null,
      "width": null
     }
    },
    "b44e2f76f7a94eed830ff1851b0f7da3": {
     "model_module": "@jupyter-widgets/base",
     "model_name": "LayoutModel",
     "model_module_version": "1.2.0",
     "state": {
      "_model_module": "@jupyter-widgets/base",
      "_model_module_version": "1.2.0",
      "_model_name": "LayoutModel",
      "_view_count": null,
      "_view_module": "@jupyter-widgets/base",
      "_view_module_version": "1.2.0",
      "_view_name": "LayoutView",
      "align_content": null,
      "align_items": null,
      "align_self": null,
      "border": null,
      "bottom": null,
      "display": null,
      "flex": null,
      "flex_flow": null,
      "grid_area": null,
      "grid_auto_columns": null,
      "grid_auto_flow": null,
      "grid_auto_rows": null,
      "grid_column": null,
      "grid_gap": null,
      "grid_row": null,
      "grid_template_areas": null,
      "grid_template_columns": null,
      "grid_template_rows": null,
      "height": null,
      "justify_content": null,
      "justify_items": null,
      "left": null,
      "margin": null,
      "max_height": null,
      "max_width": null,
      "min_height": null,
      "min_width": null,
      "object_fit": null,
      "object_position": null,
      "order": null,
      "overflow": null,
      "overflow_x": null,
      "overflow_y": null,
      "padding": null,
      "right": null,
      "top": null,
      "visibility": null,
      "width": null
     }
    },
    "379aafa16e5a482499e14027dbc81f57": {
     "model_module": "@jupyter-widgets/controls",
     "model_name": "DescriptionStyleModel",
     "model_module_version": "1.5.0",
     "state": {
      "_model_module": "@jupyter-widgets/controls",
      "_model_module_version": "1.5.0",
      "_model_name": "DescriptionStyleModel",
      "_view_count": null,
      "_view_module": "@jupyter-widgets/base",
      "_view_module_version": "1.2.0",
      "_view_name": "StyleView",
      "description_width": ""
     }
    },
    "88bacfa26b604047b035fcc494ee121e": {
     "model_module": "@jupyter-widgets/base",
     "model_name": "LayoutModel",
     "model_module_version": "1.2.0",
     "state": {
      "_model_module": "@jupyter-widgets/base",
      "_model_module_version": "1.2.0",
      "_model_name": "LayoutModel",
      "_view_count": null,
      "_view_module": "@jupyter-widgets/base",
      "_view_module_version": "1.2.0",
      "_view_name": "LayoutView",
      "align_content": null,
      "align_items": null,
      "align_self": null,
      "border": null,
      "bottom": null,
      "display": null,
      "flex": null,
      "flex_flow": null,
      "grid_area": null,
      "grid_auto_columns": null,
      "grid_auto_flow": null,
      "grid_auto_rows": null,
      "grid_column": null,
      "grid_gap": null,
      "grid_row": null,
      "grid_template_areas": null,
      "grid_template_columns": null,
      "grid_template_rows": null,
      "height": null,
      "justify_content": null,
      "justify_items": null,
      "left": null,
      "margin": null,
      "max_height": null,
      "max_width": null,
      "min_height": null,
      "min_width": null,
      "object_fit": null,
      "object_position": null,
      "order": null,
      "overflow": null,
      "overflow_x": null,
      "overflow_y": null,
      "padding": null,
      "right": null,
      "top": null,
      "visibility": null,
      "width": null
     }
    },
    "68aa1b9a64274109adbf8a48d3b78ce8": {
     "model_module": "@jupyter-widgets/controls",
     "model_name": "ProgressStyleModel",
     "model_module_version": "1.5.0",
     "state": {
      "_model_module": "@jupyter-widgets/controls",
      "_model_module_version": "1.5.0",
      "_model_name": "ProgressStyleModel",
      "_view_count": null,
      "_view_module": "@jupyter-widgets/base",
      "_view_module_version": "1.2.0",
      "_view_name": "StyleView",
      "bar_color": null,
      "description_width": ""
     }
    },
    "814771c405314ce9ab3d7dabad79c619": {
     "model_module": "@jupyter-widgets/base",
     "model_name": "LayoutModel",
     "model_module_version": "1.2.0",
     "state": {
      "_model_module": "@jupyter-widgets/base",
      "_model_module_version": "1.2.0",
      "_model_name": "LayoutModel",
      "_view_count": null,
      "_view_module": "@jupyter-widgets/base",
      "_view_module_version": "1.2.0",
      "_view_name": "LayoutView",
      "align_content": null,
      "align_items": null,
      "align_self": null,
      "border": null,
      "bottom": null,
      "display": null,
      "flex": null,
      "flex_flow": null,
      "grid_area": null,
      "grid_auto_columns": null,
      "grid_auto_flow": null,
      "grid_auto_rows": null,
      "grid_column": null,
      "grid_gap": null,
      "grid_row": null,
      "grid_template_areas": null,
      "grid_template_columns": null,
      "grid_template_rows": null,
      "height": null,
      "justify_content": null,
      "justify_items": null,
      "left": null,
      "margin": null,
      "max_height": null,
      "max_width": null,
      "min_height": null,
      "min_width": null,
      "object_fit": null,
      "object_position": null,
      "order": null,
      "overflow": null,
      "overflow_x": null,
      "overflow_y": null,
      "padding": null,
      "right": null,
      "top": null,
      "visibility": null,
      "width": null
     }
    },
    "9afec2e058f8460389b10b607c5925ad": {
     "model_module": "@jupyter-widgets/controls",
     "model_name": "DescriptionStyleModel",
     "model_module_version": "1.5.0",
     "state": {
      "_model_module": "@jupyter-widgets/controls",
      "_model_module_version": "1.5.0",
      "_model_name": "DescriptionStyleModel",
      "_view_count": null,
      "_view_module": "@jupyter-widgets/base",
      "_view_module_version": "1.2.0",
      "_view_name": "StyleView",
      "description_width": ""
     }
    }
   }
  }
 },
 "nbformat_minor": 0,
 "nbformat": 4,
 "cells": [
  {
   "cell_type": "code",
   "source": [
    "!pip install -q transformers[torch] transformers datasets"
   ],
   "metadata": {
    "trusted": true,
    "execution": {
     "iopub.status.busy": "2024-12-19T11:22:15.138716Z",
     "iopub.execute_input": "2024-12-19T11:22:15.139088Z",
     "iopub.status.idle": "2024-12-19T11:22:24.436696Z",
     "shell.execute_reply.started": "2024-12-19T11:22:15.139059Z",
     "shell.execute_reply": "2024-12-19T11:22:24.435656Z"
    },
    "colab": {
     "base_uri": "https://localhost:8080/"
    },
    "id": "LHSvmtBeO-gW",
    "outputId": "78188684-978c-4c0f-fe7f-11e71f3d458a"
   },
   "outputs": [
    {
     "output_type": "stream",
     "name": "stdout",
     "text": [
      "\u001B[2K   \u001B[90m━━━━━━━━━━━━━━━━━━━━━━━━━━━━━━━━━━━━━━━━\u001B[0m \u001B[32m480.6/480.6 kB\u001B[0m \u001B[31m2.3 MB/s\u001B[0m eta \u001B[36m0:00:00\u001B[0m\n",
      "\u001B[2K   \u001B[90m━━━━━━━━━━━━━━━━━━━━━━━━━━━━━━━━━━━━━━━━\u001B[0m \u001B[32m116.3/116.3 kB\u001B[0m \u001B[31m7.5 MB/s\u001B[0m eta \u001B[36m0:00:00\u001B[0m\n",
      "\u001B[2K   \u001B[90m━━━━━━━━━━━━━━━━━━━━━━━━━━━━━━━━━━━━━━━━\u001B[0m \u001B[32m179.3/179.3 kB\u001B[0m \u001B[31m14.0 MB/s\u001B[0m eta \u001B[36m0:00:00\u001B[0m\n",
      "\u001B[2K   \u001B[90m━━━━━━━━━━━━━━━━━━━━━━━━━━━━━━━━━━━━━━━━\u001B[0m \u001B[32m134.8/134.8 kB\u001B[0m \u001B[31m11.5 MB/s\u001B[0m eta \u001B[36m0:00:00\u001B[0m\n",
      "\u001B[2K   \u001B[90m━━━━━━━━━━━━━━━━━━━━━━━━━━━━━━━━━━━━━━━━\u001B[0m \u001B[32m194.1/194.1 kB\u001B[0m \u001B[31m11.6 MB/s\u001B[0m eta \u001B[36m0:00:00\u001B[0m\n",
      "\u001B[?25h\u001B[31mERROR: pip's dependency resolver does not currently take into account all the packages that are installed. This behaviour is the source of the following dependency conflicts.\n",
      "gcsfs 2024.10.0 requires fsspec==2024.10.0, but you have fsspec 2024.9.0 which is incompatible.\u001B[0m\u001B[31m\n",
      "\u001B[0m"
     ]
    }
   ],
   "execution_count": 1
  },
  {
   "cell_type": "code",
   "source": [
    "!pip install pymongo[srv]"
   ],
   "metadata": {
    "trusted": true,
    "execution": {
     "iopub.status.busy": "2024-12-19T11:22:24.438117Z",
     "iopub.execute_input": "2024-12-19T11:22:24.438438Z",
     "iopub.status.idle": "2024-12-19T11:22:32.486820Z",
     "shell.execute_reply.started": "2024-12-19T11:22:24.438410Z",
     "shell.execute_reply": "2024-12-19T11:22:32.485429Z"
    },
    "colab": {
     "base_uri": "https://localhost:8080/"
    },
    "id": "EfbLhzNLO-gW",
    "outputId": "8e042925-808a-4a0e-9ffc-f058eae87532"
   },
   "outputs": [
    {
     "output_type": "stream",
     "name": "stdout",
     "text": [
      "Collecting pymongo[srv]\n",
      "  Downloading pymongo-4.10.1-cp310-cp310-manylinux_2_17_x86_64.manylinux2014_x86_64.whl.metadata (22 kB)\n",
      "\u001B[33mWARNING: pymongo 4.10.1 does not provide the extra 'srv'\u001B[0m\u001B[33m\n",
      "\u001B[0mCollecting dnspython<3.0.0,>=1.16.0 (from pymongo[srv])\n",
      "  Downloading dnspython-2.7.0-py3-none-any.whl.metadata (5.8 kB)\n",
      "Downloading dnspython-2.7.0-py3-none-any.whl (313 kB)\n",
      "\u001B[2K   \u001B[90m━━━━━━━━━━━━━━━━━━━━━━━━━━━━━━━━━━━━━━━━\u001B[0m \u001B[32m313.6/313.6 kB\u001B[0m \u001B[31m2.8 MB/s\u001B[0m eta \u001B[36m0:00:00\u001B[0m\n",
      "\u001B[?25hDownloading pymongo-4.10.1-cp310-cp310-manylinux_2_17_x86_64.manylinux2014_x86_64.whl (1.4 MB)\n",
      "\u001B[2K   \u001B[90m━━━━━━━━━━━━━━━━━━━━━━━━━━━━━━━━━━━━━━━━\u001B[0m \u001B[32m1.4/1.4 MB\u001B[0m \u001B[31m45.8 MB/s\u001B[0m eta \u001B[36m0:00:00\u001B[0m\n",
      "\u001B[?25hInstalling collected packages: dnspython, pymongo\n",
      "Successfully installed dnspython-2.7.0 pymongo-4.10.1\n"
     ]
    }
   ],
   "execution_count": 2
  },
  {
   "cell_type": "code",
   "source": [
    "!pip install bert-score"
   ],
   "metadata": {
    "trusted": true,
    "execution": {
     "iopub.status.busy": "2024-12-19T11:22:32.488379Z",
     "iopub.execute_input": "2024-12-19T11:22:32.488848Z",
     "iopub.status.idle": "2024-12-19T11:22:41.010863Z",
     "shell.execute_reply.started": "2024-12-19T11:22:32.488817Z",
     "shell.execute_reply": "2024-12-19T11:22:41.009999Z"
    },
    "collapsed": true,
    "colab": {
     "base_uri": "https://localhost:8080/"
    },
    "id": "Akj--1c9O-gX",
    "outputId": "3bc8f5d9-2e69-4fa6-bf91-7034cbb94356"
   },
   "outputs": [
    {
     "output_type": "stream",
     "name": "stdout",
     "text": [
      "Collecting bert-score\n",
      "  Downloading bert_score-0.3.13-py3-none-any.whl.metadata (15 kB)\n",
      "Requirement already satisfied: torch>=1.0.0 in /usr/local/lib/python3.10/dist-packages (from bert-score) (2.5.1+cu121)\n",
      "Requirement already satisfied: pandas>=1.0.1 in /usr/local/lib/python3.10/dist-packages (from bert-score) (2.2.2)\n",
      "Requirement already satisfied: transformers>=3.0.0 in /usr/local/lib/python3.10/dist-packages (from bert-score) (4.47.0)\n",
      "Requirement already satisfied: numpy in /usr/local/lib/python3.10/dist-packages (from bert-score) (1.26.4)\n",
      "Requirement already satisfied: requests in /usr/local/lib/python3.10/dist-packages (from bert-score) (2.32.3)\n",
      "Requirement already satisfied: tqdm>=4.31.1 in /usr/local/lib/python3.10/dist-packages (from bert-score) (4.67.1)\n",
      "Requirement already satisfied: matplotlib in /usr/local/lib/python3.10/dist-packages (from bert-score) (3.8.0)\n",
      "Requirement already satisfied: packaging>=20.9 in /usr/local/lib/python3.10/dist-packages (from bert-score) (24.2)\n",
      "Requirement already satisfied: python-dateutil>=2.8.2 in /usr/local/lib/python3.10/dist-packages (from pandas>=1.0.1->bert-score) (2.8.2)\n",
      "Requirement already satisfied: pytz>=2020.1 in /usr/local/lib/python3.10/dist-packages (from pandas>=1.0.1->bert-score) (2024.2)\n",
      "Requirement already satisfied: tzdata>=2022.7 in /usr/local/lib/python3.10/dist-packages (from pandas>=1.0.1->bert-score) (2024.2)\n",
      "Requirement already satisfied: filelock in /usr/local/lib/python3.10/dist-packages (from torch>=1.0.0->bert-score) (3.16.1)\n",
      "Requirement already satisfied: typing-extensions>=4.8.0 in /usr/local/lib/python3.10/dist-packages (from torch>=1.0.0->bert-score) (4.12.2)\n",
      "Requirement already satisfied: networkx in /usr/local/lib/python3.10/dist-packages (from torch>=1.0.0->bert-score) (3.4.2)\n",
      "Requirement already satisfied: jinja2 in /usr/local/lib/python3.10/dist-packages (from torch>=1.0.0->bert-score) (3.1.4)\n",
      "Requirement already satisfied: fsspec in /usr/local/lib/python3.10/dist-packages (from torch>=1.0.0->bert-score) (2024.9.0)\n",
      "Requirement already satisfied: sympy==1.13.1 in /usr/local/lib/python3.10/dist-packages (from torch>=1.0.0->bert-score) (1.13.1)\n",
      "Requirement already satisfied: mpmath<1.4,>=1.1.0 in /usr/local/lib/python3.10/dist-packages (from sympy==1.13.1->torch>=1.0.0->bert-score) (1.3.0)\n",
      "Requirement already satisfied: huggingface-hub<1.0,>=0.24.0 in /usr/local/lib/python3.10/dist-packages (from transformers>=3.0.0->bert-score) (0.27.0)\n",
      "Requirement already satisfied: pyyaml>=5.1 in /usr/local/lib/python3.10/dist-packages (from transformers>=3.0.0->bert-score) (6.0.2)\n",
      "Requirement already satisfied: regex!=2019.12.17 in /usr/local/lib/python3.10/dist-packages (from transformers>=3.0.0->bert-score) (2024.11.6)\n",
      "Requirement already satisfied: tokenizers<0.22,>=0.21 in /usr/local/lib/python3.10/dist-packages (from transformers>=3.0.0->bert-score) (0.21.0)\n",
      "Requirement already satisfied: safetensors>=0.4.1 in /usr/local/lib/python3.10/dist-packages (from transformers>=3.0.0->bert-score) (0.4.5)\n",
      "Requirement already satisfied: contourpy>=1.0.1 in /usr/local/lib/python3.10/dist-packages (from matplotlib->bert-score) (1.3.1)\n",
      "Requirement already satisfied: cycler>=0.10 in /usr/local/lib/python3.10/dist-packages (from matplotlib->bert-score) (0.12.1)\n",
      "Requirement already satisfied: fonttools>=4.22.0 in /usr/local/lib/python3.10/dist-packages (from matplotlib->bert-score) (4.55.3)\n",
      "Requirement already satisfied: kiwisolver>=1.0.1 in /usr/local/lib/python3.10/dist-packages (from matplotlib->bert-score) (1.4.7)\n",
      "Requirement already satisfied: pillow>=6.2.0 in /usr/local/lib/python3.10/dist-packages (from matplotlib->bert-score) (11.0.0)\n",
      "Requirement already satisfied: pyparsing>=2.3.1 in /usr/local/lib/python3.10/dist-packages (from matplotlib->bert-score) (3.2.0)\n",
      "Requirement already satisfied: charset-normalizer<4,>=2 in /usr/local/lib/python3.10/dist-packages (from requests->bert-score) (3.4.0)\n",
      "Requirement already satisfied: idna<4,>=2.5 in /usr/local/lib/python3.10/dist-packages (from requests->bert-score) (3.10)\n",
      "Requirement already satisfied: urllib3<3,>=1.21.1 in /usr/local/lib/python3.10/dist-packages (from requests->bert-score) (2.2.3)\n",
      "Requirement already satisfied: certifi>=2017.4.17 in /usr/local/lib/python3.10/dist-packages (from requests->bert-score) (2024.12.14)\n",
      "Requirement already satisfied: six>=1.5 in /usr/local/lib/python3.10/dist-packages (from python-dateutil>=2.8.2->pandas>=1.0.1->bert-score) (1.17.0)\n",
      "Requirement already satisfied: MarkupSafe>=2.0 in /usr/local/lib/python3.10/dist-packages (from jinja2->torch>=1.0.0->bert-score) (3.0.2)\n",
      "Downloading bert_score-0.3.13-py3-none-any.whl (61 kB)\n",
      "\u001B[2K   \u001B[90m━━━━━━━━━━━━━━━━━━━━━━━━━━━━━━━━━━━━━━━━\u001B[0m \u001B[32m61.1/61.1 kB\u001B[0m \u001B[31m4.4 MB/s\u001B[0m eta \u001B[36m0:00:00\u001B[0m\n",
      "\u001B[?25hInstalling collected packages: bert-score\n",
      "Successfully installed bert-score-0.3.13\n"
     ]
    }
   ],
   "execution_count": 3
  },
  {
   "cell_type": "code",
   "source": [
    "!huggingface-cli login --token "
   ],
   "metadata": {
    "trusted": true,
    "execution": {
     "iopub.status.busy": "2024-12-19T11:22:41.013208Z",
     "iopub.execute_input": "2024-12-19T11:22:41.013969Z",
     "iopub.status.idle": "2024-12-19T11:22:42.580893Z",
     "shell.execute_reply.started": "2024-12-19T11:22:41.013925Z",
     "shell.execute_reply": "2024-12-19T11:22:42.580009Z"
    },
    "colab": {
     "base_uri": "https://localhost:8080/"
    },
    "id": "x8UKt0ZXO-gX",
    "outputId": "41a3e70a-0099-4b42-c580-1d3837f0cf38"
   },
   "outputs": [
    {
     "output_type": "stream",
     "name": "stdout",
     "text": [
      "The token has not been saved to the git credentials helper. Pass `add_to_git_credential=True` in this function directly or `--add-to-git-credential` if using via `huggingface-cli` if you want to set the git credential as well.\n",
      "Token is valid (permission: write).\n",
      "The token `ds-token` has been saved to /root/.cache/huggingface/stored_tokens\n",
      "Your token has been saved to /root/.cache/huggingface/token\n",
      "Login successful.\n",
      "The current active token is: `ds-token`\n"
     ]
    }
   ],
   "execution_count": 4
  },
  {
   "cell_type": "code",
   "source": [
    "from datasets import Dataset\n",
    "import pandas as pd\n",
    "import pymongo\n",
    "\n",
    "\n",
    "mongodb_uri = \"...\"\n",
    "client = pymongo.MongoClient(mongodb_uri)\n",
    "db = client[\"article\"]\n",
    "collection = db[\"processed_articles_5_sec\"]\n",
    "\n",
    "data = list(collection.find())\n",
    "df = pd.DataFrame(data)\n",
    "print(\"DataFrame head:\")\n",
    "print(df.head())\n"
   ],
   "metadata": {
    "trusted": true,
    "execution": {
     "iopub.status.busy": "2024-12-19T11:22:42.582215Z",
     "iopub.execute_input": "2024-12-19T11:22:42.582534Z",
     "iopub.status.idle": "2024-12-19T11:22:48.926160Z",
     "shell.execute_reply.started": "2024-12-19T11:22:42.582506Z",
     "shell.execute_reply": "2024-12-19T11:22:48.925283Z"
    },
    "colab": {
     "base_uri": "https://localhost:8080/"
    },
    "id": "l1GAFmBiO-gX",
    "outputId": "b737c4b2-3949-4c9f-8c2a-24d02c61b036"
   },
   "outputs": [
    {
     "output_type": "stream",
     "name": "stdout",
     "text": [
      "DataFrame head:\n",
      "                        _id  \\\n",
      "0  67405de005c44c6524185334   \n",
      "1  67405de005c44c6524185335   \n",
      "2  67405de005c44c6524185336   \n",
      "3  67405de005c44c6524185337   \n",
      "4  67405de005c44c6524185338   \n",
      "\n",
      "                                               Title  \\\n",
      "0  Determinants Associated with COVID-19 Vaccinat...   \n",
      "1  Tech vs. Tradition: ChatGPT and Mindfulness in...   \n",
      "2  The Discursive Configuration of the Therapeuti...   \n",
      "3  The Moderating Role of the Five-Factor Model o...   \n",
      "4  The Impact of Insecure Attachment on Emotional...   \n",
      "\n",
      "                                                Link  \\\n",
      "0  https://www.ncbi.nlm.nih.gov/pmc/articles/PMC1...   \n",
      "1  https://www.ncbi.nlm.nih.gov/pmc/articles/PMC1...   \n",
      "2  https://www.ncbi.nlm.nih.gov/pmc/articles/PMC1...   \n",
      "3  https://www.ncbi.nlm.nih.gov/pmc/articles/PMC1...   \n",
      "4  https://www.ncbi.nlm.nih.gov/pmc/articles/PMC1...   \n",
      "\n",
      "                                            Abstract  \\\n",
      "0  Abstract COVID-19 vaccination is a critical pu...   \n",
      "1  Abstract To improve older adults’ mental healt...   \n",
      "2  Abstract Therapeutic communities face high dro...   \n",
      "3  Abstract When organizations or managers utiliz...   \n",
      "4  Abstract Previous evidence has demonstrated a ...   \n",
      "\n",
      "                                            Keywords  \\\n",
      "0  Keywords:COVID-19, adolescent, vaccination, An...   \n",
      "1  Keywords:artificial intelligence, ChatGPT, min...   \n",
      "2  Keywords:users’ perspective, discourse analysi...   \n",
      "3  Keywords:five-factor model, interaction, moder...   \n",
      "4  Keywords:attachment, emotional dependence, emo...   \n",
      "\n",
      "                             Section 1. Introduction  \\\n",
      "0  The onset of COVID-19 in January 2020 heralded...   \n",
      "1  Global aging and technological advancements ha...   \n",
      "2  Interventions related to substance abuse are c...   \n",
      "3  Work engagement (WE), defined as “a positive, ...   \n",
      "4  Bowlby [1], a pioneer in attachment theory, ar...   \n",
      "\n",
      "                    Section 2. Materials and Methods  \\\n",
      "0  2.1. Data and SampleThis study utilized primar...   \n",
      "1  2.1. Study DesignThe study used a controlled d...   \n",
      "2  2.1. Theoretical BackgroundThis study adopts t...   \n",
      "3  2.1. ParticipantsThe survey was conducted onli...   \n",
      "4  2.1. ParticipantsThe sample comprised 741 part...   \n",
      "\n",
      "                                  Section 3. Results  \\\n",
      "0  The outcomes presented inTable 1illustrate an ...   \n",
      "1  The chat companion experiment enrolled 15 part...   \n",
      "2  The responses collected through the protocols ...   \n",
      "3  Table 2depicts the Pearson’s product–moment co...   \n",
      "4  First, the descriptive statistics and the ANOV...   \n",
      "\n",
      "                               Section 4. Discussion  \\\n",
      "0  This study examines the determinants of COVID-...   \n",
      "1  Overall, we discovered that individuals’ feeli...   \n",
      "2  As discussed above, for some participants, the...   \n",
      "3  The purpose of this study was to examine the m...   \n",
      "4  The present study aimed to elucidate if diffic...   \n",
      "\n",
      "                              Section 5. Conclusions  \n",
      "0  This study identified key determinants of COVI...  \n",
      "1  The purpose of this study was to look at how m...  \n",
      "2  Based on the texts collected, it was possible ...  \n",
      "3  This study confirmed four interactions between...  \n",
      "4  The present study highlights the harmful conse...  \n"
     ]
    }
   ],
   "execution_count": 5
  },
  {
   "cell_type": "code",
   "source": [
    "import pandas as pd\n",
    "import re\n",
    "\n",
    "def remove_citations(text):\n",
    "    return re.sub(r'\\[.*?\\]|\\(.*?\\)', '', text)\n",
    "\n",
    "columns_to_clean = ['Abstract', 'Keywords', 'Section 1. Introduction', 'Section 2. Materials and Methods',\n",
    "                    'Section 3. Results', 'Section 4. Discussion', 'Section 5. Conclusions']\n",
    "\n",
    "for col in columns_to_clean:\n",
    "    df[col] = df[col].apply(remove_citations)\n",
    "\n",
    "df"
   ],
   "metadata": {
    "trusted": true,
    "execution": {
     "iopub.status.busy": "2024-12-19T11:22:48.927454Z",
     "iopub.execute_input": "2024-12-19T11:22:48.927893Z",
     "iopub.status.idle": "2024-12-19T11:22:49.290215Z",
     "shell.execute_reply.started": "2024-12-19T11:22:48.927866Z",
     "shell.execute_reply": "2024-12-19T11:22:49.289418Z"
    },
    "colab": {
     "base_uri": "https://localhost:8080/",
     "height": 962
    },
    "collapsed": true,
    "id": "nO04lBlnO-gY",
    "outputId": "09f68f0a-45f1-4fb9-d6c8-8e4ac1e35585"
   },
   "outputs": [
    {
     "output_type": "execute_result",
     "data": {
      "text/plain": [
       "                          _id  \\\n",
       "0    67405de005c44c6524185334   \n",
       "1    67405de005c44c6524185335   \n",
       "2    67405de005c44c6524185336   \n",
       "3    67405de005c44c6524185337   \n",
       "4    67405de005c44c6524185338   \n",
       "..                        ...   \n",
       "942  67405e1905c44c65241856e2   \n",
       "943  67405e1905c44c65241856e3   \n",
       "944  67405e1905c44c65241856e4   \n",
       "945  67405e1905c44c65241856e5   \n",
       "946  67405e1905c44c65241856e6   \n",
       "\n",
       "                                                 Title  \\\n",
       "0    Determinants Associated with COVID-19 Vaccinat...   \n",
       "1    Tech vs. Tradition: ChatGPT and Mindfulness in...   \n",
       "2    The Discursive Configuration of the Therapeuti...   \n",
       "3    The Moderating Role of the Five-Factor Model o...   \n",
       "4    The Impact of Insecure Attachment on Emotional...   \n",
       "..                                                 ...   \n",
       "942  The Role of Regular Eating and Self-Monitoring...   \n",
       "943  NADA Ear Acupuncture: An Adjunctive Therapy to...   \n",
       "944  Poverty-Related Adversity and Emotion Regulati...   \n",
       "945  Supportive Relationships in Autism Spectrum Di...   \n",
       "946  Learned Use of Picture Cues by Bumblebees (Bom...   \n",
       "\n",
       "                                                  Link  \\\n",
       "0    https://www.ncbi.nlm.nih.gov/pmc/articles/PMC1...   \n",
       "1    https://www.ncbi.nlm.nih.gov/pmc/articles/PMC1...   \n",
       "2    https://www.ncbi.nlm.nih.gov/pmc/articles/PMC1...   \n",
       "3    https://www.ncbi.nlm.nih.gov/pmc/articles/PMC1...   \n",
       "4    https://www.ncbi.nlm.nih.gov/pmc/articles/PMC1...   \n",
       "..                                                 ...   \n",
       "942  https://www.ncbi.nlm.nih.gov/pmc/articles/PMC5...   \n",
       "943  https://www.ncbi.nlm.nih.gov/pmc/articles/PMC5...   \n",
       "944  https://www.ncbi.nlm.nih.gov/pmc/articles/PMC5...   \n",
       "945  https://www.ncbi.nlm.nih.gov/pmc/articles/PMC5...   \n",
       "946  https://www.ncbi.nlm.nih.gov/pmc/articles/PMC5...   \n",
       "\n",
       "                                              Abstract  \\\n",
       "0    Abstract COVID-19 vaccination is a critical pu...   \n",
       "1    Abstract To improve older adults’ mental healt...   \n",
       "2    Abstract Therapeutic communities face high dro...   \n",
       "3    Abstract When organizations or managers utiliz...   \n",
       "4    Abstract Previous evidence has demonstrated a ...   \n",
       "..                                                 ...   \n",
       "942  Abstract Background: Despite cognitive behavio...   \n",
       "943  Abstract The National Acupuncture Detoxificati...   \n",
       "944  Abstract The current study examines the additi...   \n",
       "945  Abstract This study explored 17 dyads of acade...   \n",
       "946  Abstract Picture-object correspondence provide...   \n",
       "\n",
       "                                              Keywords  \\\n",
       "0    Keywords:COVID-19, adolescent, vaccination, An...   \n",
       "1    Keywords:artificial intelligence, ChatGPT, min...   \n",
       "2    Keywords:users’ perspective, discourse analysi...   \n",
       "3    Keywords:five-factor model, interaction, moder...   \n",
       "4    Keywords:attachment, emotional dependence, emo...   \n",
       "..                                                 ...   \n",
       "942  Keywords:bulimia nervosa, online treatment, se...   \n",
       "943  Keywords:The National Acupuncture Detoxificati...   \n",
       "944  Keywords:poverty, attention bias, emotion regu...   \n",
       "945  Keywords:Autism Spectrum Disorder, supportive ...   \n",
       "946  Keywords:bumblebee,Bombus, delayed matching, p...   \n",
       "\n",
       "                               Section 1. Introduction  \\\n",
       "0    The onset of COVID-19 in January 2020 heralded...   \n",
       "1    Global aging and technological advancements ha...   \n",
       "2    Interventions related to substance abuse are c...   \n",
       "3    Work engagement , defined as “a positive, fulf...   \n",
       "4    Bowlby , a pioneer in attachment theory, argue...   \n",
       "..                                                 ...   \n",
       "942  Therapist-led cognitive behavioural therapy  c...   \n",
       "943  The National Acupuncture Association protocol ...   \n",
       "944  Internalizing problems of anxiety, depressive ...   \n",
       "945  In 1943, child psychiatrist Leo Kanner was the...   \n",
       "946  In a dynamic and noisy world, it is best to at...   \n",
       "\n",
       "                      Section 2. Materials and Methods  \\\n",
       "0    2.1. Data and SampleThis study utilized primar...   \n",
       "1    2.1. Study DesignThe study used a controlled d...   \n",
       "2    2.1. Theoretical BackgroundThis study adopts t...   \n",
       "3    2.1. ParticipantsThe survey was conducted onli...   \n",
       "4    2.1. ParticipantsThe sample comprised 741 part...   \n",
       "..                                                 ...   \n",
       "942  2.1. ParticipantsParticipants were recruited f...   \n",
       "943  A prospective randomized controlled trial  too...   \n",
       "944  2.1. ParticipantsSix hundred and two children ...   \n",
       "945  2.1. ParticipantsOur choices for the types of ...   \n",
       "946  2.1. SubjectsThree colonies of commercially ra...   \n",
       "\n",
       "                                    Section 3. Results  \\\n",
       "0    The outcomes presented inTable 1illustrate an ...   \n",
       "1    The chat companion experiment enrolled 15 part...   \n",
       "2    The responses collected through the protocols ...   \n",
       "3    Table 2depicts the Pearson’s product–moment co...   \n",
       "4    First, the descriptive statistics and the ANOV...   \n",
       "..                                                 ...   \n",
       "942  3.1. Participant CharacteristicsThe mean age o...   \n",
       "943  Of the 100 patients enrolled 61 completed the ...   \n",
       "944  3.1. Descriptive AnalysesPrior to testing for ...   \n",
       "945  The data presented in this study are part of a...   \n",
       "946  Can bees learn to use a picture cue, associate...   \n",
       "\n",
       "                                 Section 4. Discussion  \\\n",
       "0    This study examines the determinants of COVID-...   \n",
       "1    Overall, we discovered that individuals’ feeli...   \n",
       "2    As discussed above, for some participants, the...   \n",
       "3    The purpose of this study was to examine the m...   \n",
       "4    The present study aimed to elucidate if diffic...   \n",
       "..                                                 ...   \n",
       "942  The findings of this study provide preliminary...   \n",
       "943  The main findings from this study support the ...   \n",
       "944  Our results suggest that a small but significa...   \n",
       "945  The purpose of this study was to develop a sub...   \n",
       "946  Bumblebees can learn to use a picture cue to f...   \n",
       "\n",
       "                                Section 5. Conclusions  \n",
       "0    This study identified key determinants of COVI...  \n",
       "1    The purpose of this study was to look at how m...  \n",
       "2    Based on the texts collected, it was possible ...  \n",
       "3    This study confirmed four interactions between...  \n",
       "4    The present study highlights the harmful conse...  \n",
       "..                                                 ...  \n",
       "942  The present study provides preliminary evidenc...  \n",
       "943  Bearing in mind the study limitations discusse...  \n",
       "944  The results of this study have several importa...  \n",
       "945  This study has provided specific examples of h...  \n",
       "946  The results of the present study do evidence a...  \n",
       "\n",
       "[947 rows x 10 columns]"
      ],
      "text/html": [
       "\n",
       "  <div id=\"df-4a5964df-89c7-4a47-ad40-0e5071d872ae\" class=\"colab-df-container\">\n",
       "    <div>\n",
       "<style scoped>\n",
       "    .dataframe tbody tr th:only-of-type {\n",
       "        vertical-align: middle;\n",
       "    }\n",
       "\n",
       "    .dataframe tbody tr th {\n",
       "        vertical-align: top;\n",
       "    }\n",
       "\n",
       "    .dataframe thead th {\n",
       "        text-align: right;\n",
       "    }\n",
       "</style>\n",
       "<table border=\"1\" class=\"dataframe\">\n",
       "  <thead>\n",
       "    <tr style=\"text-align: right;\">\n",
       "      <th></th>\n",
       "      <th>_id</th>\n",
       "      <th>Title</th>\n",
       "      <th>Link</th>\n",
       "      <th>Abstract</th>\n",
       "      <th>Keywords</th>\n",
       "      <th>Section 1. Introduction</th>\n",
       "      <th>Section 2. Materials and Methods</th>\n",
       "      <th>Section 3. Results</th>\n",
       "      <th>Section 4. Discussion</th>\n",
       "      <th>Section 5. Conclusions</th>\n",
       "    </tr>\n",
       "  </thead>\n",
       "  <tbody>\n",
       "    <tr>\n",
       "      <th>0</th>\n",
       "      <td>67405de005c44c6524185334</td>\n",
       "      <td>Determinants Associated with COVID-19 Vaccinat...</td>\n",
       "      <td>https://www.ncbi.nlm.nih.gov/pmc/articles/PMC1...</td>\n",
       "      <td>Abstract COVID-19 vaccination is a critical pu...</td>\n",
       "      <td>Keywords:COVID-19, adolescent, vaccination, An...</td>\n",
       "      <td>The onset of COVID-19 in January 2020 heralded...</td>\n",
       "      <td>2.1. Data and SampleThis study utilized primar...</td>\n",
       "      <td>The outcomes presented inTable 1illustrate an ...</td>\n",
       "      <td>This study examines the determinants of COVID-...</td>\n",
       "      <td>This study identified key determinants of COVI...</td>\n",
       "    </tr>\n",
       "    <tr>\n",
       "      <th>1</th>\n",
       "      <td>67405de005c44c6524185335</td>\n",
       "      <td>Tech vs. Tradition: ChatGPT and Mindfulness in...</td>\n",
       "      <td>https://www.ncbi.nlm.nih.gov/pmc/articles/PMC1...</td>\n",
       "      <td>Abstract To improve older adults’ mental healt...</td>\n",
       "      <td>Keywords:artificial intelligence, ChatGPT, min...</td>\n",
       "      <td>Global aging and technological advancements ha...</td>\n",
       "      <td>2.1. Study DesignThe study used a controlled d...</td>\n",
       "      <td>The chat companion experiment enrolled 15 part...</td>\n",
       "      <td>Overall, we discovered that individuals’ feeli...</td>\n",
       "      <td>The purpose of this study was to look at how m...</td>\n",
       "    </tr>\n",
       "    <tr>\n",
       "      <th>2</th>\n",
       "      <td>67405de005c44c6524185336</td>\n",
       "      <td>The Discursive Configuration of the Therapeuti...</td>\n",
       "      <td>https://www.ncbi.nlm.nih.gov/pmc/articles/PMC1...</td>\n",
       "      <td>Abstract Therapeutic communities face high dro...</td>\n",
       "      <td>Keywords:users’ perspective, discourse analysi...</td>\n",
       "      <td>Interventions related to substance abuse are c...</td>\n",
       "      <td>2.1. Theoretical BackgroundThis study adopts t...</td>\n",
       "      <td>The responses collected through the protocols ...</td>\n",
       "      <td>As discussed above, for some participants, the...</td>\n",
       "      <td>Based on the texts collected, it was possible ...</td>\n",
       "    </tr>\n",
       "    <tr>\n",
       "      <th>3</th>\n",
       "      <td>67405de005c44c6524185337</td>\n",
       "      <td>The Moderating Role of the Five-Factor Model o...</td>\n",
       "      <td>https://www.ncbi.nlm.nih.gov/pmc/articles/PMC1...</td>\n",
       "      <td>Abstract When organizations or managers utiliz...</td>\n",
       "      <td>Keywords:five-factor model, interaction, moder...</td>\n",
       "      <td>Work engagement , defined as “a positive, fulf...</td>\n",
       "      <td>2.1. ParticipantsThe survey was conducted onli...</td>\n",
       "      <td>Table 2depicts the Pearson’s product–moment co...</td>\n",
       "      <td>The purpose of this study was to examine the m...</td>\n",
       "      <td>This study confirmed four interactions between...</td>\n",
       "    </tr>\n",
       "    <tr>\n",
       "      <th>4</th>\n",
       "      <td>67405de005c44c6524185338</td>\n",
       "      <td>The Impact of Insecure Attachment on Emotional...</td>\n",
       "      <td>https://www.ncbi.nlm.nih.gov/pmc/articles/PMC1...</td>\n",
       "      <td>Abstract Previous evidence has demonstrated a ...</td>\n",
       "      <td>Keywords:attachment, emotional dependence, emo...</td>\n",
       "      <td>Bowlby , a pioneer in attachment theory, argue...</td>\n",
       "      <td>2.1. ParticipantsThe sample comprised 741 part...</td>\n",
       "      <td>First, the descriptive statistics and the ANOV...</td>\n",
       "      <td>The present study aimed to elucidate if diffic...</td>\n",
       "      <td>The present study highlights the harmful conse...</td>\n",
       "    </tr>\n",
       "    <tr>\n",
       "      <th>...</th>\n",
       "      <td>...</td>\n",
       "      <td>...</td>\n",
       "      <td>...</td>\n",
       "      <td>...</td>\n",
       "      <td>...</td>\n",
       "      <td>...</td>\n",
       "      <td>...</td>\n",
       "      <td>...</td>\n",
       "      <td>...</td>\n",
       "      <td>...</td>\n",
       "    </tr>\n",
       "    <tr>\n",
       "      <th>942</th>\n",
       "      <td>67405e1905c44c65241856e2</td>\n",
       "      <td>The Role of Regular Eating and Self-Monitoring...</td>\n",
       "      <td>https://www.ncbi.nlm.nih.gov/pmc/articles/PMC5...</td>\n",
       "      <td>Abstract Background: Despite cognitive behavio...</td>\n",
       "      <td>Keywords:bulimia nervosa, online treatment, se...</td>\n",
       "      <td>Therapist-led cognitive behavioural therapy  c...</td>\n",
       "      <td>2.1. ParticipantsParticipants were recruited f...</td>\n",
       "      <td>3.1. Participant CharacteristicsThe mean age o...</td>\n",
       "      <td>The findings of this study provide preliminary...</td>\n",
       "      <td>The present study provides preliminary evidenc...</td>\n",
       "    </tr>\n",
       "    <tr>\n",
       "      <th>943</th>\n",
       "      <td>67405e1905c44c65241856e3</td>\n",
       "      <td>NADA Ear Acupuncture: An Adjunctive Therapy to...</td>\n",
       "      <td>https://www.ncbi.nlm.nih.gov/pmc/articles/PMC5...</td>\n",
       "      <td>Abstract The National Acupuncture Detoxificati...</td>\n",
       "      <td>Keywords:The National Acupuncture Detoxificati...</td>\n",
       "      <td>The National Acupuncture Association protocol ...</td>\n",
       "      <td>A prospective randomized controlled trial  too...</td>\n",
       "      <td>Of the 100 patients enrolled 61 completed the ...</td>\n",
       "      <td>The main findings from this study support the ...</td>\n",
       "      <td>Bearing in mind the study limitations discusse...</td>\n",
       "    </tr>\n",
       "    <tr>\n",
       "      <th>944</th>\n",
       "      <td>67405e1905c44c65241856e4</td>\n",
       "      <td>Poverty-Related Adversity and Emotion Regulati...</td>\n",
       "      <td>https://www.ncbi.nlm.nih.gov/pmc/articles/PMC5...</td>\n",
       "      <td>Abstract The current study examines the additi...</td>\n",
       "      <td>Keywords:poverty, attention bias, emotion regu...</td>\n",
       "      <td>Internalizing problems of anxiety, depressive ...</td>\n",
       "      <td>2.1. ParticipantsSix hundred and two children ...</td>\n",
       "      <td>3.1. Descriptive AnalysesPrior to testing for ...</td>\n",
       "      <td>Our results suggest that a small but significa...</td>\n",
       "      <td>The results of this study have several importa...</td>\n",
       "    </tr>\n",
       "    <tr>\n",
       "      <th>945</th>\n",
       "      <td>67405e1905c44c65241856e5</td>\n",
       "      <td>Supportive Relationships in Autism Spectrum Di...</td>\n",
       "      <td>https://www.ncbi.nlm.nih.gov/pmc/articles/PMC5...</td>\n",
       "      <td>Abstract This study explored 17 dyads of acade...</td>\n",
       "      <td>Keywords:Autism Spectrum Disorder, supportive ...</td>\n",
       "      <td>In 1943, child psychiatrist Leo Kanner was the...</td>\n",
       "      <td>2.1. ParticipantsOur choices for the types of ...</td>\n",
       "      <td>The data presented in this study are part of a...</td>\n",
       "      <td>The purpose of this study was to develop a sub...</td>\n",
       "      <td>This study has provided specific examples of h...</td>\n",
       "    </tr>\n",
       "    <tr>\n",
       "      <th>946</th>\n",
       "      <td>67405e1905c44c65241856e6</td>\n",
       "      <td>Learned Use of Picture Cues by Bumblebees (Bom...</td>\n",
       "      <td>https://www.ncbi.nlm.nih.gov/pmc/articles/PMC5...</td>\n",
       "      <td>Abstract Picture-object correspondence provide...</td>\n",
       "      <td>Keywords:bumblebee,Bombus, delayed matching, p...</td>\n",
       "      <td>In a dynamic and noisy world, it is best to at...</td>\n",
       "      <td>2.1. SubjectsThree colonies of commercially ra...</td>\n",
       "      <td>Can bees learn to use a picture cue, associate...</td>\n",
       "      <td>Bumblebees can learn to use a picture cue to f...</td>\n",
       "      <td>The results of the present study do evidence a...</td>\n",
       "    </tr>\n",
       "  </tbody>\n",
       "</table>\n",
       "<p>947 rows × 10 columns</p>\n",
       "</div>\n",
       "    <div class=\"colab-df-buttons\">\n",
       "\n",
       "  <div class=\"colab-df-container\">\n",
       "    <button class=\"colab-df-convert\" onclick=\"convertToInteractive('df-4a5964df-89c7-4a47-ad40-0e5071d872ae')\"\n",
       "            title=\"Convert this dataframe to an interactive table.\"\n",
       "            style=\"display:none;\">\n",
       "\n",
       "  <svg xmlns=\"http://www.w3.org/2000/svg\" height=\"24px\" viewBox=\"0 -960 960 960\">\n",
       "    <path d=\"M120-120v-720h720v720H120Zm60-500h600v-160H180v160Zm220 220h160v-160H400v160Zm0 220h160v-160H400v160ZM180-400h160v-160H180v160Zm440 0h160v-160H620v160ZM180-180h160v-160H180v160Zm440 0h160v-160H620v160Z\"/>\n",
       "  </svg>\n",
       "    </button>\n",
       "\n",
       "  <style>\n",
       "    .colab-df-container {\n",
       "      display:flex;\n",
       "      gap: 12px;\n",
       "    }\n",
       "\n",
       "    .colab-df-convert {\n",
       "      background-color: #E8F0FE;\n",
       "      border: none;\n",
       "      border-radius: 50%;\n",
       "      cursor: pointer;\n",
       "      display: none;\n",
       "      fill: #1967D2;\n",
       "      height: 32px;\n",
       "      padding: 0 0 0 0;\n",
       "      width: 32px;\n",
       "    }\n",
       "\n",
       "    .colab-df-convert:hover {\n",
       "      background-color: #E2EBFA;\n",
       "      box-shadow: 0px 1px 2px rgba(60, 64, 67, 0.3), 0px 1px 3px 1px rgba(60, 64, 67, 0.15);\n",
       "      fill: #174EA6;\n",
       "    }\n",
       "\n",
       "    .colab-df-buttons div {\n",
       "      margin-bottom: 4px;\n",
       "    }\n",
       "\n",
       "    [theme=dark] .colab-df-convert {\n",
       "      background-color: #3B4455;\n",
       "      fill: #D2E3FC;\n",
       "    }\n",
       "\n",
       "    [theme=dark] .colab-df-convert:hover {\n",
       "      background-color: #434B5C;\n",
       "      box-shadow: 0px 1px 3px 1px rgba(0, 0, 0, 0.15);\n",
       "      filter: drop-shadow(0px 1px 2px rgba(0, 0, 0, 0.3));\n",
       "      fill: #FFFFFF;\n",
       "    }\n",
       "  </style>\n",
       "\n",
       "    <script>\n",
       "      const buttonEl =\n",
       "        document.querySelector('#df-4a5964df-89c7-4a47-ad40-0e5071d872ae button.colab-df-convert');\n",
       "      buttonEl.style.display =\n",
       "        google.colab.kernel.accessAllowed ? 'block' : 'none';\n",
       "\n",
       "      async function convertToInteractive(key) {\n",
       "        const element = document.querySelector('#df-4a5964df-89c7-4a47-ad40-0e5071d872ae');\n",
       "        const dataTable =\n",
       "          await google.colab.kernel.invokeFunction('convertToInteractive',\n",
       "                                                    [key], {});\n",
       "        if (!dataTable) return;\n",
       "\n",
       "        const docLinkHtml = 'Like what you see? Visit the ' +\n",
       "          '<a target=\"_blank\" href=https://colab.research.google.com/notebooks/data_table.ipynb>data table notebook</a>'\n",
       "          + ' to learn more about interactive tables.';\n",
       "        element.innerHTML = '';\n",
       "        dataTable['output_type'] = 'display_data';\n",
       "        await google.colab.output.renderOutput(dataTable, element);\n",
       "        const docLink = document.createElement('div');\n",
       "        docLink.innerHTML = docLinkHtml;\n",
       "        element.appendChild(docLink);\n",
       "      }\n",
       "    </script>\n",
       "  </div>\n",
       "\n",
       "\n",
       "<div id=\"df-fba40c38-acb3-4bfc-8bbd-a84f52976f34\">\n",
       "  <button class=\"colab-df-quickchart\" onclick=\"quickchart('df-fba40c38-acb3-4bfc-8bbd-a84f52976f34')\"\n",
       "            title=\"Suggest charts\"\n",
       "            style=\"display:none;\">\n",
       "\n",
       "<svg xmlns=\"http://www.w3.org/2000/svg\" height=\"24px\"viewBox=\"0 0 24 24\"\n",
       "     width=\"24px\">\n",
       "    <g>\n",
       "        <path d=\"M19 3H5c-1.1 0-2 .9-2 2v14c0 1.1.9 2 2 2h14c1.1 0 2-.9 2-2V5c0-1.1-.9-2-2-2zM9 17H7v-7h2v7zm4 0h-2V7h2v10zm4 0h-2v-4h2v4z\"/>\n",
       "    </g>\n",
       "</svg>\n",
       "  </button>\n",
       "\n",
       "<style>\n",
       "  .colab-df-quickchart {\n",
       "      --bg-color: #E8F0FE;\n",
       "      --fill-color: #1967D2;\n",
       "      --hover-bg-color: #E2EBFA;\n",
       "      --hover-fill-color: #174EA6;\n",
       "      --disabled-fill-color: #AAA;\n",
       "      --disabled-bg-color: #DDD;\n",
       "  }\n",
       "\n",
       "  [theme=dark] .colab-df-quickchart {\n",
       "      --bg-color: #3B4455;\n",
       "      --fill-color: #D2E3FC;\n",
       "      --hover-bg-color: #434B5C;\n",
       "      --hover-fill-color: #FFFFFF;\n",
       "      --disabled-bg-color: #3B4455;\n",
       "      --disabled-fill-color: #666;\n",
       "  }\n",
       "\n",
       "  .colab-df-quickchart {\n",
       "    background-color: var(--bg-color);\n",
       "    border: none;\n",
       "    border-radius: 50%;\n",
       "    cursor: pointer;\n",
       "    display: none;\n",
       "    fill: var(--fill-color);\n",
       "    height: 32px;\n",
       "    padding: 0;\n",
       "    width: 32px;\n",
       "  }\n",
       "\n",
       "  .colab-df-quickchart:hover {\n",
       "    background-color: var(--hover-bg-color);\n",
       "    box-shadow: 0 1px 2px rgba(60, 64, 67, 0.3), 0 1px 3px 1px rgba(60, 64, 67, 0.15);\n",
       "    fill: var(--button-hover-fill-color);\n",
       "  }\n",
       "\n",
       "  .colab-df-quickchart-complete:disabled,\n",
       "  .colab-df-quickchart-complete:disabled:hover {\n",
       "    background-color: var(--disabled-bg-color);\n",
       "    fill: var(--disabled-fill-color);\n",
       "    box-shadow: none;\n",
       "  }\n",
       "\n",
       "  .colab-df-spinner {\n",
       "    border: 2px solid var(--fill-color);\n",
       "    border-color: transparent;\n",
       "    border-bottom-color: var(--fill-color);\n",
       "    animation:\n",
       "      spin 1s steps(1) infinite;\n",
       "  }\n",
       "\n",
       "  @keyframes spin {\n",
       "    0% {\n",
       "      border-color: transparent;\n",
       "      border-bottom-color: var(--fill-color);\n",
       "      border-left-color: var(--fill-color);\n",
       "    }\n",
       "    20% {\n",
       "      border-color: transparent;\n",
       "      border-left-color: var(--fill-color);\n",
       "      border-top-color: var(--fill-color);\n",
       "    }\n",
       "    30% {\n",
       "      border-color: transparent;\n",
       "      border-left-color: var(--fill-color);\n",
       "      border-top-color: var(--fill-color);\n",
       "      border-right-color: var(--fill-color);\n",
       "    }\n",
       "    40% {\n",
       "      border-color: transparent;\n",
       "      border-right-color: var(--fill-color);\n",
       "      border-top-color: var(--fill-color);\n",
       "    }\n",
       "    60% {\n",
       "      border-color: transparent;\n",
       "      border-right-color: var(--fill-color);\n",
       "    }\n",
       "    80% {\n",
       "      border-color: transparent;\n",
       "      border-right-color: var(--fill-color);\n",
       "      border-bottom-color: var(--fill-color);\n",
       "    }\n",
       "    90% {\n",
       "      border-color: transparent;\n",
       "      border-bottom-color: var(--fill-color);\n",
       "    }\n",
       "  }\n",
       "</style>\n",
       "\n",
       "  <script>\n",
       "    async function quickchart(key) {\n",
       "      const quickchartButtonEl =\n",
       "        document.querySelector('#' + key + ' button');\n",
       "      quickchartButtonEl.disabled = true;  // To prevent multiple clicks.\n",
       "      quickchartButtonEl.classList.add('colab-df-spinner');\n",
       "      try {\n",
       "        const charts = await google.colab.kernel.invokeFunction(\n",
       "            'suggestCharts', [key], {});\n",
       "      } catch (error) {\n",
       "        console.error('Error during call to suggestCharts:', error);\n",
       "      }\n",
       "      quickchartButtonEl.classList.remove('colab-df-spinner');\n",
       "      quickchartButtonEl.classList.add('colab-df-quickchart-complete');\n",
       "    }\n",
       "    (() => {\n",
       "      let quickchartButtonEl =\n",
       "        document.querySelector('#df-fba40c38-acb3-4bfc-8bbd-a84f52976f34 button');\n",
       "      quickchartButtonEl.style.display =\n",
       "        google.colab.kernel.accessAllowed ? 'block' : 'none';\n",
       "    })();\n",
       "  </script>\n",
       "</div>\n",
       "\n",
       "  <div id=\"id_af460225-2f77-455b-90a1-86ba9ea8c441\">\n",
       "    <style>\n",
       "      .colab-df-generate {\n",
       "        background-color: #E8F0FE;\n",
       "        border: none;\n",
       "        border-radius: 50%;\n",
       "        cursor: pointer;\n",
       "        display: none;\n",
       "        fill: #1967D2;\n",
       "        height: 32px;\n",
       "        padding: 0 0 0 0;\n",
       "        width: 32px;\n",
       "      }\n",
       "\n",
       "      .colab-df-generate:hover {\n",
       "        background-color: #E2EBFA;\n",
       "        box-shadow: 0px 1px 2px rgba(60, 64, 67, 0.3), 0px 1px 3px 1px rgba(60, 64, 67, 0.15);\n",
       "        fill: #174EA6;\n",
       "      }\n",
       "\n",
       "      [theme=dark] .colab-df-generate {\n",
       "        background-color: #3B4455;\n",
       "        fill: #D2E3FC;\n",
       "      }\n",
       "\n",
       "      [theme=dark] .colab-df-generate:hover {\n",
       "        background-color: #434B5C;\n",
       "        box-shadow: 0px 1px 3px 1px rgba(0, 0, 0, 0.15);\n",
       "        filter: drop-shadow(0px 1px 2px rgba(0, 0, 0, 0.3));\n",
       "        fill: #FFFFFF;\n",
       "      }\n",
       "    </style>\n",
       "    <button class=\"colab-df-generate\" onclick=\"generateWithVariable('df')\"\n",
       "            title=\"Generate code using this dataframe.\"\n",
       "            style=\"display:none;\">\n",
       "\n",
       "  <svg xmlns=\"http://www.w3.org/2000/svg\" height=\"24px\"viewBox=\"0 0 24 24\"\n",
       "       width=\"24px\">\n",
       "    <path d=\"M7,19H8.4L18.45,9,17,7.55,7,17.6ZM5,21V16.75L18.45,3.32a2,2,0,0,1,2.83,0l1.4,1.43a1.91,1.91,0,0,1,.58,1.4,1.91,1.91,0,0,1-.58,1.4L9.25,21ZM18.45,9,17,7.55Zm-12,3A5.31,5.31,0,0,0,4.9,8.1,5.31,5.31,0,0,0,1,6.5,5.31,5.31,0,0,0,4.9,4.9,5.31,5.31,0,0,0,6.5,1,5.31,5.31,0,0,0,8.1,4.9,5.31,5.31,0,0,0,12,6.5,5.46,5.46,0,0,0,6.5,12Z\"/>\n",
       "  </svg>\n",
       "    </button>\n",
       "    <script>\n",
       "      (() => {\n",
       "      const buttonEl =\n",
       "        document.querySelector('#id_af460225-2f77-455b-90a1-86ba9ea8c441 button.colab-df-generate');\n",
       "      buttonEl.style.display =\n",
       "        google.colab.kernel.accessAllowed ? 'block' : 'none';\n",
       "\n",
       "      buttonEl.onclick = () => {\n",
       "        google.colab.notebook.generateWithVariable('df');\n",
       "      }\n",
       "      })();\n",
       "    </script>\n",
       "  </div>\n",
       "\n",
       "    </div>\n",
       "  </div>\n"
      ],
      "application/vnd.google.colaboratory.intrinsic+json": {
       "type": "dataframe",
       "variable_name": "df",
       "summary": "{\n  \"name\": \"df\",\n  \"rows\": 947,\n  \"fields\": [\n    {\n      \"column\": \"_id\",\n      \"properties\": {\n        \"dtype\": \"string\",\n        \"num_unique_values\": 947,\n        \"samples\": [\n          \"67405e0405c44c6524185581\",\n          \"67405e1805c44c65241856d8\",\n          \"67405de905c44c65241853bf\"\n        ],\n        \"semantic_type\": \"\",\n        \"description\": \"\"\n      }\n    },\n    {\n      \"column\": \"Title\",\n      \"properties\": {\n        \"dtype\": \"string\",\n        \"num_unique_values\": 947,\n        \"samples\": [\n          \"A Narcissism/Vanity Distinction? Reassessing Vanity Using a Modern Model of Narcissism Based on Pride, Empathy, and Social Behaviors\",\n          \"Food Addiction, Binge Eating Disorder, and Obesity: Is There a Relationship?\",\n          \"Effect of Achievement Motivation and Self-Efficacy on General Well-Being among Students at Normal Universities in Ningxia: The Mediating Role of Time Management\"\n        ],\n        \"semantic_type\": \"\",\n        \"description\": \"\"\n      }\n    },\n    {\n      \"column\": \"Link\",\n      \"properties\": {\n        \"dtype\": \"string\",\n        \"num_unique_values\": 947,\n        \"samples\": [\n          \"https://www.ncbi.nlm.nih.gov/pmc/articles/PMC10525865/\",\n          \"https://www.ncbi.nlm.nih.gov/pmc/articles/PMC5618062/\",\n          \"https://www.ncbi.nlm.nih.gov/pmc/articles/PMC10813115/\"\n        ],\n        \"semantic_type\": \"\",\n        \"description\": \"\"\n      }\n    },\n    {\n      \"column\": \"Abstract\",\n      \"properties\": {\n        \"dtype\": \"string\",\n        \"num_unique_values\": 947,\n        \"samples\": [\n          \"Abstract The primary purpose of this study is to evaluate the role of vanity in its longstanding theoretical association with narcissism. This is particularly germane, as the conceptualization and measurement of narcissism have evolved in recent years. This is observed in the development of spectrum and/or dimensional models of narcissism, concomitant with the conceptual developments of vanity that have emerged since its original inclusion in the Narcissism Personality Inventory. Specifically, our research question evaluated whether vanity remains as traditionally construed, i.e., as a facet of narcissism, or is better conceptualized as a distinct construct separated from the earlier models of narcissism and therefore provide novel implications in understanding personality and social behavior. Based on the traits of pride, empathy, and several social behavior variables, it was hypothesized that a differentiation between narcissism and vanity would be observed. The participants were 441 undergraduate students from a large public midwestern university who participated in a self-report online survey. Correlation and regression analyses were conducted. The results revealed that the characterization of vanity is limited to pride and an absence of empathy and social behavior. Findings reaffirm behavior patterns of grandiose and vulnerable narcissism regarding selflessness, image management, and sensitivity to others. The core motivations of vanity are explicated as based on social comparison theory to assess one\\u2019s subjective and/or objective value though it is not characterized as a \\u201csocial\\u201d trait or by social behavior, in contrast to how narcissism is characterized. Based on our findings and an improved understanding of the narcissism model, we conclude that vanity is more closely related to the grandiose dimension of narcissism and discuss how the underlying motivations of vanity improve our understanding of grandiose narcissism. We discuss the implications that these findings provide to the developing, modern conceptualizations of narcissism and affirm and expand our understanding of vanity in personality.\",\n          \"Abstract Existing research suggests that there is an overlap between binge eating disorder  and the construct of \\u2018food addiction\\u2019 . The objective of this study was to determine the overlapping features of BED and FA through a comparison of the individual scales of commonly used tools including the Binge Eating Scale  and the Yale Food Addiction Scale  in a sample of Australian adults. Adults  were invited to complete an anonymous online survey on FA. Binge eating was assessed through the BES and addictive eating behaviours were assessed through the YFAS . The prevalence and severity of both FA and binge eating increased across weight categories. The overall correlation between the total score from the BES and FA symptoms wasr= 0.76,p< 0.001; for females it wasr= 0.77,p< 0.001, and for males it wasr= 0.65,p< 0.001. Total BES score and the BES emotion factor were most often associated with FA symptoms, as was demonstrated to produce stronger correlations with FA symptoms. In contrast, the BES behaviour factor was less strongly associated to FA with the majority of correlations <0.6. This study demonstrates the overlap between BED and FA, and highlights the possible unique differences between the forms of disordered eating.\",\n          \"Abstract General well-being is a positive evaluation of one\\u2019s mental health, which is an important topic in mental health. General well-being is fundamental to the positive development of young people. A thorough understanding of the factors that influence happiness have not yet been developed for students at normal universities in Ningxia Province in China. This study examined the mediation effects of time management on the relationship between achievement motivation, self-efficacy, and general well-being among students at normal universities in Ningxia Province in China. Using a random sampling, 163 participants  completed the Achievement Motivation Scale , General Self-efficacy Scale , Time Management Questionnaire  and General Well-being Scale . Achievement motivation, self-efficacy, and time management were positively correlated with general well-being. The mediation effects of time management on the relationships between achievement motivation, self-efficacy, and general wellbeing  were demonstrated. These results add to the nuanced relationship between self-efficacy, achievement motivation, and general well-being. According to the Achievement Motivation Theory and the Self-efficacy Theory, this study reveals the role of achievement motivation, self-efficacy on general well-being and the mediating effect of time management in the relationship between achievement motivation, self-efficacy, and general well-being. According to the findings, the school can carry out a series of lectures and tutoring activities to enhance students\\u2019 achievement motivation, self-efficacy, time management, and general well-being.\"\n        ],\n        \"semantic_type\": \"\",\n        \"description\": \"\"\n      }\n    },\n    {\n      \"column\": \"Keywords\",\n      \"properties\": {\n        \"dtype\": \"string\",\n        \"num_unique_values\": 947,\n        \"samples\": [\n          \"Keywords:grandiose narcissism, vulnerable narcissism, narcissism spectrum model, appearance vanity, achievement vanity, pride, empathy\",\n          \"Keywords:binge eating, food addiction\",\n          \"Keywords:achievement motivation, self-efficacy, time management, general well-being, university students\"\n        ],\n        \"semantic_type\": \"\",\n        \"description\": \"\"\n      }\n    },\n    {\n      \"column\": \"Section 1. Introduction\",\n      \"properties\": {\n        \"dtype\": \"string\",\n        \"num_unique_values\": 947,\n        \"samples\": [\n          \"1.1. NarcissismThe word \\u201cnarcissism\\u201d originates from the Greek myth of Narcissus. In the story, Narcissus rejects Echo, the nymph, and the gods punish him by causing him to fall in love with his reflection . Thus, the depiction of the self-absorption and egotism of Narcissus prompted the term \\u201cnarcissism\\u201d that we now use to assess and describe personality composition or pathology. Narcissism is a multi-faceted and relatively stable personality construct traditionally characterized by self-entitlement, self-importance, and excessive preoccupation with one\\u2019s own needs at the expense of others . While narcissism is commonly perceived as a pathology, it can be found in healthy individuals at much lower levels than in individuals with narcissistic personality disorder .In early personality research, narcissism was defined using a single factor model. The current literature conceptualizes narcissism as a spectrum model consisting of the dimensions of grandiose and vulnerable narcissism anchored by a middle-ground dimension of self-entitlement/antagonism that both grandiose and vulnerable narcissism appear to share . In addition, a tri-facet model has recently proposed the agentic , antagonistic , and neurotic  facets of narcissism, which mirror the spectrum in Krizan and Herlache\\u2019s  model . Grandiose narcissism refers to the behaviors and feelings of exhibitionism, arrogance, and overconfidence . Vulnerable narcissism refers to behaviors and feelings of defensiveness and hypersensitivity to criticism, withdrawal, avoidant behaviors, and sensitive attitudes . While both dimensions of narcissism are characterized by self-absorption/self-importance/self-entitlement , with a need for the conservation of the ego, recent research has shown that these trait measures are distinct and have revealed distinctive features of both dimensions of narcissism in interpersonal and social situations. Examples of how the dimensions differ include self-esteem levels, threat perception, external and internal concerns, attachment style, altruistic/prosocial behavior, well-being and, within the Big 5-factor personality assessment, a specific focus on the factors of neuroticism, openness, and extraversion . As the narcissism spectrum model   continues to gain support, we anticipate further expansion of the conceptual model regarding linearity/non-linearity of the dimensions and determining characteristics and behaviors that distinguish the dimensions.1.2. VanityVanity originates from the Latin word vanus or vanitas, which describes something as \\u201cempty\\u201d or \\u201cmeaningless\\u201d . A similar term, vanite, found in the old French literature, translates into futility and self-conceit . Both Latin and French contributed to our understanding of vanity. In English, the term embodies excessive self-concern and the idea that this concern or expectation may be subjective or meaningless to others beyond the self. As we use it, vanity is a concern for a positive view of one\\u2019s appearance and/or achievement; vanity has commonly been considered synonymous with excessive pride . The conceptual and evolutionary foundations of vanity are set out in the social comparison theory developed by Festinger : individuals determine their personal and social self-worth based on how they perceive themselves in contrast to others. People compare themselves to others within their social reference groups as they experience pressure toward uniformity within the reference group . Individuals are motivated to make social comparisons to pursue self-evaluations for self-improvement and self-enhancement to boost self-esteem and self-concept . Social comparison theory thus enables researchers to focus on the manifestations of self-concern, such as physical appearance and personal achievements. However, these are commonly subjective to an individual\\u2019s values and are volatile to external factors.The first notable measure of vanity in personality appeared as a facet in the 40-item Narcissism Personality Inventory  . However, this subscale contains only three items to assess vanity and only provides a limited evaluation of appearance vanity values . Outside this sub-measure, there is a paucity of research on vanity in personality and behavioral psychology. Vanity is predominantly studied within consumerism, where social comparison theory applies to advertising methods and exposure . Vanity is notably measured via two subtypes, appearance vanity and achievement vanity, which reflect the distinct types of personal goals of an individual along with perceptions of their appearance or achievements . Specifically, we observe that an external predictor focuses on vanity and economic behavior and has limited consideration of the core motivations and underlying mechanisms of vanity in personality. A recent study suggested that individuals who self-report higher levels of vanity report higher levels of willingness to endure more external social costs and internal personal costs to achieve the public image they wish to attain. This highlights an important need to expand the personality literature to better understand the affective core of vanity and its patterns or relationships with social behavior in other personal areas of life .1.3. Empathy, Narcissism, and VanityHogan  described empathy as \\u2018\\u2018the intellectual or imaginative apprehension of another\\u2019s condition or state of mind\\u201d, and, to the extent that it correlates with prosocial behavior, empathy is a core motivation of altruistic behavior . Typically, narcissism prompts individuals to engage in public or communal acts of service to boost their self-valuation and affirm their grandiose perceptions about themselves, rather than stemming from empathetic values or altruism . Narcissism has been characterized in research findings as self-centeredness and disregard toward others, which implies a lack of empathy or a deficit in individuals with high levels of narcissism . Other factors may also co-occur  that suppress empathic ability or result in a dysfunctional form of empathy that may register empathy as non-existent in the individual . Higher levels of narcissism and impaired or empathy deficits may lead to relationship dysfunction, impaired social abilities, and an exaggerated self-concept within narcissistic individuals. However, the relationship between vanity  and empathy has not been well-studied. There is a gap in the existing literature regarding studies of vanity and the relationship that empathy may have with the more recent work positing the two types of vanity. This study examines the relationship between vanity and empathy.1.4. Pride, Narcissism, and VanityTracy and Robins  sought to broaden the understanding of pride in personality by outlining two types: authentic and hubristic. These are distinguished by the controllable, specific, or uncontrollable and global attributions that the type of pride reflects . Authentic pride is based on something the individual did , bringing the individual a sense of accomplishment and pride. In contrast, hubristic pride arises from an individual\\u2019s concept of self , derived simply from being and not based on specific actions . Pride can be associated with both prosocial  and antisocial  behaviors . Hubristic pride and elevated levels of narcissism tend to lead to similar dysfunctional social outcomes, as each is positively associated with adverse relational outcomes, antisocial behaviors and perceptions of others, and aggression . Alternatively, authentic pride and genuine self-esteem have positive associations with successful relationships, prosocial outcomes and perceptions, and positive mental health outcomes . Unfortunately, there is a paucity of research on vanity and its associations with pride, as the literature has restricted each to their implied synonymy. Our study seeks to fill this gap in the literature regarding vanity  and its relationship with pride .1.5. Social Behaviors of Interest Regarding Narcissism and Vanity: Sensitivity to Others, Communal Image Management, and Selflessness\\u201cSensitivity to Others\\u201d is a concept rooted in sociality and tied to self-autonomy . This social concept mirrors how reactive or \\u201csensitive\\u201d one is to the thoughts, feelings, intimacy, and needs of others . Sensitivity to others consists of cognitive and behavioral processes about how quick one is to react in providing a need or support to another person and, thus, sustaining their own personal and social need for relationships. Conceptually, sensitivity to others provides the awareness and inclination under which social connectedness and bondedness may occur . Accordingly, sensitivity to others was assessed as a criterion variable to determine whether vanity and narcissism differed in self-reports of social sensitivity and reactivity.Communal image management is the management of one\\u2019s self-presentation to reflect community morale and pleasantry . It consists of qualities of self-presentation that help with \\u201cgetting along\\u201d within a community to which one belongs . We chose communal image management to determine whether vanity and narcissism differ in their associations with one\\u2019s efforts at self-presentation or promote communal morale for the sake of one\\u2019s identity and, importantly, whether based on an actual audience or an \\u201cinternalized\\u201d audience .Selflessness is the ability to push aside needs and interests to fulfill or serve the interests of others . Selflessness has been studied in research focused on social likeability, relational satisfaction, and so on . We chose selflessness to determine whether vanity and narcissism differed in their associations with the inclination or ability to be selfless.1.6. Purpose, Study Outline, and HypothesesNarcissism and vanity are presumed to resemble one another in terms of connotations and usage in communication, and both incorporate self-centered qualities and concerns. Narcissism  is also characterized by a lack of concern for others and a sense of entitlement , whereas vanity is less well specified in comparison in personality literature, although it has been characterized as a drive to increase or highlight one\\u2019s value of self with an additional emphasis on concern about one\\u2019s public image . The single-factor narcissism model traditionally conceptualizes having \\u2018vanity\\u2019 as a facet of narcissism . This is observed in the widely used Narcissism Personality Inventory , which measures vanity using a three-item assessment. The recent reevaluation of narcissism as a dimensional or spectrum model  prompted us to reconsider the validity of vanity as a facet of the newer conceptual model of narcissism, as trait measures of grandiose and vulnerable narcissism are distinct . A recent study found that while single-factor narcissism revealed a strong relationship with the NPI vanity facet, grandiose narcissism revealed a small relationship with NPI vanity and vulnerable narcissism revealed a non-significant relationship with NPI vanity . In addition, a more comprehensive vanity scale  has been established since the introduction of the NPI and warrants the examination of narcissism using a potentially better measure of vanity. Modern developments in both the literature and refinement of methodologies that examine both vanity and narcissism challenge the traditional and more outdated understanding of how the two interrelate. This raises the question we want to explore in this paper: would a more comprehensive measure of vanity reveal associations with both or one of the dimensions of narcissism and therefore remain a facet of the new narcissism model, or may it be the case that vanity is distinct from the dimensions of narcissism as outlined by more recent work? As the topic of narcissism in the psychological community has increased in popularity and contributes value to understanding the self, this calls for a need to further expand the narcissism model and its relationship to other personality constructs and behaviors . It makes sense to reexamine vanity\\u2019s relationship to narcissism as we reassess what is contributing to the characteristic foundation of the dimensions of narcissism. Therefore, we seek to challenge and examine how vanity and narcissism overlap or may not overlap based on current conceptions of the two. Unraveling a potential new relationship between vanity and narcissism will reveal implications related to how we understand the \\u201cmotivational dynamics\\u201d of both narcissism and vanity . Given that these core motivations influence social behavior, we suspect that reevaluating the recent conceptualizations of vanity and narcissism will reveal novel implications associated with the traits and how they influence social behavior.We examined how narcissism and vanity may interact as a function of how each construct relates to other social characteristics to determine whether vanity and narcissism are differentiated. For the selection of the social behaviors to study, we selected social outcomes that are commonly associated as being influenced by narcissism or have been commonly studied relative to personality and the concern with self. These include pride , empathy, sensitivity to others, image management, and selflessness. Our study aims to determine where vanity may reside in personality relative to narcissism and expand on vanity in personality psychology, where a gap in the literature is present.We hypothesized  that narcissism and vanity are distinguishable and independent multidimensional constructs. We hypothesized  that self-reported narcissism and vanity will differ in their associations with social characteristics, such as pride and empathy, and by way of the selected social outcome variables. We hypothesized  that both types of self-reported vanity  will have a negative relationship with empathy and correlate with higher levels of self-reported authentic pride. We hypothesized  that both types of self-reported narcissism will lack a relationship with self-reported empathy and higher levels of self-reported hubristic pride than vanity. However, we also predict that self-reported grandiose narcissism will evidence higher levels of authentic and hubristic pride based on previous literature on single-factor narcissism and pride . Based on the lack of preexisting work on vanity and personality, our study concerning social outcome variables is exploratory. However, we hypothesized  that the dimensions of narcissism will show significant relationship patterns with sensitivity to others, selflessness, and communal image management.\",\n          \"\\u2018Food addiction\\u2019  presents as a contentious construct, which has yet to gain scientific acceptance due to an overall lack of high quality research . There is scientific debate about the appropriateness of terminology, with \\u2018eating addiction\\u2019 previously proposed to be more reflective rather than \\u2018food addiction\\u2019, given the uncertainty of whether addictive eating behaviours more closely align to substance-based addictions, like drug and alcohol addictions, or with behavioural addictions, such as gambling addiction . Addictions to drugs, alcohol, and gambling are formally recognised in the Diagnostic Statistics Manual, version 5  . However, FA is currently not a recognised condition in DSM and instead is characterised through the assessment and endorsement of addiction-like symptoms through self-report tools or surveys. The most commonly used tool is the Yale Food Addiction Scale . Originally developed in 2009 and revised in 2016, the YFAS 2.0 maps to the criteria used to classify substance dependence . The YFAS tool assesses 11 symptoms of addiction, as well the level of distress associated with them, which parallel other addiction symptoms in DSM such as tolerance and craving. In addition, the tool can determine the level of severity of addiction ranging from mild to severe .There has been previous suggestion that FA may be a sub-type of disordered eating, and that the FA construct is an indicator of higher eating disorder severity . Research suggests that FA does show overlap with several disordered eating phenotypes, with the majority of existing research investigating binge eating disorder  and bulimia nervosa rather than other disordered eating categories such as anorexia nervosa .BED is classified by the DSM-5 as the recurrent, periodic, and uncontrolled consumption of large quantities of food without compensatory behaviours  to control weight . It has been estimated that BED affects approximately 2% of the global population , while FA affects approximately 20%, with both conditions found to be more common in females . The prevalence of FA in two existing studies of individuals with diagnosed BED was 41.5% and 56.8% . The prevalence of FA in individuals with a current diagnosis of bulimia nervosa was 83.6% and 100%, and 30% of individuals with a history of bulimia nervosa met the diagnostic criteria for FA . In a more recent study of individuals with clinical BED assessed through an objective clinical interview rather than self-report, those with BED were also identified with FA . Existing research suggests an overlap between these conditions, often through cross-sectional studies, which show that the overlap between BED and FA varies between 0.59 and 0.78) . The overlap between BED and FA however is not 100%, and while binge eating is a key eating disorder feature, the association between FA and disordered eating behaviour is unclear. It is acknowledged that the symptoms of general psychological distress found to be associated with FA are strongly associated with binge eating and other eating disorder symptoms .Similarities in symptomology that exist between FA and BED include the consumption of larger amounts of food than intended, reduced control over eating and continued use despite negative consequences , intense cravings , emotional dysregulation, and increased impulsivity . Due to these similarities, it is not unusual that BED and FA are often highly correlated. A meta-analysis also reported that YFAS symptom scores were positively associated with binge eating behaviours .Existing research has investigated FA specifically in binge eating populations and individuals seeking bariatric surgery, and identified similarities in the specific characteristics of both conditions when assessed by validated surveys . In addition, recent research highlights the associations between patterns of compulsive overeating, including binge eating with \\u2018food addiction\\u2019 . However, these conditions have not been investigated at the scale, factor, or item level of common assessment scales. Instead previous research has explored associations in absolute scores that indicate the overall severity of FA or BED. Investigating factor levels for these constructs may provide important information about where the overlapping features exist and whether there are factors which separate these conditions. Strong correlations would be expected between subscales that may map to the same attribute, and lower correlations between subscales from different attributes. Therefore, the current study aims to determine the overlapping features of BED and FA through a comparison of the individual constructs of the Binge Eating Scale  and YFAS in a sample of Australian adults.\",\n          \"General well-being has been defined as the experience of pleasant emotions like happiness and satisfaction, and the ability to feel good and operate well, the development of personal potential, having some control over life, having goals, and experiencing positive connections . General well-being is a positive evaluation of one\\u2019s mental health, which is an important topic. Individuals with high life satisfaction and high positive emotions may have less depression, loneliness, higher self-esteem, and fewer mental problems .At present, the incidence of psychological problems among college students is frighteningly high, among which depression, anxiety, stress, and other diseases are the most common, accounting for 76%, 88.4%, and 45.5% . These issues can affect the general well-being of college students . When college students enter university, they often feel academic tension, which can also have a certain impact on their general well-being . Among college students, academic stress can increase due to heavy workloads, inadequate faculty support, and an unsupportive campus environment . In addition, academic performance is a major factor in college students\\u2019 employment success. It makes some students feel more stress, resulting in anxiety, depression, and so on . The lack of quality of life may lead to some negative consequences, such as psychological stress, physical discomfort, low mood, social isolation, etc. . The evaluation of college students\\u2019 general well-being has become a key issue in current social and mental health research .Students in normal universities are the key group for the cultivation of educational talents. The term \\u201cnormal university\\u201d is a kind of oxymoron, or contradiction of terms. The term \\u201cnormal\\u201d in English can only be clearly understood with reference to its French roots, where it means \\u201csetting a moral standard or pattern\\u201d . Students from normal Universities in Ningxia will become teachers, educational administrators, and educational researchers in the future. Their educational professional ability will directly affect the development and promotion of education in Ningxia. Ningxia is in the stage of rapid development and transformation, requiring both social stability and sustainable development. University students in normal universities have a professional educational background and knowledge, making them a crucial force in promoting social development in Ningxia .According to the Achievement Motivation Theory and the Self-efficacy Theory, achievement motivation and self-efficacy can influence general well-being . In addition, some studies have showed that time management as well can influence general well-being. Therefore, the current study was aimed to identify the relationship among achievement motivation, self-efficacy, and time management towards general well-being of students at normal universities in Ningxia Province in China.Motivation refers to an innate drive that motivates people to engage in certain activities, and achievement motivation is an important form of motivation. A person\\u2019s success depends on his motivation . In the context of the knowledge economy, motivation is a very important psychological element that occupies a central position among non-intellectual elements and exerts a significant influence on it . Achievement motivation is the self-motivating force created by exceptional people in the survival of the fittest struggle. People are driven to want to engage in tough and meaningful activities, and to be better than others by this motivation .According to the Achievement Motivation Theory, when an individual is able to achieve personal goals, overcome challenges, and achieve success, he will experience a positive emotion, thus improving well-being. Individuals with high achievement motivation are generally more determined and motivated to pursue success, they value their own achievements more, and they have a higher likelihood of experiencing satisfaction and high general well-being .Research shows that there is a strong relationship between people\\u2019s achievement motivation and their level of general well-being. Numerous studies have shown that general well-being and achievement motivation are closely associated, and that high achievement motivation is essential for improving general well-being . People with higher achievement motivation have higher needs for self-realization in their lives. As people progress towards self-realization, they will have a higher sense of well-being overall .The Self-efficacy theory holds that an individuals\\u2019 beliefs and confidence allows them to effectively complete various tasks, namely self-efficacy, and it has an important impact on happiness. Individuals with higher self-efficacy feel they can take on challenges, get through obstacles, and accomplish goals, and are therefore more likely to experience the pleasure of achievement and have high general well-being. Contrarily, individuals with low self-efficacy frequently feel helpless and depressed, and lack confidence in achievement, which affects their general well-being .Research has found that generalized self-efficacy is strongly associated with positive affects  and negative affects . In addition, individual self-efficacy is also a key factor in improving individual general well-being .Time management belongs to a common concept in every management field, and it describes a set of actions used to raise people\\u2019s time utilization rate, so that they can make better use of their time, so as to achieve their own or organizational goals . People with high achievement motivation often have a strong desire for success and have a high enthusiasm for success. In order to achieve success, they need to understand the importance of time, monitor and use time reasonably and efficiently to achieve their goals. On the contrary, individuals with low levels of achievement motivation have insufficient understanding of time value and a low ability of time monitoring. Achievement motivation can predict time management tendency. Lu  and Xin et al.  have proved that the higher the college students\\u2019 achievement motivation, the stronger their time management ability and ability to effectively monitor time .Zhang et al.  and Li et al.  pointed out that general self-efficacy can significantly positively predict time management tendency . Individuals who have a high sense of general self-efficacy are full of confidence in their ability to deal with things, and they can deal with and arrange various problems properly, so they can better plan, arrange, and make use of their time. While time control is a common problem among college students, time control is also a recurring problem that can have an emotional and physical impact on students in rigorous majors . Existing studies have shown that young people experience increased levels of stress and decreased levels of general well-being due to learning, environmental factors, and time-management skills . Some previous independent studies have confirmed the effectiveness of some interventions that aim to increase general well-being in education environments, such as smart devices, and the use of time management aides . Based on the results of previous research, hypotheses 1\\u20135 were proposed.Hypothesis1.There is a positive influence of achievement motivation on general well-being.Hypothesis2.There is a positive influence of self-efficacy on general well-being.Hypothesis3.There is a positive influence of time management on well-being.Hypothesis4.Time management mediates the relationship between achievement motivation and well-being.Hypothesis5.Time management mediates the relationship between self-efficacy and well-being.\"\n        ],\n        \"semantic_type\": \"\",\n        \"description\": \"\"\n      }\n    },\n    {\n      \"column\": \"Section 2. Materials and Methods\",\n      \"properties\": {\n        \"dtype\": \"string\",\n        \"num_unique_values\": 947,\n        \"samples\": [\n          \"2.1. ParticipantsParticipants were 441 undergraduate students from a large public midwestern university enrolled in PSY101 coursework. The sample consisted of 329 females, 102 males, and 10 participants who did not disclose their gender or self-reported as non-binary. There were no differences by gender on any of the primary predictor variables, and, as a result, we did not perform any analyses by gender. The mean age was 19.0 . The racial/ethnic composition of our sample was reported to be 78.3% white, 8.9% Hispanic or Latino, 5.3% African American or Black, 3.4% Asian or Pacific Islander, 3.1% multi-ethnic, less than 1% reported as American Indian or Alaskan Native, and less than 1% did not report their racial/ethnic identity.2.2. Measures/InstrumentsThe Narcissism Personality Inventory-16  or NPI-16 assesses subclinical narcissism, considering the traditional characteristics of narcissism associated with grandiose narcissism . The NPI-16 consists of 16 paired items, with 0 scoring if a participant chooses the neutral statement and 1 scoring if the grandiose statement is chosen. An example of a grandiose item from this measure states, \\u201cI like to be the center of attention\\u201d, with its counterpart as \\u201cI prefer to blend in with the crowd\\u201d. After reverse scoring the requisite items, NPI-16 scores were obtained by summing the total survey responses of the participants; the score represents the number of grandiose narcissism characteristics self-reported as present. Cronbach\\u2019s alpha for the Narcissism Personality Inventory was reported as 0.85 .The hypersensitive narcissism scale   assesses subclinical narcissism characteristics associated with vulnerable narcissism . The HSNS consists of 10 5-point Likert scale items, with 1 scoring as \\u201cstrongly disagree\\u201d and 5 scoring as \\u201cstrongly agree\\u201d. An example of an item from this measure states, \\u201cI dislike being in a group unless I know that I am appreciated by at least one of those present\\u201d. Scores were obtained by summing the participants\\u2019 survey responses; the score represented the number of vulnerable narcissism characteristics self-reported as present. Cronbach\\u2019s alpha for the hypersensitive narcissism scale has been reported as 0.72 and 0.76 for females and males, respectively, scoring the male data sample from Cheek and Melchior\\u2019s  data .The vanity scale  consists of two subscales of vanity  to assess the trait across four total dimensions: appearance concern, appearance view, achievement concern, and achievement view. The vanity scale consists of 21 7-point Likert-scale items, with 1 scoring as \\u201cstrongly disagree\\u201d and 7 scoring as \\u201cstrongly agree\\u201d. An example of an appearance vanity item from this measure states, \\u201cThe way I look is extremely important to me\\u201d. An example of an achievement vanity item from this measure states, \\u201cI am more concerned with professional/academic success than most people I know\\u201d. Scores were obtained by summing the total of the participants\\u2019 survey responses to the subscales of appearance vanity and achievement vanity, and the scores of each subscale represented the amount of appearance and/or achievement vanity characteristics self-reported as present. Cronbach\\u2019s alpha for the vanity scale has been reported across the four scale dimensions ranging from 0.80 to 0.92 .The pride short-form scale  assesses how closely one may generally feel daily towards descriptive words that describe authentic and/or hubristic pride based on self-reporting. The scale consists of 14 items rated on a 5-point Likert scale ranging from 1  to 5 . An example of an authentic pride item from this measure states, \\u201cRate to the extent you generally feel accomplished\\u201d, and an example of a hubristic pride item states, \\u201cRate to the extent you generally feel smug\\u201d. Cronbach\\u2019s alpha for the pride short-form scale has been reported as 0.88 for the authentic pride scale and 0.90 for the hubristic pride scale.The Jackson Personality Inventory: Empathy , or JPI: EMP assessed self-reported levels of empathetic ableness toward others. The full-length JPI consists of 300 true/false items, with 15 subscales of personality domains. We used items from the empathy subscale. An example of an item from the empathy subscale states, \\u201cI feel others\\u2019 emotions\\u201d. Cronbach\\u2019s alpha for the Jackson Personality Inventory: Empathy has been reported as 0.80 .The autonomy\\u2013connectedness scale , or ACS, assesses \\u201cself-awareness, sensitivity to others, and the capacity for managing new situations\\u201d. The ACS consists of 30 items with three subscales to measure the respective attributes. The items were measured on a 5-point Likert scale ranging from 1  to 5 . We used items from the subscale of \\u201csensitivity to others\\u201d. An example of an item from the sensitivity to others subscale states, \\u201cI can hardly bear it when people are angry with me\\u201d. Cronbach\\u2019s alpha for the autonomy\\u2013connectedness scale has been reported as 0.78 for the subscale of \\u201csensitivity to others\\u201d .The bidimensional image/impression management scale , or IM, assesses the distinction between agency and communal image management of one\\u2019s self-presentation based on self-reports. The IM short form consists of 20 items derived from the SDR  and forms the subscales of agentic management  and communal management  . The items were measured on a 7-point Likert scale ranging from 1  to 7 . We used the communal image management subscale to assess image management within a social/communal context. An example from the communal image management subscale states, \\u201cI have done things that I don\\u2019t tell other people about\\u201d. Cronbach\\u2019s alpha for the bidimensional image management scale, specifically the communal management subscale, ranged from 0.75 to 0.91 .The selflessness scale   assesses the perception of one\\u2019s ability to act selflessly based on self-reports. The SS consists of 15 items rated on a 4-point Likert scale ranging from 1  to 4 . An example of an item from the scale states, \\u201cI am willing to sacrifice a lot for the benefit of others\\u201d. Cronbach\\u2019s alpha for the selflessness scale was 0.66 .2.3. ProcedureStudents from undergraduate psychology courses at the university were asked to participate in an online study using a Qualtrics survey via SONA Systems. The survey included 116 multiple-choice questions, and each scale was scored on a 5-point Likert scale, scoring  strongly disagree to strongly agree , a 7-point Likert scale scoring  strongly disagree to strongly agree , or as a true/false scale with  false and  indicating that the statement was true. We estimated that participants would require approximately 20\\u201330 min to complete the self-report-based survey. The IRB required that participant background information be obtained before opening the survey portion and informed consent was obtained before the initiation of the survey. Upon completing the survey, each participant was debriefed, thanked, and received credit for their designated psychology course. Results from the questionnaires were then organized and analyzed using SAS software, Version 9.4 of the SAS System for Unix . Copyright \\u00a9 2020 SAS Institute Inc. SAS and all other SAS Institute Inc. product or service names are registered trademarks or trademarks of SAS Institute Inc., Cary, NC, USA.2.4. Data AnalysisThe results from the questionnaires were organized and analyzed using SAS software, Version 9.4 of the SAS System for Unix . Correlation analysis was performed for each respective independent variable with every dependent variable to assess the potential relationships between our traits of interest and the social characteristics selected. Based on our study design, we checked for the possibility of common method variance . Per Eichhorn  , we used SAS to run a non-rotated principal single-factor test to perform Harman\\u2019s single-factor test. The Harman single-factor technique estimated CMV to be 25.2%. This did not exceed the commonly accepted threshold of 50% and suggested that CMV was not influencing our findings. Regression analysis was performed to control for shared variance in our predictor variables based on Tracy et al.,   and should be interpreted in such a manner.\",\n          \"Participants aged 18 years or above and living in Australia were invited to complete an anonymous online survey on FA. The survey took approximately 20 min to complete. Exclusion criteria included being pregnant/currently lactating and being unable to comprehend English. Recruitment was undertaken over a three month period in 2016. The study was advertised through University of Newcastle media releases and promoted via a variety of social media platforms . The advertisements contained a link to the survey, and participants provided informed consent before completing the survey. Survey completers were invited to enter a prize draw to win 1 of 10 shopping vouchers . This study was approved by The University of Newcastle Ethics Committee.The survey comprehensively assessed a range of measures relating to diet and mental health which has been previously reported . The current study is a secondary analysis relating specifically to FA and BED status. Demographic information was assessed through 10 items and included information on gender, age, ethnicity, marital status, postcode, highest level of education, height, and weight, which was converted into body mass index  using standardised equations. Participants\\u2019 BMI was then classified according to World Health Organisation classifications . Postcode was used to determine the Index of Relative Socioeconomic Advantage and Disadvantage , where postcode is rated from one  to 10 .FA was assessed using the 35-item YFAS 2.0 . Each question offers a participant an option of eight responses ranging from \\u2018never\\u2019 to \\u2018every day\\u2019. Each symptom is considered met when one or more of the relevant questions for each criteria meet a predefined threshold. It provides a \\u2018diagnosis\\u2019 of FA which, depending on the number of symptoms endorsed, can be classified as \\u2018mild\\u2019, \\u2018moderate\\u2019 or \\u2018severe\\u2019. A mild diagnosis score is given when 2\\u20133 symptoms are reported, moderate when 4\\u20135 symptoms are present, and severe when 6 or more symptoms. Symptoms include tolerance, withdrawal, and loss of control with respect to eating behaviour. The YFAS 2.0 asks participants to think of specific foods such as highly processed foods; however, participants in this study were asked to consider all food. In the current study, the Cronbach alpha for this tool was 0.95, indicating acceptable internal consistency.Binge eating was assessed through the standardised BES, which comprises 16 questions. Each question requires a response consisting of three to four possible responses, reflecting a range of severity. The total score is tallied to give a score out of 46, with higher scores representing increased binge status. Based on the total score, individuals can be classified as \\u2018no binge eating\\u2019 if the score is \\u226417, \\u2018mild to moderate binge eating\\u2019 if the score is 18\\u201326, and \\u2018severe binge eating\\u2019 if the score is >27. The BES has been previously shown to have a two-factor structure, which was originally demonstrated by Gormally et al.  and confirmed more recently by Kelly et al. . These factors relate to  behavioural manifestations  including factors such as eating large amounts of food, and  feelings and cognitions  surrounding a binge eating episode including guilt, fear of not being able to stop eating, and preoccupation with eating. For the current study, in addition to the total score, the two-factor scores were also determined according to author instructions. The BES is not designed as a direct measure of BED . In the current, study the Cronbach alpha for this tool was 0.92, indicating acceptable internal consistency.Statistics: Descriptive statistics were undertaken,t-tests were used to examine differences between groups . ANOVA were used to determine differences in addiction severity . Correlation matrices for the scales for both YFAS and BES were undertaken. Also, Spearman and Pearson correlations were determined in the cases where data distribution was not normal. Both correlations produced similar results; associations between factors of the BES and between symptoms of the YFAS are presented using Pearson correlations. Correlations were determined as small , medium , or large . The correlation analysis between scales used for this study has been undertaken in previous health research . The results presented are for complete cases, with 869 of the 1344 respondents who started the survey having answered all questions. A missing value analysis was undertaken, and the demographics of those with missing values were compared, with no patterns identified. Therefore, there was no imputation of data for missing values. Due to the multiple statistical tests completed as part of this analysis, data were adjusted using a Bonferroni correction with a lower statistical threshold, and a statistical significance ofp< 0.01. Data was analysed using SPSS version 22.0 .\",\n          \"Respondents in this study were students at normal universities in Ningxia. 215 questionnaires were collected online through Questionnair Star , then, 52 invalid cases  were deleted, therefore, a total of 163 valid questionnaires were kept. According to the results of the demographic survey, the participants comprised 68 men  and 95 women . Among them, there were 59 freshman , 21 sophomore , and 83 three-grade students .We measured achievement motivation using the Achievement Motivation Scale  . There are two dimensions of achievement motivation: pursuing success  and avoiding failure . The five-point Likert scale was used. Numerical numbers were given to represent the level of agreement of each item . The total score is obtained by subtracting the score of the avoiding failure dimension from the score of the pursuing success dimension. A higher mean on this scale indicates higher achievement motivation while a lower mean indicates lower achievement motivation. Test\\u2013retest reliability of the Achievement Motivation Scale is 0.77.We evaluated students\\u2019 self-efficacy using the General Self-efficacy Scale  with 10 items . The four-point Likert scale was used. Numerical numbers were given to represent the level of agreement of each item . The coefficient of internal consistency of the General Self-efficacy Scale is 0.91.We measured time management using the Time Management Questionnaire  . There are three dimensions of time management in this study: time value , time monitoring , and time efficacy . Among them, there are 5 negative items. The five-point Likert scale was used. Numerical numbers were given to represent the level of agreement of each item . A higher mean on this scale indicates higher time management while a lower mean indicates lower time management. Negative items were reversed and implemented by assigning the highest value  to the lowest response and the lowest value  to the highest response. The test\\u2013retest reliability of the Time Management Questionnaire and its dimensions is between 0.71 and 0.85, and the Cronbach Alpha value is between 0.61 and 0.81.We measured general well-being using the General Well-being Scale   . There are six dimensions of general well-being in this study: friendship , freedom , achievement , family , environment , and school . There are 5 negative items. The seven-point Likert scale was used. Numerical numbers were given to represent the level of agreement of each item . A higher mean on this scale indicates higher general well-being while a lower mean indicates lower general well-being. The coefficient of stability of the General Well-being Scale and its dimensions is between 0.67 and 0.82, and the Cronbach Alpha value is between 0.71 and 0.91.Written informed consent was obtained from all subjects involved in the study. All respondents were informed that the information they provide, and their identity remain confidential.Descriptive statistics, at-test, an ANOVA, and a correlation analysis of the variables were all performed using SPSS 23.0. The SPSS PROCESS macro was used to the test hypotheses .\"\n        ],\n        \"semantic_type\": \"\",\n        \"description\": \"\"\n      }\n    },\n    {\n      \"column\": \"Section 3. Results\",\n      \"properties\": {\n        \"dtype\": \"string\",\n        \"num_unique_values\": 947,\n        \"samples\": [\n          \"All the correlations, means, and alphas  are listed inTable 1. Both self-reported appearance vanity and achievement vanity revealed significant positive relationships with grandiose narcissism. In addition, self-reported appearance vanity and achievement vanity were positively associated with vulnerable narcissism. In accordance with our predictions, self-reported vulnerable narcissism and grandiose narcissism revealed positive relationships with hubristic pride. Our results also confirmed our prediction that an individual with vulnerable narcissism would report a significant negative relationship with authentic pride. In contrast, self-reported grandiose narcissism showed a significant positive relationship with authentic pride.Table 1.Means, Cronbach alphas, and correlations between narcissism, vanity, pride, empathy, bondedness, selflessness, and communal image management.CriterionGran. Narc.Vuln.Narc.Ach. VanityApp. VanityEmpathyA. PrideH.PrideSensitiveSelflessIMGrandiose narcissismVulnerable narcissism0.02Achievement vanity0.34 ***0.21 **Appearance vanity0.26 ***0.18 **0.38 ***Empathy\\u22120.14 *0.13 *0.060.05Authentic pride0.35 ***\\u22120.21 **0.24 ***0.41 ***\\u22120.06Hubristic pride0.34 ***0.19 **0.14 *0.08\\u22120.17 **0.16 *Sensitivity to others\\u22120.25 ***0.18 **\\u22120.060.040.55 ***\\u22120.24 ***\\u22120.22 **Selflessness\\u22120.24 ***\\u22120.13 *\\u22120.05\\u22120.030.38 ***\\u22120.07\\u22120.22 **0.49 ***Communal image management\\u22120.21 **\\u22120.27 ***\\u22120.14 *\\u22120.090.0040.12 *\\u22120.21 **\\u22120.10*0.20 **Means20.430.846.144.316.920.212.255.736.233.4SD2.85.210.69.22.54.74.78.74.98.6Open in a new tabNote: All scales have N = 441. Gran. Narc = Grandiose narcissism; Vuln. Narc. = Vulnerable narcissism; Ach. Vanity = Achievement vanity; App. Vanity = Appearance vanity; A. Pride = Authentic pride; H. Pride = Hubristic pride; Sensitive = Sensitivity to others; Selfless = Selflessness; Communal IM = Communal image management. *p< 0.05 **p< 0.001 ***p< 0.0001.As predicted, both subtypes of vanity were associated with significant levels of authentic pride; participants who self-reported achievement vanity and appearance vanity revealed positive relationships with authentic pride. Differences in the correlations were reported as significant, with self-reported appearance vanity evidencing a stronger relationship with authentic pride . Self-reported achievement vanity also had a small positive association with hubristic pride. Differences between the correlations of achievement vanity and hubristic pride and vulnerable narcissism and hubristic pride were non-significant. Self-reported appearance vanity was not significantly associated with hubristic pride.As noted, prior work has found that people reporting higher levels of trait narcissism lack the ability to empathize or endorse empathetic values. Our prediction aligns with the finding of a slight inverse relationship between self-reported grandiose narcissism and empathy. However, the finding of a slight positive correlation between self-reported vulnerable narcissism and empathy contradicts our predictions. We predicted that people\\u2019s self-reported vanity would also report empathy. However, the results revealed that self-reported achievement and appearance vanity had no significant relationships with empathy.We then considered the predictors of narcissism and vanity with theoretical social behavior outcome variables. Individuals who reported grandiose narcissism were found to have a significant negative relationship with sensitivity to others. In contrast, self-reported vulnerable narcissism positively correlated with sensitivity to others. Individuals with self-reported appearance vanity and achievement vanity had non-significant relationships with sensitivity to others. Self-reported grandiose narcissism and vulnerable narcissism revealed significant negative relationships with communal image management). Likewise, self-reported achievement vanity and communal image management revealed a slightly negative relationship, whereas self-reported appearance vanity was not significant. While individuals with vulnerable narcissism reported a small negative relationship with selflessness, self-reported grandiose narcissism revealed a much stronger negative association with selflessness. Participants who reported higher levels of achievement vanity and appearance vanity had non-significant relationships with selflessness.A series of regressions were run on pride and empathy, where we simultaneously entered grandiose narcissism, vulnerable narcissism, appearance vanity, and achievement vanity as predictors, as shown inTable 2. This aimed to control for any potential shared variance that these predictors might have had in the correlation analysis. For empathy, self-reported grandiose narcissism as a negative predictor held in the regression, whereas the relationship between self-reported vulnerable narcissism and empathy was reduced to non-significance. Self-reported achievement and appearance vanity remained non-significant to empathy. For authentic pride, self-reported vulnerable narcissism held as a negative predictor in the regression, and self-reported appearance vanity and grandiose narcissism held as positive predictors. Achievement vanity\\u2019s relationship to authentic pride was reduced to non-significance. Regarding hubristic pride, self-reported grandiose and vulnerable narcissism remained positive predictors, while achievement vanity was reduced to non-significance. Appearance vanity remained non-significant.Table 2.Regression analyses controlling for shared variance and predicting pride and empathy traits related to narcissism and vanity.Dependent VariableGrandioseNarcissismVulnerableNarcissismAppearance VanityAchievement VanityEmpathy\\u22120.15 ** 0.06 0.01 0.02 Authentic pride0.38 ** \\u22120.27 ** 0.19 ** 0.03 Hubristic pride0.56 ** 0.18 ** \\u22120.02 0.001 Open in a new tabNote: All scales have N = 441. **p< 0.001.Another series of regressions were run on all social behavior outcome variables. We simultaneously entered grandiose narcissism, vulnerable narcissism, appearance vanity, and achievement vanity as predictors, as shown inTable 3. This was executed to control for any potential shared variance between these predictors, as discussed in the previous regression. Regarding sensitivity to others, self-reported grandiose narcissism remained a negative predictor, whereas self-reported vulnerable narcissism remained a positive predictor. Self-reported achievement vanity remained non-significant for sensitivity to others. Interestingly, self-reported appearance vanity became a positive predictor for sensitivity to others. For selflessness, self-reported grandiose and vulnerable narcissism remained negative predictors, while vanity predictors remained non-significant. Regardingcommunal image management, self-reported grandiose and vulnerable narcissism remained as negative predictors. However, the relationship between achievement vanity and communal image management was reduced to non-significance, while appearance vanity remained non-significant in the regression model.Table 3.Regression analyses controlling for shared variance and predicting theoretical constructs related to narcissism and vanity.Dependent VariableGrandiose NarcissismVulnerable NarcissismAppearance VanityAchievement VanitySensitivity to others\\u22120.30 * 0.16 * 0.12 * \\u22120.05 Selflessness\\u22120.27 ** \\u22120.17 ** 0.02 0.009 Communal image management\\u22120.60 ** \\u22120.29 ** \\u22120.06 \\u22120.04 Open in a new tabNote: All scales have N = 441. *p< 0.05 **p< 0.001.\",\n          \"3.1. ParticipantsThe survey recruitedn= 1344 individual; 80.7% were female and 19.3% were male. The demographic details can be found inTable 1. The mean ISRAD score was 6.2 \\u00b1 2.9, reflecting a moderate socioeconomic status; however, this value varied from 1\\u201310, reflecting a moderately diverse population group. A total of 44.3% of the sample were married, 27% were never married, and 14.5% had been married but were without a current partner. The population comprised 1.6% with a trade/apprenticeship, 20% with a certificate/diploma, 36% with a university degree, and 31% with a higher education including masters, Ph.D.Table 1.Demographic details of samples according to food addiction status.DemographicNFA Male FA Male pValueNFA Female FA Female pValueMean \\u00b1 SDMean \\u00b1 SDMean \\u00b1 SDMean \\u00b1 SDAge42.0 \\u00b1 13.246.0 \\u00b1 16.40.53139.6 \\u00b1 13.140.1 \\u00b1 13.00.407Height178.8 \\u00b1 0.1179.7 \\u00b1 0.10.629166.0 \\u00b1 0.1165.9 \\u00b1 0.10.935Weight87.4 \\u00b1 15.4113.7 \\u00b1 28.3<0.0170.0 \\u00b1 16.788.4 \\u00b1 22.9<0.01BMI *27.4 \\u00b1 4.835.4 \\u00b1 8.8<0.0125.5 \\u00b1 6.032.7 \\u00b1 13.1<0.01n= 149n= 22n= 517n= 183BES total7.4 \\u00b1 5.820.1 \\u00b1 6.1<0.018.5 \\u00b1 6.522.8 \\u00b1 8.1<0.01Open in a new tabNote: Statistically significant differences between sex determined byt-tests. NFA, non-food addicted; FA, food addicted; BES, Binge Eating Survey. BMI body mass index3.2. Food Addiction and Binge EatingAcross the whole sample, the prevalence of FA was found to be 22.2% . This differed significantly by gender, with females  having a higher prevalence than males . According to the YFAS 2.0 categorisations of severity, the majority of individuals classified as severely food addicted 18.9% , while 2.6%  were moderately addicted, and <1% were classified as mild. The prevalence and severity of both FA and binge eating increased across weight categories .Table 2.Comparison of food addiction  and Binge Eating  according to BMI categorya.ConditionUnderweight Healthy Overweight Obese pValueFood Addiction %%%%NFA85.792.578.753.8<0.001Mild FA0.00.90.40.70.368Moderate FA7.11.63.43.50.07Severe FA7.15.017.542.0<0.001Binge Eating Non-bingeing90.089.374.850.6<0.001Moderate10.07.519.530.4<0.001Severe0.03.25.819.0<0.001Open in a new tabNote: Data are shown as percentages within each group. Statistical significance was determined using ANOVA between weight categoriesaBMI categories : Underweight \\u226418.50, Healthy = 18.50\\u201324.99, Overweight = 25.00\\u201329.99, Obese \\u226530.00. FA, food addiction; NFA, non-food addicted.For those who had completed the BES, the mean BES score was 11.9 \\u00b1 9.3 . For males the mean BES scores was 9.2 \\u00b1 7.4 , and for females the mean score was 12.6 \\u00b1 9.6 . The mean values for each sex were significantly different . For the BES, severity for the total group was determined, with 74% of individuals classified as non-binge eaters , 17.4%  moderate binge eaters, and 8.7%  severe binge eaters. Differences in BES severity were determined by sex, and significant differences were found between males and females. Among non-binge eaters, males accounted for 86.2% vs. females 70.9%, among moderate binge eaters it was males 12.1% vs. females 18.6%, and among severe binge eaters it was males 1.7% vs. females 10.4%, allp< 0.01. Individuals with FA reported significantly higher on the BES total, emotions, and behavioural scales than those who were non-food addicted . Of those with FA, 72.7% reported scores of either moderate  or severe  bingeing compared with only 9.9% in the non-food addicted group. A significant correlation was found between the two-factor scores of behaviours and emotions of the BES:r= 0.82,p< 0.001 .Table 3.Comparison of BES scores and categories according to food addiction status.ConditionNFA FA pValueMean \\u00b1 SDMean \\u00b1 SDBES total8.23 \\u00b1 6.3522.56 \\u00b1 7.93<0.001BES emotions4.05 \\u00b1 3.7112.76 \\u00b1 4.44<0.001BES behaviours4.72 \\u00b1 3.6611.56 \\u00b1 4.75<0.001%%Non-bingeing90.127.3<0.001Moderate bingeing9.041.00.046Severe bingeing0.931.7<0.001Total100.0100.0Open in a new tabNote: BES, Binge Eating Survey; NFA, Non-food addicted; FA, food addicted. Differences in BES scores determined by independent samplest-tests, differences in proportions for BES category determined by chi squares.Table 4.Pearson correlation coefficients between the BES factors and YFAS symptoms .MeasureBES TotalBES EmotionsBES BehavioursBinge Eating1. BES total-2. BES emotions0.95 ***-3. BES behaviours0.96 ***0.82 ***-Food Addiction4. Total FA symptoms0.76 ***0.75 ***0.71 ***5. Consumed more than planned0.24 ***0.21 ***0.25 ***6. Unable to cut down or stop0.61 ***0.62 ***0.55 ***7. Great deal of time spent0.58 ***0.55 ***0.56 ***8. Activities given up or reduced0.61 ***0.61 ***0.56 ***9. Continued use despite physical/emotional consequences0.67 ***0.67 ***0.60 ***10. Tolerance0.54 ***0.54 ***0.50 ***11. Withdrawal0.52 ***0.52 ***0.48 ***12. Continued use despite social consequences0.52 ***0.51 ***0.48 ***13. Fail to fulfil roles and obligations0.53 ***0.53 ***0.48 ***14. Use in physically hazardous situations\\u22120.49 ***\\u22120.50 ***\\u22120.44 ***15. Craving0.65 ***0.64 ***0.59 ***16. Impairment or distress0.68 ***0.70 ***0.61 ***Open in a new tab***p< 0.001. Shading indicates correlations that are >r= 0.6, BES, Binge Eating Survey; YFAS, Yale Food Addiction Scale.3.3. Relationships between Food Addiction and Binge EatingThe overall correlation between the total score from the BES and FA symptoms wasr= 0.76,p< 0.001; for females it wasr= 0.77,p< 0.001, and for males it wasr= 0.65,p< 0.001 . Total BES score and BES emotion factor were more strongly associated with FA symptoms, as evidenced by the majority of correlations  with values >0.6. In contrast, the BES behaviour factor was less strongly associated to FA, as evidenced by smaller correlation values, with only three correlations classified as large . Of the 11 individual FA symptoms and clinical impairments, correlations with BES factors and the FA symptoms \\u2018consumed more than planned\\u2019 were small, with the majority being <0.3, while \\u2018use in physically hazardous situations\\u2019 produced significant negative correlations.Figure 1.Open in a new tabCorrelation between BES total scores and YFAS symptom scores.\",\n          \"3.1. Descriptive StatisticsAsTable 1shows, the overall mean of achievement motivation was 0.16 , meaning that there is little difference in the average score between pursuing success and avoiding failure. The overall mean of self-efficacy , time management , and general well-being  obtained was 2.68 , 3.51 , and 4.98 , respectively, meaning that the respondents\\u2019 self-efficacy, time management, and general well-being was positive and moderate.Table 1.Descriptive statistics.MSDachievement motivation0.160.8self-efficacy2.680.4time management3.510.39general well-being4.980.71Open in a new tab3.2. Differences of Demographic Variables in Achievement Motivation, Self-Efficacy, Time Management, and General Well-BeingIn order to identify differences in students\\u2019 achievement motivation, self-efficacy, time management, and general well-being between genders, an independent samplest-test was employed.As shown inTable 2, the mean of the males\\u2019 achievement motivation was 0.099 , and the mean of the females\\u2019 achievement motivation was 0.207 . There were no significant differences in achievement motivation between genders . The mean of the males\\u2019 general self-efficacy was 2.71 , and the mean of the females\\u2019 general self-efficacy was 2.67 . There were no significant differences in general self-efficacy between genders . The mean of the males\\u2019 time management was 3.53 , and the mean of the females\\u2019 time management was 3.5 . There were no significant differences in time management between genders . The mean of the males\\u2019 general well-being was 4.96 , and the mean of the females\\u2019 general well-being was 5 . There were no significant differences in general well-being between genders .Table 2.Independent samplest-test.Male Female tpachievement motivation0.099 \\u00b1 0.8190.207 \\u00b1 0.785\\u22120.8510.396self-efficacy2.71 \\u00b1 0.4512.67 \\u00b1 0.3550.6020.548time management3.53 \\u00b1 0.4313.5 \\u00b1 0.3680.5540.58general well-being4.96 \\u00b1 0.7365 \\u00b1 0.696\\u22120.390.697Open in a new tabIn order to identify differences in students\\u2019 achievement motivation, self-efficacy, time management, and general well-being between grades, ANOVA was employed.As shown inTable 3, the mean of the freshmen\\u2019s achievement motivation was 0.1 , and the mean of the sophomore\\u2019s achievement motivation was \\u22120.12 , and the mean of the three-grade students\\u2019 achievement motivation was 0.28 . There were no significant differences in achievement motivation between grades . The mean of the freshmen\\u2019s self-efficacy was 2.61 , and the mean of the sophomore\\u2019s self-efficacy was 2.69 , and the mean of the three-grade students\\u2019 self-efficacy was 2.73 . There were no significant differences in general self-efficacy between grades . The mean of the freshmen\\u2019s time management was 3.5 , and the mean of the sophomore\\u2019s time management was 3.54 , and the mean of the three-grade students\\u2019 time management was 3.51 . There were no statistically significant differences in time management between grades . The mean of the freshmen\\u2019s well-being was 5.12 , and the mean of the sophomore\\u2019s well-being was 4.86 , and the mean of the three-grade students\\u2019 self-efficacy was 4.91 . There were no statistically significant differences in general well-being between grades .Table 3.ANOVA.FreshmanSophomoreThree-Grade Students Fpachievement motivation0.1 \\u00b1 0.843\\u22120.12 \\u00b1 0.5970.28 \\u00b1 0.7962.3920.095self-efficacy2.61 \\u00b1 0.3052.69 \\u00b1 0.4182.73 \\u00b1 0.4441.4990.226time management3.5 \\u00b1 0.3683.54 \\u00b1 0.4763.51 \\u00b1 0.3950.1140.893general well-being5.12 \\u00b1 0.734.86 \\u00b1 0.8414.91 \\u00b1 0.6531.8750.157Open in a new tab3.3. Relationships between Students\\u2019 Achievement Motivation, Self-Efficacy, Time Management, and Well-BeingIn this study, Pearson\\u2019s correlation was chosen to represent the relationship between students\\u2019 achievement motivation, general self-efficacy, time management, and general well-being.Table 4shows that the correlations are all significant, and the values are between 0.250 and 0.545. The value of the Pearson Correlation between achievement motivation and general well-being was 0.250, so there was a significant low positive relationship between achievement motivation and general well-being. The result revealed that students who have high achievement motivation tend to have high general well-being. The table shows that the relationship between self-efficacy and general well-being was a significant low positive relationship as well . The result implied that students with high self-efficacy tend to have high general well-being. The results from the Pearson\\u2019s Correlation statistics analysis showed that there was a significant moderate relationship between time management and general well-being . The result also implied that students who have high time management tend to have high general well-being.Table 4.Correlations.1231achievement motivation12self-efficacy0.331 **3time management0.352 **0.455 **4general well-being0.250 **0.252 **0.545 **Open in a new tab**p< 0.01.3.4. Hypotheses TestsThe regression results  show that achievement motivation, and time management can predict general well-being. In model 1, achievement motivation can significantly positively predict general well-being . Model 2 showed that there was a significant positive effect between achievement motivation and time management . The results of model 3 showed that there was a positive effect between achievement motivation and general well-being , and time management significantly predicted general well-being . In model 3, after time management was added, the effect of achievement motivation on general well-being was not significant.Table 5.Hierarchical regression analysis results of achievement motivation, time management, and general well-being.VariablesModel 1Model 2Model 3General Well-BeingTime ManagementGeneral Well-Being\\u03b2t\\u03b2t\\u03b2tachievement motivation0.2503.278 **0.3524.779 ***0.0660.938time management0.5227.386 ***F10.744 **22.841 ***34.432 ***R20.0570.1190.292Open in a new tab**p< 0.01,***p< 0.001.The regression results  show that self-efficacy, and time management can predict general well-being. In model 1, self-efficacy could significantly positively predict general well-being . Model 2 showed that there was a significant positive effect between self-efficacy and time management . The results of model 3 showed that there was a positive effect between self-efficacy and general well-being , and time management significantly predicted general well-being . In the model 3, after time management was added, the effect of self-efficacy on general well-being was not significant.Table 6.Hierarchical regression analysis results of self-efficacy, time management, and general well-being.VariablesModel 1Model 2Model 3General Well-BeingTime ManagementGeneral Well-Being\\u03b2t\\u03b2t\\u03b2tself-efficacy0.2523.304 **0.4556.482 ***0.0050.069time management0.5437.292 ***F10.916 **42.011 ***33.81 ***R20.0580.2020.288Open in a new tab**p< 0.01,***p< 0.001.On the basis of the regression model, the mediation model of SPSS macro was used. The bootstrap method was conducted to examine if the mediating effect was significant; the sample size was 5000 and the confidence was 95%. Based on this, the mediating effect of time management between achievement motivation, self-efficacy, and general well-being was analyzed.Table 7andTable 8show the results.Table 7.Effects and 95% confidence intervals of achievement motivation, time management, and general well-being.Time ManagementAchievement Motivation on General Well-BeingEffectBoot SEBoot LLCIBoot ULCIDirect effects0.0590.063\\u22120.0650.183Indirect effects0.1640.0360.0940.237Open in a new tabTable 8.Effects and 95% confidence intervals of self-efficacy, time Management, and general well-being.Time ManagementSelf-Efficacy on General Well-BeingEffectBoot SEBoot LLCIBoot ULCIDirect effects0.0090.133\\u22120.2540.272Indirect effects0.4420.0870.2750.613Open in a new tabFromTable 7, the direct effect is 0.059, and the confidence interval of 95% is , including 0, pointing out that the effect of achievement motivation on general well-being is not significant. The total indirect mediating effect of time management is 0.164, and the confidence interval of 95% is , excluding 0, pointing out that time management has a significant mediating effect on the relationship between achievement motivation and general well-being. It shows that there is full mediation. Full mediation would occur if inclusion of the mediation variable drops the relationship between the independent variable and dependent variable to zero .FromTable 8, the direct effect is 0.009, and the confidence interval of 95% is , including 0, pointing out that the effect of self-efficacy on general well-being is not significant. The total indirect mediating effect of time management is 0.442, and the confidence interval of 95% is , excluding 0, pointing out that time management has a significant mediating effect on the relationship between self-efficacy and general well-being. It shows that there is full mediation as well. The specific path of achievement motivation and self-efficacy acting on general well-being through time management is detailed inFigure 1.Figure 1.Open in a new tabThe mediation model with time management as a mediator of the linkage between achievement motivation, self-efficacy, and general well-being. ***p< 0.001.\"\n        ],\n        \"semantic_type\": \"\",\n        \"description\": \"\"\n      }\n    },\n    {\n      \"column\": \"Section 4. Discussion\",\n      \"properties\": {\n        \"dtype\": \"string\",\n        \"num_unique_values\": 947,\n        \"samples\": [\n          \"We discuss four main points related to our findings that pertain to our research question:  Vanity has a distinct characterization but empirically lacks the broadness and depth that narcissism has as a personality construct;  Our findings reaffirm the current conception of narcissism;  Vanity\\u2019s correlations with both dimensions of narcissism appear to support retaining vanity as a facet of narcissism, and we determine where vanity may fall as a facet concerning the spectrum model of narcissism;  Lastly, we discuss the theoretical implications of the study that reflect the motivational cores of vanity and narcissism.4.1. Characterization of Vanity: Pride and an Absence of Social BehaviorAuthentic pride was the main characteristic we identified as significantly associated with self-reported vanity. When a participant self-reported elevated levels of vanity, those participants also self-reported higher levels of \\u201cconfidence\\u201d, \\u201cself-worth\\u201d, \\u201cfulfillment\\u201d, etc., from the subscale of authentic pride . Goals or ideals established based on vanity may allow individuals to celebrate actions that bring them pride when accomplished. The regression confirmed in our data that appearance vanity is independently associated with authentic pride, while achievement vanity was reduced to non-significance. We consider that a sense of authentic pride in individuals may be more associated with appearance vanity than achievement vanity. On the downside, achievement vanity and hubristic pride also evidenced a slight positive correlation, though this was reduced to non-significance in the regression. We speculate that this small correlation reveals a shared variance between self-reported achievement vanity and a predictor of narcissism, specifically vulnerable narcissism, as vulnerable narcissism resulted as a positive predictor of hubristic pride. Overall, this finding supports the positive relationship between vanity and authentic pride, though we suggest that further research be conducted regarding distinguishing the vanity subtypes and pride types. This is consistent with previous observations that vanity and pride share similar connotations . While we would argue against vanity and pride being synonymous based on their differing underlying motivations, the fact that pride is classified as an emotion supports authentic pride as internalized via vanity. Vanity is driven by a core motivation of intrinsic goals to enhance one\\u2019s appearance and/or achievement status. If one perceives those goals to be achieved, a result of authentic pride will occur.In addition to a characterization of pride, we found both vanity subtypes to be characterized by a lack of empathy and a lack of reported relationships with the selected social behavior variables. While self-reported achievement vanity revealed a slight correlation with communal image management, this was reduced to non-significance in the regression and is suggestive that shared variance from other predictors resulted in the previous correlation. Interestingly, a non-significant correlation between self-reported appearance vanity and sensitivity to others became a positive predictor\\u2013outcome relationship when the regression was run; this suggests that the appearance vanity subtype may be characterized by sensitivity to the reactions and opinions of others where achievement vanity is not and became evident once shared variance between predictors was controlled for. This finding or, rather, the lack of overall findings with social outcomes, suggests that the construct of vanity appears to lack the empirical support to justify considering it as a distinct personality construct.4.2. Revisiting the Characterization of NarcissismWhen assessing the dimensions of narcissism, our results largely corroborate previous literature. Our hypotheses were correct concerning the facets of pride . While grandiose narcissism reported an expected inverse relationship with empathy, vulnerable narcissism revealed a positive relationship with empathy. Interestingly, the association between self-reported vulnerable narcissism and empathy is consistent with previous findings; vulnerable narcissists tend to self-report empathy . Previous literature finds that the type of empathy a vulnerable narcissist can exhibit is often associated with maladaptive aspects of empathy, such as maladaptive affective empathy or empathic distress . Our measure included items with a central theme of internalizing others\\u2019 distressing situations in empathic ability . Items such as \\u201csuffer from others\\u2019 sorrows\\u201d or \\u201ceasily moved to tears\\u201d suggest the propensity to experience emotional distress based on someone else\\u2019s experience. Thus, in our study, vulnerable narcissists with self-reported empathy may be constrained by the dysfunctional reality of their limited abilities as they pursue their need for connections, albeit with motivation for external validation from others .Concerning the social outcome variables we selected, the results reaffirmed our understanding of the dimensions of narcissism and how they may differ or be alike. While grandiose narcissism revealed a self-reported inverse relationship with sensitivity to others, self-reported vulnerable narcissism revealed a positive relationship. Individuals with vulnerable narcissism are characterized as defensive and seek external validation due to low self-esteem and a high likelihood of insecure attachment . This is consistent with the idea that an individual with vulnerable narcissism would have a heightened sensitivity to others to seek the affirmation they need to affirm their insecure sense of self , whereas the depiction of grandiose narcissism is the opposite, with a high self-esteem reported and a sense of security within oneself . Regarding selflessness, the inverse relationships for both dimensions of narcissism leads us to conclude that these reflect the self-entitlement that both grandiose and vulnerable share as the middle ground of the narcissism spectrum model, where self-entitlement is characterized by arrogance and self-centeredness . The dimensions of narcissism also evidence communal image management, where their inverse relationships with communal image management suggest that they are avoidant to admitting wrongdoing or immoral behavior. Overall, our findings are aligned with the current conception of narcissism as a spectrum model.4.3. Vanity\\u2019s Relationship to Narcissism: Where Does It Fall on the Narcissism Spectrum Model?While vanity can be identified with characterizations of authentic pride, we believe that the lack of relationship patterns with the various social characteristics we assessed is evidence of a lack of depth to vanity in the realm of personality and does not appear to be a distinct construct apart from narcissism in personality. Personality constructs, such as narcissism, are stable and succinct predictors of other social characteristics we possess, where in turn, personality heavily influences our social behavior. Our results are in line with previous findings such that vanity, in personality, would be classified as a facet of narcissism, and this remains true using the most recent conceptual model of narcissism . This is supported by our finding that both subtypes of vanity revealed significant positive relationships with both dimensions of narcissism while lacking relationships with most social outcome variables considered.The concluding aim of our discussion is to consider where vanity best aligns with the narcissism spectrum model. Based on the results, we propose that both subtypes of vanity align best with grandiose narcissism. Self-reported grandiose narcissism and both subtypes of vanity reveal positive relationships with authentic pride and positive relationships with hubristic pride for grandiose narcissism and achievement vanity only. While self-reported vulnerable narcissism also has a relationship with hubristic pride, we find support that vanity and grandiose narcissism share more similarities after considering their relationships withbothfacets of pride.Vanity as a facet of grandiose narcissism reflects a potentially improved theoretical understanding of the underlying mechanism behind grandiose narcissism\\u2019s relationship with pride and how this contributes to its traditional characterization. The core motivation of vanity, based on social comparison theory, helps us best explain this possible mechanism. Because an individual with grandiose narcissism is identified with extraversion and exhibitionism, it would make sense to utilize social comparison  to monitor their grandiose image, self-esteem, and self-concept. Suppose grandiose individuals perceive their appearance or achievement as satisfactory based on their self-evaluation relevant to their reference group. In that case, they experience authentic pride and feel accomplished via their actions and behaviors. Their grandiosity and vain concerns with themselves fuel hubris, as evidenced in our results. While they may feel accomplished based on a specific goal that was met regarding their appearance or achievement, and evidence of authentic pride, this will also reaffirm their grandiose perceptions of themselves and the potential to develop hubris. Thus, a cycle arises: vanity utilizes social comparison to present an opportunity for a sense of authentic pride, which then can feed a grandiose perception of self that then reaffirms a hubristic and global pride about oneself, complementing their extraversion and high self-esteem. This characterization driven by vanity is best suited to grandiose narcissism, as an individual with vulnerable narcissism evidences hubristic pride because they are guided by shame and defensiveness of themselves and lack a sense of authentic pride. These theoretical implications further strengthen our view of vanity as a facet of grandiose narcissism.The proposal of vanity as a facet of grandiose narcissism is supported by the previous literature as well as established work. The study by Brown  that we base our research question on revealed in their findings that the NPI sub-measure of vanity evidenced a stronger correlation with their grandiose narcissism measure than their measure for vulnerable narcissism. Utilizing a more comprehensive measure of vanity, we provide further support for vanity as a facet of narcissism aligned with the grandiose dimension of the narcissism spectrum model.4.4. Theoretical Implications Regarding the Motivational Dynamics of Vanity and NarcissismThe lack of a relationship between the selected social outcomes and vanity fosters a deeper understanding of the motivational core of vanity. It may be that vanity\\u2019s deep focus on intrinsic personal goals and values maintains a desired self-image  and contributes to the social behavior void observed; this suggests that vanity is primarily motivated by the individuals themselves to meet their own needs and goals, in contrast to narcissism that is historically socially motivated to meet the individual\\u2019s needs and goals.Social comparison theory, as discussed in the introduction, is based on the assumption that individuals determine their self-worth based on how they perceive themselves relative to others in close peer groups and is indicative of vanity . While they may be utilizing social comparison to assess their own status relative to their appearance and/or achievement goals, the act itself is not objectively social. Rather, the individual is motivated on their own account of what they perceive as a need or a want for their own ideals and uses their social environment as a baseline to assess where they stand with their expectations and desires.Narcissism, on the other hand, reflects a social motivation at its core in our finding of identified relationships with the selected social outcomes. Indeed, individuals with elevated levels of narcissism exhibit social activity as narcissism itself seeks social validation to maintain itself. While narcissism is a focus on the self, sometimes at an exaggerated and maladaptive level, it is rooted in being motivated socially to affirm one\\u2019s preferred feelings about oneself. Simply put, both dimensions of narcissism are part of a socially contingent personality construct that motivates individuals to manage their self-image and self-concept via social experiences and interactions. While it is not inaccurate to characterize both vanity and narcissism with self-involvement, it is important to discuss how these differ at their core. We conclude that vanity is best retained as a facet of grandiose narcissism, especially within the narcissism spectrum model. One key contribution of our study is the improved understanding of the motivational dynamics of vanity and narcissism, in particular our understanding of how the two interact and, thus, contribute to personality.4.5. Limitations and Future ResearchA few aspects limit the research. With evidence supporting vanity to be stronger linked to grandiose narcissism, we do acknowledge that in our study we did not include a measure for self-entitlement. Self-entitlement is the middle ground point of the narcissism spectrum model in addition to the grandiose and vulnerable dimensions of narcissism . It is becoming more widely measured in addition to grandiose and vulnerable narcissism scales. While we sought to examine how vanity would relate to both profoundly distinct dimensions of narcissism, we recognize that examining the relationship between self-entitlement and vanity would be beneficial. We encourage future research on self-entitlement and vanity to understand further how vanity aligns with the narcissism spectrum model. We acknowledge that in a self-report design survey regarding personality constructs, the participants\\u2019 responses are subject to self-enhancement and halo effect biases . The age of the participant group is a potential limitation; younger individuals are more likely to be influenced by external opinions as well. Our participants are all young undergraduate students who may face additional environmental influences. Thus, results may have revealed different findings if the study had been performed in a different sample. Future research would benefit from considering alternative data collection methods to assess narcissism and vanity. Future research should also consider vanity, other types or traits of social behavior, and social scenarios to further contribute to vanity\\u2019s characterization  of social behavior.\",\n          \"This study investigated the overlap in symptoms of FA and BED as measured by the YFAS 2.0 and the BES\\u2019s emotional and behavioural factors. It was found that substantial overlap  exists between the commonly used assessment tools in a sample of Australian adults from a wide age range, which concurs with existing research . However, this is the first study to demonstrate that the strongest overlap occurred with the BES emotion factor, while less overlap was observed with the BES behaviour factor. This was evidenced by larger correlation values with the BES emotion factor, compared with very few strong correlations  with the BES behaviour factor. The behaviour factor relates to behavioural expressions surrounding a binge eating episode which showed small to moderate correlations with the majority of the 11 symptoms assessed by the YFAS 2.0 tool. These correlations are not unexpected, as previous findings indicate that individuals with co-existing FA and BED experience significantly higher levels of depression, negative affect, poorer emotion dysregulation, and lower self-esteem . This would seem to indicate that high levels of emotional and psychosocial distress accompany both eating pathologies. Research has demonstrated that, in the context of binge eating, emotions and behaviour rarely occur exclusively  and are correlated as shown in this study. For this reason, it would be expected that both features be present and it is unsurprising that these symptoms would co-occur in FA. However, strong evidence for the cognitive and behavioural aspects of BED is lacking, and further investigations into BED and behaviour are warranted.It is important to attempt to articulate the unique features that may set the construct of FA apart from BED, given that previous overlaps have been shown, although these are not in entirety or not 100% overlapping. In this study, it appears that several symptoms are unique to FA, as evidenced by lower correlation valueswith BES. Specifically, small associations were found with FA symptoms of \\u2018consumed more than planned\\u2019 or \\u2018use in physically hazardous situations\\u2019; the latter symptom in this study actually showed significant negative relationships. The symptom of \\u2018use in physically hazardous situations\\u2019 has previously been debated as a difficult factor to interpret in relation to food, given that food in its true sense is needed for survival. Recent studies assessing FA using the YFAS 2.0 tool have found the endorsement of \\u2018use in physically hazardous situations\\u2019 symptom in three non-clinical samples  to have low endorsement rates ranging from 9.1% to 24.8%; with two of the studies reporting the endorsement rate in FA individuals  as 37.0% and 68.3%, respectively . However, in the context of FA, this symptom can be described as causing impairment to performance, such as eating while driving, or impairment to health that is hazardous. In the context of obesity and related metabolic syndrome risk factors, this could include the consequences of individuals with diabetes, dyslipidaemia, or hypertension overconsuming foods containing excessive amounts of sugar, fat, or sodium . However, this symptom may not have been well-reported by participants with this rationale in mind nor understood in terms of addiction by the participants completing the surveys, thus influencing the results because the questions did not ask participants to consider this aspect of the symptom. Existing public views suggest that individuals believe some foods are addictive and that addiction can cause obesity . Future qualitative work on FA is warranted to better understand how the symptoms are experienced and if they differ for each individual, particularly as this field is still emerging.The FA symptom of \\u201closs of control with respect to eating behaviour\\u201d overlaps with that of \\u201closs of control over eating\\u201d, the latter being a core eating disorder behaviour and a diagnostic criterion for the eating disorders bulimia nervosa and binge eating disorder . The symptoms of FA as assessed by the YFAS were determined with mapping to the DSM\\u20135. However, it is noted that when considering some of these symptoms at a broader population level, with increasing prevalence rates of overweight and obesity, some symptoms or traits presently being assessed overlap with general dieting practices undertaken by many individuals. FA symptoms measured by the YFAS, specifically \\u2018repeated attempts to cut down food\\u2019, may not be unique to FA, but apply to the population in general.In the current analysis of those individuals with FA, 72.7% also had reported BES scores which related to either moderate or severe bingeing. While not directly comparable due to the use of different tools and methods to assess the disordered eating status, the value in the current study is higher than that previously reported by Gearhardt et al., who found in a sample of overweight individuals with BED, determined by clinical interview, that 57% met the classification for FA . In a more racially diverse sample of obese, treatment-seeking adults with BED  as assessed by an alternate tool, The Eating Disorder Examination Questionnaire , the findings were similar, with 42% of participants meeting the classification for FA . In both studies, YFAS scores were also significant predictors of binge eating frequency. In an additional study, Ivezaj et al.  examined the eating and health-related behaviours of overweight/obese adults , and found that 61.7% of adults meeting BED criteria as assessed by the EDEQ also met FA criteria. Adults with co-occurring BED and FA had significantly higher BMI and depression scores, combined with greater disturbances on most impulsivity and self-control measures relative to the control group . A strong association between FA and BE severity  as well as a moderate association between FA and measures of general psychopathology were reported. A similar relationship between FA and BE has also been shown to exist in younger adolescent populations .Rates of FA among those with BED is higher in individuals with obesity than in those who are not obese ; this was also shown in the current study across increasing weight status of healthy, overweight, and obese participants. Individuals who meet the criteria for both BED and FA tend to exhibit more frequent binge eating episodes, experience stronger cravings for food, and elevated levels of impulsivity and depressive symptoms than those with only BED . It has been suggested the co-occurrence of BED and FA may represent a more severe BED subgroup characterised by greater eating disorder psychopathology and associated pathology .Recent evidence suggests altered reward sensitivity may contribute to the pathophysiology of disordered eating behaviours. A review of neuroimaging studies  in BED found that the alterations in corticostriatal circuitry were similar to those observed in substance abuse, including altered function of prefrontal, insular, and orbitofrontal cortices and the striatum . Preliminary evidence by Gearhardt et al. suggests that reward dysfunction may also be a relevant mechanism in the FA construct . Human genetics and animal studies suggest that changes in neurotransmitter networks, including dopaminergic and opioidergic systems, are associated with compulsive-eating behaviours .This study has several limitations which should be considered when interpreting the findings: the survey was collected online and is based on self-report measures and was analysed using correlation analysis only. However, it is noted that for food addiction and binge eating, the majority of measures used for these eating behaviours are based on self-report, and self-reported height and weight have been shown previously to be a valid measure of weight status . It could be likely that individuals who are motivated by food may have been more likely to complete the survey. The study sample had a majority of participants who were female, so results may not be generalisable to the broader population or to other ethnicities. The findings of this study have some clinical implications, as they provide a further understanding of the underlying aetiology of co-occurring FA and BED, to progress and tailor treatment options as FA appears to be more physiological than behavioural in nature.\",\n          \"As shown inTable 2, there were no statistically significant differences in achievement motivation, self-efficacy, time management, and general well-being between genders. This may be because male students and female students are under the same learning pressure, so there is no significant difference in time management. Although the role requirements and parenting styles of boys and girls are different in society and some families, on the whole, the status of boys and girls is relatively equal.When students\\u2019 achievement motivation is strong, they often have the need to pursue success. In order to achieve success, they need to set corresponding goals. The achievement goal theory holds that goals play a guiding role and are an important dynamic mechanism for learners to achieve their goals. Goals will promote students to manage their time effectively . Time management disposition can show the psychological and behavioral traits of people in how they use time. The sense of time monitoring allows individuals to reasonably arrange the priority of tasks according to their goals, allocate the main time to important learning tasks, and be good at disciplining themselves. The sense of time efficacy can help individuals evaluate their own time management ability. When individuals arrange their time reasonably and achieve their goals, they will have positive emotions and higher general well-being .The relationships between self-efficacy, time management, and general well-being are amply supported by empirical data . Therefore, we put forward the view that generalized self-efficacy can enhance individuals\\u2019 general well-being through time management. College students who have higher levels of general well-being and life satisfaction have stronger adaptability, resilience, and efficient ability to deal with problems, but also work harder to complete learning tasks and achieve more success . This may be due to the fact that their strong self-efficacy beliefs may have an impact on their task selection, perseverance, effort, and academic success . In essence, self-efficacy enhances higher commitment, problem-solving abilities, goal orientation, creativity, and time management skills , so as to improve general well-being .\"\n        ],\n        \"semantic_type\": \"\",\n        \"description\": \"\"\n      }\n    },\n    {\n      \"column\": \"Section 5. Conclusions\",\n      \"properties\": {\n        \"dtype\": \"string\",\n        \"num_unique_values\": 947,\n        \"samples\": [\n          \"Our data support the retention of vanity as a facet of narcissism rather than as a distinct personality construct based on its lack of breadth and depth relative to social characteristics. Furthermore, we found that vanity was associated with grandiose narcissism, which has been anticipated and confirmed by previous investigations. Overall, our integration of newer comprehensive models of vanity and narcissism clarifies how vanity fits into the field of personality. Our clarification of vanity is necessary to understand vanity in personality and its core motivations and to expand and clarify the narcissism spectrum model. The findings add to the popular topic of personality psychology, ultimately enhancing our understanding of narcissism, vanity, and its translation to social behavior.\",\n          \"This is one of the first studies to investigate the potential overlap between the common tools used to assess BED and FA and their individual constructs, particularly with reference to the YFAS 2.0 tool which maps to current DSM criteria. This study demonstrates the overlap between BED and FA, and highlights the possible unique differences between the forms of disordered eating.\",\n          \"The main purpose of the study is to examine the mediating role of time management in the effects of achievement motivation and self-efficacy on general well-being among students at normal universities in Ningxia. Based on the reviews of previous research and the purpose of the current study, five hypotheses has been proposed.Hypothesis1.There is a positive influence of achievement motivation on general well-being.Hypothesis2.There is a positive influence of self-efficacy on general well-being.Hypothesis3.There is a positive influence of time management on well-being.Hypothesis4.Time management mediates the relationship between achievement motivation and well-being.Hypothesis5.Time management mediates the relationship between self-efficacy and well-being.The findings showed that H1\\u2013H5 were all supported. Additionally, the data confirmed H4 and H5 by showing that time management had full mediation influence on the relationship between achievement motivation, self-efficacy, and general well-being.\"\n        ],\n        \"semantic_type\": \"\",\n        \"description\": \"\"\n      }\n    }\n  ]\n}"
      }
     },
     "metadata": {},
     "execution_count": 6
    }
   ],
   "execution_count": 6
  },
  {
   "cell_type": "code",
   "source": [
    "data = df[[\"Abstract\",\"Section 1. Introduction\",\"Section 5. Conclusions\"]].copy()\n"
   ],
   "metadata": {
    "trusted": true,
    "execution": {
     "iopub.status.busy": "2024-12-19T11:22:49.291461Z",
     "iopub.execute_input": "2024-12-19T11:22:49.291844Z",
     "iopub.status.idle": "2024-12-19T11:22:49.303096Z",
     "shell.execute_reply.started": "2024-12-19T11:22:49.291801Z",
     "shell.execute_reply": "2024-12-19T11:22:49.302382Z"
    },
    "id": "fzjK1K60O-gY"
   },
   "outputs": [],
   "execution_count": 8
  },
  {
   "cell_type": "code",
   "source": [
    "data"
   ],
   "metadata": {
    "trusted": true,
    "execution": {
     "iopub.status.busy": "2024-12-19T11:22:49.304192Z",
     "iopub.execute_input": "2024-12-19T11:22:49.305014Z",
     "iopub.status.idle": "2024-12-19T11:22:49.317105Z",
     "shell.execute_reply.started": "2024-12-19T11:22:49.304985Z",
     "shell.execute_reply": "2024-12-19T11:22:49.316263Z"
    },
    "id": "euhmGIrLO-gY",
    "outputId": "c9c75e46-382c-4a78-e9be-a7de6d9c801e"
   },
   "outputs": [
    {
     "execution_count": 9,
     "output_type": "execute_result",
     "data": {
      "text/plain": "                                              Abstract  \\\n0    Abstract COVID-19 vaccination is a critical pu...   \n1    Abstract To improve older adults’ mental healt...   \n2    Abstract Therapeutic communities face high dro...   \n3    Abstract When organizations or managers utiliz...   \n4    Abstract Previous evidence has demonstrated a ...   \n..                                                 ...   \n942  Abstract Background: Despite cognitive behavio...   \n943  Abstract The National Acupuncture Detoxificati...   \n944  Abstract The current study examines the additi...   \n945  Abstract This study explored 17 dyads of acade...   \n946  Abstract Picture-object correspondence provide...   \n\n                               Section 1. Introduction  \\\n0    The onset of COVID-19 in January 2020 heralded...   \n1    Global aging and technological advancements ha...   \n2    Interventions related to substance abuse are c...   \n3    Work engagement , defined as “a positive, fulf...   \n4    Bowlby , a pioneer in attachment theory, argue...   \n..                                                 ...   \n942  Therapist-led cognitive behavioural therapy  c...   \n943  The National Acupuncture Association protocol ...   \n944  Internalizing problems of anxiety, depressive ...   \n945  In 1943, child psychiatrist Leo Kanner was the...   \n946  In a dynamic and noisy world, it is best to at...   \n\n                                Section 5. Conclusions  \n0    This study identified key determinants of COVI...  \n1    The purpose of this study was to look at how m...  \n2    Based on the texts collected, it was possible ...  \n3    This study confirmed four interactions between...  \n4    The present study highlights the harmful conse...  \n..                                                 ...  \n942  The present study provides preliminary evidenc...  \n943  Bearing in mind the study limitations discusse...  \n944  The results of this study have several importa...  \n945  This study has provided specific examples of h...  \n946  The results of the present study do evidence a...  \n\n[947 rows x 3 columns]",
      "text/html": "<div>\n<style scoped>\n    .dataframe tbody tr th:only-of-type {\n        vertical-align: middle;\n    }\n\n    .dataframe tbody tr th {\n        vertical-align: top;\n    }\n\n    .dataframe thead th {\n        text-align: right;\n    }\n</style>\n<table border=\"1\" class=\"dataframe\">\n  <thead>\n    <tr style=\"text-align: right;\">\n      <th></th>\n      <th>Abstract</th>\n      <th>Section 1. Introduction</th>\n      <th>Section 5. Conclusions</th>\n    </tr>\n  </thead>\n  <tbody>\n    <tr>\n      <th>0</th>\n      <td>Abstract COVID-19 vaccination is a critical pu...</td>\n      <td>The onset of COVID-19 in January 2020 heralded...</td>\n      <td>This study identified key determinants of COVI...</td>\n    </tr>\n    <tr>\n      <th>1</th>\n      <td>Abstract To improve older adults’ mental healt...</td>\n      <td>Global aging and technological advancements ha...</td>\n      <td>The purpose of this study was to look at how m...</td>\n    </tr>\n    <tr>\n      <th>2</th>\n      <td>Abstract Therapeutic communities face high dro...</td>\n      <td>Interventions related to substance abuse are c...</td>\n      <td>Based on the texts collected, it was possible ...</td>\n    </tr>\n    <tr>\n      <th>3</th>\n      <td>Abstract When organizations or managers utiliz...</td>\n      <td>Work engagement , defined as “a positive, fulf...</td>\n      <td>This study confirmed four interactions between...</td>\n    </tr>\n    <tr>\n      <th>4</th>\n      <td>Abstract Previous evidence has demonstrated a ...</td>\n      <td>Bowlby , a pioneer in attachment theory, argue...</td>\n      <td>The present study highlights the harmful conse...</td>\n    </tr>\n    <tr>\n      <th>...</th>\n      <td>...</td>\n      <td>...</td>\n      <td>...</td>\n    </tr>\n    <tr>\n      <th>942</th>\n      <td>Abstract Background: Despite cognitive behavio...</td>\n      <td>Therapist-led cognitive behavioural therapy  c...</td>\n      <td>The present study provides preliminary evidenc...</td>\n    </tr>\n    <tr>\n      <th>943</th>\n      <td>Abstract The National Acupuncture Detoxificati...</td>\n      <td>The National Acupuncture Association protocol ...</td>\n      <td>Bearing in mind the study limitations discusse...</td>\n    </tr>\n    <tr>\n      <th>944</th>\n      <td>Abstract The current study examines the additi...</td>\n      <td>Internalizing problems of anxiety, depressive ...</td>\n      <td>The results of this study have several importa...</td>\n    </tr>\n    <tr>\n      <th>945</th>\n      <td>Abstract This study explored 17 dyads of acade...</td>\n      <td>In 1943, child psychiatrist Leo Kanner was the...</td>\n      <td>This study has provided specific examples of h...</td>\n    </tr>\n    <tr>\n      <th>946</th>\n      <td>Abstract Picture-object correspondence provide...</td>\n      <td>In a dynamic and noisy world, it is best to at...</td>\n      <td>The results of the present study do evidence a...</td>\n    </tr>\n  </tbody>\n</table>\n<p>947 rows × 3 columns</p>\n</div>"
     },
     "metadata": {}
    }
   ],
   "execution_count": null
  },
  {
   "cell_type": "code",
   "source": [
    "# Extract the first three sentences from the Introduction\n",
    "def extract_first_three_sentences(text):\n",
    "    sentences = text.split(\". \")  # Split text into sentences\n",
    "    return \". \".join(sentences[:3]) + (\".\" if len(sentences) >= 3 else \"\")\n",
    "\n",
    "# Apply the function to extract and merge with the Conclusion\n",
    "data[\"Merged_Section\"] = data.apply(\n",
    "    lambda row: f\"{extract_first_three_sentences(row['Section 1. Introduction'])} {row['Section 5. Conclusions']}\",\n",
    "    axis=1\n",
    ")\n",
    "\n",
    "# Display the result\n",
    "print(data[[\"Merged_Section\"]])"
   ],
   "metadata": {
    "trusted": true,
    "execution": {
     "iopub.status.busy": "2024-12-19T11:22:49.318368Z",
     "iopub.execute_input": "2024-12-19T11:22:49.318631Z",
     "iopub.status.idle": "2024-12-19T11:22:49.368590Z",
     "shell.execute_reply.started": "2024-12-19T11:22:49.318607Z",
     "shell.execute_reply": "2024-12-19T11:22:49.367792Z"
    },
    "colab": {
     "base_uri": "https://localhost:8080/"
    },
    "id": "skfZHmfJO-ga",
    "outputId": "b5138ff6-d537-49c5-df47-7543bfce0cc2"
   },
   "outputs": [
    {
     "output_type": "stream",
     "name": "stdout",
     "text": [
      "                                        Merged_Section\n",
      "0    The onset of COVID-19 in January 2020 heralded...\n",
      "1    Global aging and technological advancements ha...\n",
      "2    Interventions related to substance abuse are c...\n",
      "3    Work engagement , defined as “a positive, fulf...\n",
      "4    Bowlby , a pioneer in attachment theory, argue...\n",
      "..                                                 ...\n",
      "942  Therapist-led cognitive behavioural therapy  c...\n",
      "943  The National Acupuncture Association protocol ...\n",
      "944  Internalizing problems of anxiety, depressive ...\n",
      "945  In 1943, child psychiatrist Leo Kanner was the...\n",
      "946  In a dynamic and noisy world, it is best to at...\n",
      "\n",
      "[947 rows x 1 columns]\n"
     ]
    }
   ],
   "execution_count": 9
  },
  {
   "cell_type": "code",
   "source": [
    "data"
   ],
   "metadata": {
    "trusted": true,
    "execution": {
     "iopub.status.busy": "2024-12-19T11:22:49.369808Z",
     "iopub.execute_input": "2024-12-19T11:22:49.370146Z",
     "iopub.status.idle": "2024-12-19T11:22:49.382257Z",
     "shell.execute_reply.started": "2024-12-19T11:22:49.370109Z",
     "shell.execute_reply": "2024-12-19T11:22:49.381372Z"
    },
    "id": "c2nuHuMjO-ga",
    "outputId": "12e119c8-c8f2-4b93-f5e3-84921dd0dadc"
   },
   "outputs": [
    {
     "execution_count": 11,
     "output_type": "execute_result",
     "data": {
      "text/plain": "                                              Abstract  \\\n0    Abstract COVID-19 vaccination is a critical pu...   \n1    Abstract To improve older adults’ mental healt...   \n2    Abstract Therapeutic communities face high dro...   \n3    Abstract When organizations or managers utiliz...   \n4    Abstract Previous evidence has demonstrated a ...   \n..                                                 ...   \n942  Abstract Background: Despite cognitive behavio...   \n943  Abstract The National Acupuncture Detoxificati...   \n944  Abstract The current study examines the additi...   \n945  Abstract This study explored 17 dyads of acade...   \n946  Abstract Picture-object correspondence provide...   \n\n                               Section 1. Introduction  \\\n0    The onset of COVID-19 in January 2020 heralded...   \n1    Global aging and technological advancements ha...   \n2    Interventions related to substance abuse are c...   \n3    Work engagement , defined as “a positive, fulf...   \n4    Bowlby , a pioneer in attachment theory, argue...   \n..                                                 ...   \n942  Therapist-led cognitive behavioural therapy  c...   \n943  The National Acupuncture Association protocol ...   \n944  Internalizing problems of anxiety, depressive ...   \n945  In 1943, child psychiatrist Leo Kanner was the...   \n946  In a dynamic and noisy world, it is best to at...   \n\n                                Section 5. Conclusions  \\\n0    This study identified key determinants of COVI...   \n1    The purpose of this study was to look at how m...   \n2    Based on the texts collected, it was possible ...   \n3    This study confirmed four interactions between...   \n4    The present study highlights the harmful conse...   \n..                                                 ...   \n942  The present study provides preliminary evidenc...   \n943  Bearing in mind the study limitations discusse...   \n944  The results of this study have several importa...   \n945  This study has provided specific examples of h...   \n946  The results of the present study do evidence a...   \n\n                                        Merged_Section  \n0    The onset of COVID-19 in January 2020 heralded...  \n1    Global aging and technological advancements ha...  \n2    Interventions related to substance abuse are c...  \n3    Work engagement , defined as “a positive, fulf...  \n4    Bowlby , a pioneer in attachment theory, argue...  \n..                                                 ...  \n942  Therapist-led cognitive behavioural therapy  c...  \n943  The National Acupuncture Association protocol ...  \n944  Internalizing problems of anxiety, depressive ...  \n945  In 1943, child psychiatrist Leo Kanner was the...  \n946  In a dynamic and noisy world, it is best to at...  \n\n[947 rows x 4 columns]",
      "text/html": "<div>\n<style scoped>\n    .dataframe tbody tr th:only-of-type {\n        vertical-align: middle;\n    }\n\n    .dataframe tbody tr th {\n        vertical-align: top;\n    }\n\n    .dataframe thead th {\n        text-align: right;\n    }\n</style>\n<table border=\"1\" class=\"dataframe\">\n  <thead>\n    <tr style=\"text-align: right;\">\n      <th></th>\n      <th>Abstract</th>\n      <th>Section 1. Introduction</th>\n      <th>Section 5. Conclusions</th>\n      <th>Merged_Section</th>\n    </tr>\n  </thead>\n  <tbody>\n    <tr>\n      <th>0</th>\n      <td>Abstract COVID-19 vaccination is a critical pu...</td>\n      <td>The onset of COVID-19 in January 2020 heralded...</td>\n      <td>This study identified key determinants of COVI...</td>\n      <td>The onset of COVID-19 in January 2020 heralded...</td>\n    </tr>\n    <tr>\n      <th>1</th>\n      <td>Abstract To improve older adults’ mental healt...</td>\n      <td>Global aging and technological advancements ha...</td>\n      <td>The purpose of this study was to look at how m...</td>\n      <td>Global aging and technological advancements ha...</td>\n    </tr>\n    <tr>\n      <th>2</th>\n      <td>Abstract Therapeutic communities face high dro...</td>\n      <td>Interventions related to substance abuse are c...</td>\n      <td>Based on the texts collected, it was possible ...</td>\n      <td>Interventions related to substance abuse are c...</td>\n    </tr>\n    <tr>\n      <th>3</th>\n      <td>Abstract When organizations or managers utiliz...</td>\n      <td>Work engagement , defined as “a positive, fulf...</td>\n      <td>This study confirmed four interactions between...</td>\n      <td>Work engagement , defined as “a positive, fulf...</td>\n    </tr>\n    <tr>\n      <th>4</th>\n      <td>Abstract Previous evidence has demonstrated a ...</td>\n      <td>Bowlby , a pioneer in attachment theory, argue...</td>\n      <td>The present study highlights the harmful conse...</td>\n      <td>Bowlby , a pioneer in attachment theory, argue...</td>\n    </tr>\n    <tr>\n      <th>...</th>\n      <td>...</td>\n      <td>...</td>\n      <td>...</td>\n      <td>...</td>\n    </tr>\n    <tr>\n      <th>942</th>\n      <td>Abstract Background: Despite cognitive behavio...</td>\n      <td>Therapist-led cognitive behavioural therapy  c...</td>\n      <td>The present study provides preliminary evidenc...</td>\n      <td>Therapist-led cognitive behavioural therapy  c...</td>\n    </tr>\n    <tr>\n      <th>943</th>\n      <td>Abstract The National Acupuncture Detoxificati...</td>\n      <td>The National Acupuncture Association protocol ...</td>\n      <td>Bearing in mind the study limitations discusse...</td>\n      <td>The National Acupuncture Association protocol ...</td>\n    </tr>\n    <tr>\n      <th>944</th>\n      <td>Abstract The current study examines the additi...</td>\n      <td>Internalizing problems of anxiety, depressive ...</td>\n      <td>The results of this study have several importa...</td>\n      <td>Internalizing problems of anxiety, depressive ...</td>\n    </tr>\n    <tr>\n      <th>945</th>\n      <td>Abstract This study explored 17 dyads of acade...</td>\n      <td>In 1943, child psychiatrist Leo Kanner was the...</td>\n      <td>This study has provided specific examples of h...</td>\n      <td>In 1943, child psychiatrist Leo Kanner was the...</td>\n    </tr>\n    <tr>\n      <th>946</th>\n      <td>Abstract Picture-object correspondence provide...</td>\n      <td>In a dynamic and noisy world, it is best to at...</td>\n      <td>The results of the present study do evidence a...</td>\n      <td>In a dynamic and noisy world, it is best to at...</td>\n    </tr>\n  </tbody>\n</table>\n<p>947 rows × 4 columns</p>\n</div>"
     },
     "metadata": {}
    }
   ],
   "execution_count": null
  },
  {
   "cell_type": "code",
   "source": [
    "data = data[[\"Abstract\",\"Merged_Section\"]].copy()"
   ],
   "metadata": {
    "trusted": true,
    "execution": {
     "iopub.status.busy": "2024-12-19T11:22:49.383197Z",
     "iopub.execute_input": "2024-12-19T11:22:49.383495Z",
     "iopub.status.idle": "2024-12-19T11:22:49.394258Z",
     "shell.execute_reply.started": "2024-12-19T11:22:49.383462Z",
     "shell.execute_reply": "2024-12-19T11:22:49.393396Z"
    },
    "id": "b0DUXZ4KO-ga"
   },
   "outputs": [],
   "execution_count": 10
  },
  {
   "cell_type": "code",
   "source": [
    "# Text Preprocessinng function\n",
    "import re\n",
    "def text_cleaning(input_string):\n",
    "    pattern = r\"\\[\\s*(\\d+(-\\d+)?)(\\s*,\\s*\\d+(-\\d+)?)\\s\\]\"\n",
    "    # Lowercasing\n",
    "    lowercase = input_string.lower()\n",
    "\n",
    "    # Removing links & replacing html codes\n",
    "    remove_inline_ref = re.sub(pattern, '', lowercase)\n",
    "\n",
    "    # Remove extra whitespace\n",
    "    remove_extra_space = re.sub(r'\\s+', ' ', remove_inline_ref).strip()\n",
    "\n",
    "    return remove_extra_space"
   ],
   "metadata": {
    "trusted": true,
    "execution": {
     "iopub.status.busy": "2024-12-19T11:22:49.395271Z",
     "iopub.execute_input": "2024-12-19T11:22:49.395525Z",
     "iopub.status.idle": "2024-12-19T11:22:49.405506Z",
     "shell.execute_reply.started": "2024-12-19T11:22:49.395501Z",
     "shell.execute_reply": "2024-12-19T11:22:49.404721Z"
    },
    "id": "efOVICRTO-gb"
   },
   "outputs": [],
   "execution_count": 11
  },
  {
   "cell_type": "code",
   "source": [
    "# Apply text_cleaning to all relevant columns\n",
    "for column in [\"Abstract\", \"Merged_Section\"]:\n",
    "    data[column] = data[column].apply(text_cleaning)"
   ],
   "metadata": {
    "trusted": true,
    "execution": {
     "iopub.status.busy": "2024-12-19T11:22:49.408835Z",
     "iopub.execute_input": "2024-12-19T11:22:49.409083Z",
     "iopub.status.idle": "2024-12-19T11:22:49.608958Z",
     "shell.execute_reply.started": "2024-12-19T11:22:49.409059Z",
     "shell.execute_reply": "2024-12-19T11:22:49.608024Z"
    },
    "id": "NXohkF6ZO-gb"
   },
   "outputs": [],
   "execution_count": 12
  },
  {
   "cell_type": "code",
   "source": [
    "dataset = Dataset.from_pandas(data)"
   ],
   "metadata": {
    "trusted": true,
    "execution": {
     "iopub.status.busy": "2024-12-19T11:22:49.609922Z",
     "iopub.execute_input": "2024-12-19T11:22:49.610184Z",
     "iopub.status.idle": "2024-12-19T11:22:49.666163Z",
     "shell.execute_reply.started": "2024-12-19T11:22:49.610159Z",
     "shell.execute_reply": "2024-12-19T11:22:49.665510Z"
    },
    "id": "u_WuTN8PO-gb"
   },
   "outputs": [],
   "execution_count": 13
  },
  {
   "cell_type": "code",
   "source": [
    "dataset = dataset.train_test_split(test_size=0.2)"
   ],
   "metadata": {
    "trusted": true,
    "execution": {
     "iopub.status.busy": "2024-12-19T11:22:49.667321Z",
     "iopub.execute_input": "2024-12-19T11:22:49.667697Z",
     "iopub.status.idle": "2024-12-19T11:22:49.688176Z",
     "shell.execute_reply.started": "2024-12-19T11:22:49.667659Z",
     "shell.execute_reply": "2024-12-19T11:22:49.687380Z"
    },
    "id": "ryJWCMRiO-gb"
   },
   "outputs": [],
   "execution_count": 14
  },
  {
   "cell_type": "code",
   "source": [
    "dataset"
   ],
   "metadata": {
    "trusted": true,
    "execution": {
     "iopub.status.busy": "2024-12-19T11:22:49.689198Z",
     "iopub.execute_input": "2024-12-19T11:22:49.689460Z",
     "iopub.status.idle": "2024-12-19T11:22:49.694553Z",
     "shell.execute_reply.started": "2024-12-19T11:22:49.689435Z",
     "shell.execute_reply": "2024-12-19T11:22:49.693731Z"
    },
    "colab": {
     "base_uri": "https://localhost:8080/"
    },
    "id": "XrMZahKqO-gb",
    "outputId": "d192e53e-de88-4877-dab3-4d301bda1564"
   },
   "outputs": [
    {
     "output_type": "execute_result",
     "data": {
      "text/plain": [
       "DatasetDict({\n",
       "    train: Dataset({\n",
       "        features: ['Abstract', 'Merged_Section'],\n",
       "        num_rows: 757\n",
       "    })\n",
       "    test: Dataset({\n",
       "        features: ['Abstract', 'Merged_Section'],\n",
       "        num_rows: 190\n",
       "    })\n",
       "})"
      ]
     },
     "metadata": {},
     "execution_count": 15
    }
   ],
   "execution_count": 15
  },
  {
   "cell_type": "code",
   "source": [
    "example = dataset[\"train\"][0]\n",
    "for key in example:\n",
    "    print(\"A key of the example: \\\"{}\\\"\".format(key))\n",
    "    print(\"The value corresponding to the key-\\\"{}\\\"\\n \\\"{}\\\"\".format(key, example[key]))"
   ],
   "metadata": {
    "trusted": true,
    "execution": {
     "iopub.status.busy": "2024-12-19T11:22:49.695541Z",
     "iopub.execute_input": "2024-12-19T11:22:49.695784Z",
     "iopub.status.idle": "2024-12-19T11:22:49.708712Z",
     "shell.execute_reply.started": "2024-12-19T11:22:49.695760Z",
     "shell.execute_reply": "2024-12-19T11:22:49.707818Z"
    },
    "id": "ZRUkKxX0O-gb",
    "outputId": "2c01c07f-cb6c-402d-83b6-78ff8541340a"
   },
   "outputs": [
    {
     "name": "stdout",
     "text": "A key of the example: \"Abstract\"\nThe value corresponding to the key-\"Abstract\"\n \"abstract self-selected workloads are shown to be more enjoyable than researcher-selected workloads. in addition, it is unclear if sedentary adults find aerobic interval or continuous exercise more pleasant. therefore, the primary purpose of this study was to determine the effects of two acute bouts of self-selected moderate-intensity treadmill exercises on perceived enjoyment and self-efficacy towards exercise in a sedentary cohort.methods:sixteen sedentary adults completed two 30 min bouts of moderate-intensity treadmill activity, one interval and one continuous. participants blindly selected their own treadmill workload with guidance from the borg rpe 6–20 scale. post-exercise self-efficacy and perceived enjoyment were assessed using the self-efficacy for exercise scale and the physical activity enjoyment scale, respectively. exercise workloads using treadmill speed and grade and exercise heart rate were compared between trials.results:no significant differences were found between conditions for self-selected workloads , self-efficacy , perceived enjoyment , and heart rate .discussion:sedentary individuals reported no difference in self-efficacy or perceived exercise enjoyment. participants were, however, adequate in self-selecting their own intensities with rpe guidance as there were no differences in the workloads across conditions. these results suggest that when able to self-select moderate-intensity exercise workloads, sedentary individuals equally enjoy both interval and continuous exercise.\"\nA key of the example: \"Merged_Section\"\nThe value corresponding to the key-\"Merged_Section\"\n \"the number of sedentary individuals in the united states and globally has expanded over time, and this inactivity is associated with an increased risk of cardiovascular and metabolic diseases; a 20–30% increased risk for all-cause mortality, in comparison to those who are physically active . despite the known benefits of physical activity , data suggest that nearly 50% of adults taking part in an exercise training program drop out within the first 6 months . the authors cited lack of motivation, access to equipment, and self-efficacy as some of the reasons for the recidivism. as physical activity levels decline, it is important to identify exercise regimes that are likely to support sustained adherence. another important factor that may influence adherence is the consideration of current fitness trends, such as programming for weight loss, technology advances , outdoor activities, and interval forms of exercise . this study demonstrated high levels of perceived enjoyment during both self-selected moderate-intensity exercise sessions , but no difference between trials among sedentary adults. further, this study highlights the ability of sedentary individuals to self-select appropriate intensities while utilizing the borg rpe scale. in summary, the type of moderate-intensity exercise may not matter when sedentary individuals are able to self-select exercise workloads under the guidance of rpe, and demonstrates the possible role of exercise autonomy. future research should focus on the impact of self-selected and researcher-selected workloads utilizing a moderate-intensity interval protocol to understand the mechanisms behind workload selection, self-efficacy, perceived enjoyment, and their impacts on adherence rates.\"\n",
     "output_type": "stream"
    }
   ],
   "execution_count": null
  },
  {
   "cell_type": "markdown",
   "source": [
    "## Preprocess"
   ],
   "metadata": {
    "id": "XIuHj1CgO-gb"
   }
  },
  {
   "cell_type": "code",
   "source": [
    "from transformers import AutoTokenizer\n",
    "\n",
    "tokenizer = AutoTokenizer.from_pretrained(\"t5-small\")"
   ],
   "metadata": {
    "trusted": true,
    "execution": {
     "iopub.status.busy": "2024-12-19T11:22:49.709626Z",
     "iopub.execute_input": "2024-12-19T11:22:49.709888Z",
     "iopub.status.idle": "2024-12-19T11:22:54.700717Z",
     "shell.execute_reply.started": "2024-12-19T11:22:49.709863Z",
     "shell.execute_reply": "2024-12-19T11:22:54.699913Z"
    },
    "colab": {
     "referenced_widgets": [
      "99fe66bac28741fca7865d0fda9c27f1",
      "44acf6358bed4d58975d1c9682c52a17",
      "587248e095f34bdbac94f9e869be86e7"
     ]
    },
    "id": "d0eTwqwJO-gc",
    "outputId": "75e10e42-c9a0-45b7-b69f-2602a76720d9"
   },
   "outputs": [
    {
     "output_type": "display_data",
     "data": {
      "text/plain": "tokenizer_config.json:   0%|          | 0.00/2.32k [00:00<?, ?B/s]",
      "application/vnd.jupyter.widget-view+json": {
       "version_major": 2,
       "version_minor": 0,
       "model_id": "99fe66bac28741fca7865d0fda9c27f1"
      }
     },
     "metadata": {}
    },
    {
     "output_type": "display_data",
     "data": {
      "text/plain": "spiece.model:   0%|          | 0.00/792k [00:00<?, ?B/s]",
      "application/vnd.jupyter.widget-view+json": {
       "version_major": 2,
       "version_minor": 0,
       "model_id": "44acf6358bed4d58975d1c9682c52a17"
      }
     },
     "metadata": {}
    },
    {
     "output_type": "display_data",
     "data": {
      "text/plain": "tokenizer.json:   0%|          | 0.00/1.39M [00:00<?, ?B/s]",
      "application/vnd.jupyter.widget-view+json": {
       "version_major": 2,
       "version_minor": 0,
       "model_id": "587248e095f34bdbac94f9e869be86e7"
      }
     },
     "metadata": {}
    }
   ],
   "execution_count": null
  },
  {
   "cell_type": "code",
   "source": [
    "tokenized_text = tokenizer(example['Merged_Section'])\n",
    "for key in tokenized_text:\n",
    "    print(key)\n",
    "    print(tokenized_text[key])"
   ],
   "metadata": {
    "trusted": true,
    "execution": {
     "iopub.status.busy": "2024-12-19T11:22:54.701749Z",
     "iopub.execute_input": "2024-12-19T11:22:54.702183Z",
     "iopub.status.idle": "2024-12-19T11:22:54.710426Z",
     "shell.execute_reply.started": "2024-12-19T11:22:54.702155Z",
     "shell.execute_reply": "2024-12-19T11:22:54.709563Z"
    },
    "id": "gm9NxHDiO-gc",
    "outputId": "2c7196ac-0e5f-4a94-d349-7108cdcb09eb"
   },
   "outputs": [
    {
     "name": "stdout",
     "text": "input_ids\n[8, 381, 13, 3, 3843, 295, 1208, 1742, 16, 8, 18279, 2315, 11, 13448, 65, 8148, 147, 97, 6, 11, 48, 16, 21661, 19, 1968, 28, 46, 1936, 1020, 13, 16712, 11, 22044, 6716, 117, 3, 9, 460, 104, 1458, 1454, 1936, 1020, 21, 66, 18, 658, 1074, 20544, 6, 16, 4993, 12, 273, 113, 33, 10034, 1676, 3, 5, 3, 3565, 8, 801, 1393, 13, 1722, 1756, 3, 6, 331, 3130, 24, 2111, 5743, 13, 3513, 838, 294, 16, 46, 2510, 761, 478, 2328, 91, 441, 8, 166, 431, 767, 3, 5, 8, 5921, 3, 11675, 2136, 13, 6620, 6, 592, 12, 1277, 6, 11, 1044, 18, 23473, 75, 4710, 38, 128, 13, 8, 2081, 21, 8, 3, 7886, 26, 30177, 5, 38, 1722, 1756, 1425, 7198, 6, 34, 19, 359, 12, 2862, 2510, 10030, 7, 24, 33, 952, 12, 380, 14399, 3, 28909, 5, 430, 359, 2945, 24, 164, 2860, 3, 28909, 19, 8, 4587, 13, 750, 4639, 5001, 6, 224, 38, 6020, 21, 1293, 1453, 6, 748, 15895, 3, 6, 2655, 1087, 6, 11, 8572, 2807, 13, 2510, 3, 5, 48, 810, 9028, 306, 1425, 13, 14057, 18250, 383, 321, 1044, 18, 7, 19971, 8107, 18, 77, 324, 7, 485, 2510, 3975, 3, 6, 68, 150, 1750, 344, 10570, 859, 3, 3843, 295, 1208, 3513, 5, 856, 6, 48, 810, 8285, 8, 1418, 13, 3, 3843, 295, 1208, 1742, 12, 1044, 18, 7, 15, 3437, 2016, 9608, 2197, 298, 3, 11182, 8, 3, 23685, 3, 52, 855, 2643, 5, 16, 9251, 6, 8, 686, 13, 8107, 18, 77, 324, 7, 485, 2510, 164, 59, 1052, 116, 3, 3843, 295, 1208, 1742, 33, 3, 179, 12, 1044, 18, 7, 15, 3437, 2510, 22453, 7, 365, 8, 4864, 13, 3, 52, 855, 6, 11, 3, 21275, 8, 487, 1075, 13, 2510, 29007, 5, 647, 585, 225, 992, 30, 8, 1113, 13, 1044, 18, 7, 19971, 11, 18658, 18, 7, 19971, 22453, 7, 3, 11182, 3, 9, 8107, 18, 77, 324, 7, 485, 8572, 10015, 12, 734, 8, 12009, 1187, 22453, 1801, 6, 1044, 18, 23473, 75, 4710, 6, 14057, 18250, 6, 11, 70, 11737, 30, 3, 28909, 1917, 5, 1]\nattention_mask\n[1, 1, 1, 1, 1, 1, 1, 1, 1, 1, 1, 1, 1, 1, 1, 1, 1, 1, 1, 1, 1, 1, 1, 1, 1, 1, 1, 1, 1, 1, 1, 1, 1, 1, 1, 1, 1, 1, 1, 1, 1, 1, 1, 1, 1, 1, 1, 1, 1, 1, 1, 1, 1, 1, 1, 1, 1, 1, 1, 1, 1, 1, 1, 1, 1, 1, 1, 1, 1, 1, 1, 1, 1, 1, 1, 1, 1, 1, 1, 1, 1, 1, 1, 1, 1, 1, 1, 1, 1, 1, 1, 1, 1, 1, 1, 1, 1, 1, 1, 1, 1, 1, 1, 1, 1, 1, 1, 1, 1, 1, 1, 1, 1, 1, 1, 1, 1, 1, 1, 1, 1, 1, 1, 1, 1, 1, 1, 1, 1, 1, 1, 1, 1, 1, 1, 1, 1, 1, 1, 1, 1, 1, 1, 1, 1, 1, 1, 1, 1, 1, 1, 1, 1, 1, 1, 1, 1, 1, 1, 1, 1, 1, 1, 1, 1, 1, 1, 1, 1, 1, 1, 1, 1, 1, 1, 1, 1, 1, 1, 1, 1, 1, 1, 1, 1, 1, 1, 1, 1, 1, 1, 1, 1, 1, 1, 1, 1, 1, 1, 1, 1, 1, 1, 1, 1, 1, 1, 1, 1, 1, 1, 1, 1, 1, 1, 1, 1, 1, 1, 1, 1, 1, 1, 1, 1, 1, 1, 1, 1, 1, 1, 1, 1, 1, 1, 1, 1, 1, 1, 1, 1, 1, 1, 1, 1, 1, 1, 1, 1, 1, 1, 1, 1, 1, 1, 1, 1, 1, 1, 1, 1, 1, 1, 1, 1, 1, 1, 1, 1, 1, 1, 1, 1, 1, 1, 1, 1, 1, 1, 1, 1, 1, 1, 1, 1, 1, 1, 1, 1, 1, 1, 1, 1, 1, 1, 1, 1, 1, 1, 1, 1, 1, 1, 1, 1, 1, 1, 1, 1, 1, 1, 1, 1, 1, 1, 1, 1, 1, 1, 1, 1, 1, 1, 1, 1, 1, 1, 1, 1, 1, 1, 1, 1, 1, 1, 1, 1, 1, 1, 1, 1, 1, 1, 1, 1, 1, 1, 1, 1, 1, 1, 1, 1, 1, 1, 1, 1, 1, 1, 1, 1]\n",
     "output_type": "stream"
    }
   ],
   "execution_count": null
  },
  {
   "cell_type": "code",
   "source": [
    "def preprocess_function(examples):\n",
    "    # Prepends the string \"summarize: \" to each document in the 'text' field of the input examples.\n",
    "    # This is done to instruct the T5 model on the task it needs to perform, which in this case is summarization.\n",
    "    inputs = [doc for doc in examples[\"Merged_Section\"]]\n",
    "\n",
    "    # Tokenizes the prepended input texts to convert them into a format that can be fed into the T5 model.\n",
    "    # Sets a maximum token length of 1024, and truncates any text longer than this limit.\n",
    "    model_inputs = tokenizer(inputs, max_length=1024, truncation=True)\n",
    "\n",
    "    # Tokenizes the 'summary' field of the input examples to prepare the target labels for the summarization task.\n",
    "    # Sets a maximum token length of 128, and truncates any text longer than this limit.\n",
    "    labels = tokenizer(text_target=examples[\"Abstract\"], max_length=256, truncation=True)\n",
    "\n",
    "    # Assigns the tokenized labels to the 'labels' field of model_inputs.\n",
    "    # The 'labels' field is used during training to calculate the loss and guide model learning.\n",
    "    model_inputs[\"labels\"] = labels[\"input_ids\"]\n",
    "\n",
    "    # Returns the prepared inputs and labels as a single dictionary, ready for training.\n",
    "    return model_inputs"
   ],
   "metadata": {
    "trusted": true,
    "execution": {
     "iopub.status.busy": "2024-12-19T11:22:54.711911Z",
     "iopub.execute_input": "2024-12-19T11:22:54.712362Z",
     "iopub.status.idle": "2024-12-19T11:22:54.721822Z",
     "shell.execute_reply.started": "2024-12-19T11:22:54.712303Z",
     "shell.execute_reply": "2024-12-19T11:22:54.721054Z"
    },
    "id": "6oq8DEKQO-gc"
   },
   "outputs": [],
   "execution_count": null
  },
  {
   "cell_type": "code",
   "source": [
    "tokenized_dataset = dataset.map(preprocess_function, batched=True)"
   ],
   "metadata": {
    "trusted": true,
    "execution": {
     "iopub.status.busy": "2024-12-19T11:22:54.722864Z",
     "iopub.execute_input": "2024-12-19T11:22:54.723146Z",
     "iopub.status.idle": "2024-12-19T11:22:55.755810Z",
     "shell.execute_reply.started": "2024-12-19T11:22:54.723120Z",
     "shell.execute_reply": "2024-12-19T11:22:55.755100Z"
    },
    "colab": {
     "referenced_widgets": [
      "7c7b17c010074945b50a587e34b4d136",
      "79e97df63d314364909895ea3f946b8e"
     ]
    },
    "id": "b7GVYH4MO-gc",
    "outputId": "7825216e-bace-492c-a061-0b55c7166d20"
   },
   "outputs": [
    {
     "output_type": "display_data",
     "data": {
      "text/plain": "Map:   0%|          | 0/757 [00:00<?, ? examples/s]",
      "application/vnd.jupyter.widget-view+json": {
       "version_major": 2,
       "version_minor": 0,
       "model_id": "7c7b17c010074945b50a587e34b4d136"
      }
     },
     "metadata": {}
    },
    {
     "output_type": "display_data",
     "data": {
      "text/plain": "Map:   0%|          | 0/190 [00:00<?, ? examples/s]",
      "application/vnd.jupyter.widget-view+json": {
       "version_major": 2,
       "version_minor": 0,
       "model_id": "79e97df63d314364909895ea3f946b8e"
      }
     },
     "metadata": {}
    }
   ],
   "execution_count": null
  },
  {
   "cell_type": "code",
   "source": [
    "from transformers import DataCollatorForSeq2Seq\n",
    "\n",
    "data_collator = DataCollatorForSeq2Seq(tokenizer=tokenizer, model=\"t5-small\")"
   ],
   "metadata": {
    "trusted": true,
    "execution": {
     "iopub.status.busy": "2024-12-19T11:22:55.756755Z",
     "iopub.execute_input": "2024-12-19T11:22:55.757020Z",
     "iopub.status.idle": "2024-12-19T11:23:07.219257Z",
     "shell.execute_reply.started": "2024-12-19T11:22:55.756994Z",
     "shell.execute_reply": "2024-12-19T11:23:07.218243Z"
    },
    "id": "BVfkPmx2O-gd"
   },
   "outputs": [],
   "execution_count": null
  },
  {
   "cell_type": "markdown",
   "source": [
    "## Evaluation Metrics for Training"
   ],
   "metadata": {
    "id": "uDMI8sHrO-gd"
   }
  },
  {
   "cell_type": "code",
   "source": [
    "!pip install -q evaluate rouge_score"
   ],
   "metadata": {
    "trusted": true,
    "execution": {
     "iopub.status.busy": "2024-12-19T11:23:07.220587Z",
     "iopub.execute_input": "2024-12-19T11:23:07.221388Z",
     "iopub.status.idle": "2024-12-19T11:23:17.847255Z",
     "shell.execute_reply.started": "2024-12-19T11:23:07.221325Z",
     "shell.execute_reply": "2024-12-19T11:23:17.846344Z"
    },
    "id": "FpKx3BxbO-gd",
    "outputId": "8e50be8c-cd73-4d25-d939-d6c854ce4a10"
   },
   "outputs": [
    {
     "name": "stderr",
     "text": "/opt/conda/lib/python3.10/pty.py:89: RuntimeWarning: os.fork() was called. os.fork() is incompatible with multithreaded code, and JAX is multithreaded, so this will likely lead to a deadlock.\n  pid, fd = os.forkpty()\nhuggingface/tokenizers: The current process just got forked, after parallelism has already been used. Disabling parallelism to avoid deadlocks...\nTo disable this warning, you can either:\n\t- Avoid using `tokenizers` before the fork if possible\n\t- Explicitly set the environment variable TOKENIZERS_PARALLELISM=(true | false)\n",
     "output_type": "stream"
    }
   ],
   "execution_count": null
  },
  {
   "cell_type": "code",
   "source": [
    "import numpy as np\n",
    "from transformers import T5Tokenizer\n",
    "from evaluate import load\n",
    "\n",
    "# Load ROUGE and BERTScore metrics\n",
    "rouge = load(\"rouge\")\n",
    "bertscore = load(\"bertscore\")\n",
    "\n",
    "def compute_metrics(eval_pred):\n",
    "    predictions, labels = eval_pred\n",
    "\n",
    "    tokenizer = T5Tokenizer.from_pretrained(\"t5-small\")\n",
    "    labels = np.where(labels != -100, labels, tokenizer.pad_token_id)\n",
    "    predictions = np.where(predictions != -100, predictions, tokenizer.pad_token_id)\n",
    "    decoded_preds = tokenizer.batch_decode(predictions, skip_special_tokens=True)\n",
    "    decoded_labels = tokenizer.batch_decode(labels, skip_special_tokens=True)\n",
    "\n",
    "    rouge_result = rouge.compute(predictions=decoded_preds, references=decoded_labels, use_stemmer=True)\n",
    "    bert_result = bertscore.compute(predictions=decoded_preds, references=decoded_labels, lang=\"en\", device='cpu')\n",
    "\n",
    "    prediction_lens = [len(tokenizer.tokenize(pred)) for pred in decoded_preds]\n",
    "    rouge_result[\"gen_len\"] = np.mean(prediction_lens)\n",
    "\n",
    "    result = {**rouge_result, \"bert_f1\": np.mean(bert_result[\"f1\"])}\n",
    "\n",
    "    return {k: round(v, 4) for k, v in result.items()}"
   ],
   "metadata": {
    "trusted": true,
    "execution": {
     "iopub.status.busy": "2024-12-19T11:23:17.848593Z",
     "iopub.execute_input": "2024-12-19T11:23:17.848877Z",
     "iopub.status.idle": "2024-12-19T11:23:21.424963Z",
     "shell.execute_reply.started": "2024-12-19T11:23:17.848850Z",
     "shell.execute_reply": "2024-12-19T11:23:21.424300Z"
    },
    "colab": {
     "referenced_widgets": [
      "277fa41d0a0740bdbea621c122c66834",
      "d5526f3348c645b68d7404e4b5e752b8"
     ]
    },
    "id": "XOc9RxjyO-gd",
    "outputId": "8bf6727b-bcdf-4aa0-910b-2a71cb71cb0e"
   },
   "outputs": [
    {
     "output_type": "display_data",
     "data": {
      "text/plain": "Downloading builder script:   0%|          | 0.00/6.27k [00:00<?, ?B/s]",
      "application/vnd.jupyter.widget-view+json": {
       "version_major": 2,
       "version_minor": 0,
       "model_id": "277fa41d0a0740bdbea621c122c66834"
      }
     },
     "metadata": {}
    },
    {
     "output_type": "display_data",
     "data": {
      "text/plain": "Downloading builder script:   0%|          | 0.00/7.95k [00:00<?, ?B/s]",
      "application/vnd.jupyter.widget-view+json": {
       "version_major": 2,
       "version_minor": 0,
       "model_id": "d5526f3348c645b68d7404e4b5e752b8"
      }
     },
     "metadata": {}
    }
   ],
   "execution_count": null
  },
  {
   "cell_type": "markdown",
   "source": [
    "## Train"
   ],
   "metadata": {
    "id": "rTiXejSpO-gd"
   }
  },
  {
   "cell_type": "code",
   "source": [
    "from transformers import AutoModelForSeq2SeqLM, Seq2SeqTrainingArguments, Seq2SeqTrainer"
   ],
   "metadata": {
    "trusted": true,
    "execution": {
     "iopub.status.busy": "2024-12-19T11:23:21.425943Z",
     "iopub.execute_input": "2024-12-19T11:23:21.426500Z",
     "iopub.status.idle": "2024-12-19T11:23:22.518244Z",
     "shell.execute_reply.started": "2024-12-19T11:23:21.426471Z",
     "shell.execute_reply": "2024-12-19T11:23:22.517539Z"
    },
    "id": "RwHx4vsiO-gd"
   },
   "outputs": [],
   "execution_count": 16
  },
  {
   "cell_type": "code",
   "source": [
    "model = AutoModelForSeq2SeqLM.from_pretrained(\"t5-small\")"
   ],
   "metadata": {
    "trusted": true,
    "execution": {
     "iopub.status.busy": "2024-12-19T11:23:22.519360Z",
     "iopub.execute_input": "2024-12-19T11:23:22.519707Z",
     "iopub.status.idle": "2024-12-19T11:23:24.647373Z",
     "shell.execute_reply.started": "2024-12-19T11:23:22.519668Z",
     "shell.execute_reply": "2024-12-19T11:23:24.646478Z"
    },
    "colab": {
     "referenced_widgets": [
      "11b0ddc9cd774359ad8e8c2f20342f39",
      "61b714f25dd54f54883acce6b3fe8c5b",
      "6fd1c30a594b4feab29f01861e66716e"
     ]
    },
    "id": "7HMZUndrO-gd",
    "outputId": "dcecb14a-6638-4d72-9f28-3332c025371a"
   },
   "outputs": [
    {
     "output_type": "display_data",
     "data": {
      "text/plain": "config.json:   0%|          | 0.00/1.21k [00:00<?, ?B/s]",
      "application/vnd.jupyter.widget-view+json": {
       "version_major": 2,
       "version_minor": 0,
       "model_id": "11b0ddc9cd774359ad8e8c2f20342f39"
      }
     },
     "metadata": {}
    },
    {
     "output_type": "display_data",
     "data": {
      "text/plain": "model.safetensors:   0%|          | 0.00/242M [00:00<?, ?B/s]",
      "application/vnd.jupyter.widget-view+json": {
       "version_major": 2,
       "version_minor": 0,
       "model_id": "61b714f25dd54f54883acce6b3fe8c5b"
      }
     },
     "metadata": {}
    },
    {
     "output_type": "display_data",
     "data": {
      "text/plain": "generation_config.json:   0%|          | 0.00/147 [00:00<?, ?B/s]",
      "application/vnd.jupyter.widget-view+json": {
       "version_major": 2,
       "version_minor": 0,
       "model_id": "6fd1c30a594b4feab29f01861e66716e"
      }
     },
     "metadata": {}
    }
   ],
   "execution_count": null
  },
  {
   "cell_type": "code",
   "source": [
    "from transformers import T5ForConditionalGeneration, Seq2SeqTrainer, Seq2SeqTrainingArguments\n",
    "import matplotlib.pyplot as plt\n",
    "import warnings\n",
    "warnings.filterwarnings('ignore')\n",
    "\n",
    "# Load model\n",
    "model = T5ForConditionalGeneration.from_pretrained(\"t5-small\")\n",
    "\n",
    "# Configure generation settings\n",
    "generation_config = model.generation_config\n",
    "generation_config.min_length = 200\n",
    "generation_config.max_length = 250\n",
    "generation_config.num_beams = 4\n",
    "generation_config.temperature = 3\n",
    "\n",
    "# Define training arguments\n",
    "training_args = Seq2SeqTrainingArguments(\n",
    "    output_dir=\"fine_tuned_t5_small_model-naive-firstapproach\",\n",
    "    evaluation_strategy=\"epoch\",  # Evaluate at the end of each epoch\n",
    "    logging_strategy=\"epoch\",     # Log at the end of each epoch\n",
    "    logging_dir=\"logs\",\n",
    "    learning_rate=2e-5,\n",
    "    per_device_train_batch_size=8,\n",
    "    per_device_eval_batch_size=8,\n",
    "    weight_decay=0.01,\n",
    "    save_total_limit=3,\n",
    "    num_train_epochs=4,\n",
    "    predict_with_generate=True,\n",
    "    fp16=True,\n",
    "    logging_steps=10,  # Log every 10 steps\n",
    ")\n",
    "\n",
    "# Initialize trainer\n",
    "trainer = Seq2SeqTrainer(\n",
    "    model=model,\n",
    "    args=training_args,\n",
    "    train_dataset=tokenized_dataset[\"train\"],\n",
    "    eval_dataset=tokenized_dataset[\"test\"],\n",
    "    data_collator=data_collator,\n",
    "    tokenizer=tokenizer,\n",
    "    compute_metrics=compute_metrics,\n",
    ")\n",
    "\n",
    "# Train the model\n",
    "trainer.train()\n",
    "\n",
    "# Access logged history\n",
    "log_history = trainer.state.log_history\n",
    "\n",
    "# Extract training and evaluation loss\n",
    "train_loss = [log['loss'] for log in log_history if 'loss' in log]\n",
    "eval_loss = [log['eval_loss'] for log in log_history if 'eval_loss' in log]\n",
    "epochs_train = list(range(1, len(train_loss) + 1))\n",
    "epochs_eval = list(range(1, len(eval_loss) + 1))\n",
    "\n",
    "# Plot training and evaluation loss\n",
    "plt.figure(figsize=(10, 6))\n",
    "\n",
    "# Plot training loss\n",
    "if train_loss:\n",
    "    plt.plot(epochs_train, train_loss, marker='o', label='Training Loss', color='blue')\n",
    "\n",
    "# Plot evaluation loss\n",
    "if eval_loss:\n",
    "    plt.plot(epochs_eval, eval_loss, marker='x', label='Evaluation Loss', color='red')\n",
    "\n",
    "plt.xlabel(\"Epochs\")\n",
    "plt.ylabel(\"Loss\")\n",
    "plt.title(\"Training and Evaluation Loss Per Epoch\")\n",
    "plt.legend()\n",
    "plt.grid()\n",
    "plt.show()"
   ],
   "metadata": {
    "trusted": true,
    "execution": {
     "iopub.status.busy": "2024-12-19T11:23:24.649136Z",
     "iopub.execute_input": "2024-12-19T11:23:24.649595Z",
     "iopub.status.idle": "2024-12-19T11:53:41.466080Z",
     "shell.execute_reply.started": "2024-12-19T11:23:24.649474Z",
     "shell.execute_reply": "2024-12-19T11:53:41.465270Z"
    },
    "colab": {
     "referenced_widgets": [
      "ef9c94a765194db595f9398c8b5d8c3b",
      "a011a26a94034a94898fac7d828148c6",
      "a35b71248ef742278dd84a75e9f3b8ee",
      "1681ca08cd654d39a969204a2a3c3696",
      "437361b883e4463ead1ae81f6d472512",
      "91da90b812f148ed963228384c25f5bf",
      "cc1372c955884054a6d0d7d55befd48c"
     ]
    },
    "id": "Nba65Q5KO-gd",
    "outputId": "d38d1634-83d1-49af-f354-b5b751f065a2"
   },
   "outputs": [
    {
     "name": "stderr",
     "text": "\u001B[34m\u001B[1mwandb\u001B[0m: \u001B[33mWARNING\u001B[0m The `run_name` is currently set to the same value as `TrainingArguments.output_dir`. If this was not intended, please specify a different run name by setting the `TrainingArguments.run_name` parameter.\n\u001B[34m\u001B[1mwandb\u001B[0m: Using wandb-core as the SDK backend. Please refer to https://wandb.me/wandb-core for more information.\n\u001B[34m\u001B[1mwandb\u001B[0m: Logging into wandb.ai. (Learn how to deploy a W&B server locally: https://wandb.me/wandb-server)\n\u001B[34m\u001B[1mwandb\u001B[0m: You can find your API key in your browser here: https://wandb.ai/authorize\n\u001B[34m\u001B[1mwandb\u001B[0m: Paste an API key from your profile and hit enter, or press ctrl+c to quit:",
     "output_type": "stream"
    },
    {
     "output_type": "stream",
     "name": "stdin",
     "text": "  ········\n"
    },
    {
     "name": "stderr",
     "text": "\u001B[34m\u001B[1mwandb\u001B[0m: Appending key for api.wandb.ai to your netrc file: /root/.netrc\n",
     "output_type": "stream"
    },
    {
     "output_type": "display_data",
     "data": {
      "text/plain": "VBox(children=(Label(value='Waiting for wandb.init()...\\r'), FloatProgress(value=0.011113682833334021, max=1.0…",
      "application/vnd.jupyter.widget-view+json": {
       "version_major": 2,
       "version_minor": 0,
       "model_id": "ef9c94a765194db595f9398c8b5d8c3b"
      }
     },
     "metadata": {}
    },
    {
     "output_type": "display_data",
     "data": {
      "text/plain": "<IPython.core.display.HTML object>",
      "text/html": "Tracking run with wandb version 0.18.3"
     },
     "metadata": {}
    },
    {
     "output_type": "display_data",
     "data": {
      "text/plain": "<IPython.core.display.HTML object>",
      "text/html": "Run data is saved locally in <code>/kaggle/working/wandb/run-20241219_112550-qxtsg0lz</code>"
     },
     "metadata": {}
    },
    {
     "output_type": "display_data",
     "data": {
      "text/plain": "<IPython.core.display.HTML object>",
      "text/html": "Syncing run <strong><a href='https://wandb.ai/wisnuari4658-udayana/huggingface/runs/qxtsg0lz' target=\"_blank\">fine_tuned_t5_small_model-naive-firstapproach</a></strong> to <a href='https://wandb.ai/wisnuari4658-udayana/huggingface' target=\"_blank\">Weights & Biases</a> (<a href='https://wandb.me/run' target=\"_blank\">docs</a>)<br/>"
     },
     "metadata": {}
    },
    {
     "output_type": "display_data",
     "data": {
      "text/plain": "<IPython.core.display.HTML object>",
      "text/html": " View project at <a href='https://wandb.ai/wisnuari4658-udayana/huggingface' target=\"_blank\">https://wandb.ai/wisnuari4658-udayana/huggingface</a>"
     },
     "metadata": {}
    },
    {
     "output_type": "display_data",
     "data": {
      "text/plain": "<IPython.core.display.HTML object>",
      "text/html": " View run at <a href='https://wandb.ai/wisnuari4658-udayana/huggingface/runs/qxtsg0lz' target=\"_blank\">https://wandb.ai/wisnuari4658-udayana/huggingface/runs/qxtsg0lz</a>"
     },
     "metadata": {}
    },
    {
     "output_type": "display_data",
     "data": {
      "text/plain": "<IPython.core.display.HTML object>",
      "text/html": "\n    <div>\n      \n      <progress value='380' max='380' style='width:300px; height:20px; vertical-align: middle;'></progress>\n      [380/380 27:46, Epoch 4/4]\n    </div>\n    <table border=\"1\" class=\"dataframe\">\n  <thead>\n <tr style=\"text-align: left;\">\n      <th>Epoch</th>\n      <th>Training Loss</th>\n      <th>Validation Loss</th>\n      <th>Rouge1</th>\n      <th>Rouge2</th>\n      <th>Rougel</th>\n      <th>Rougelsum</th>\n      <th>Gen Len</th>\n      <th>Bert F1</th>\n    </tr>\n  </thead>\n  <tbody>\n    <tr>\n      <td>1</td>\n      <td>4.618900</td>\n      <td>3.545915</td>\n      <td>0.391800</td>\n      <td>0.124000</td>\n      <td>0.225600</td>\n      <td>0.225400</td>\n      <td>201.757900</td>\n      <td>0.838200</td>\n    </tr>\n    <tr>\n      <td>2</td>\n      <td>3.769800</td>\n      <td>3.435251</td>\n      <td>0.392500</td>\n      <td>0.129200</td>\n      <td>0.233300</td>\n      <td>0.233300</td>\n      <td>221.084200</td>\n      <td>0.838100</td>\n    </tr>\n    <tr>\n      <td>3</td>\n      <td>3.695500</td>\n      <td>3.399899</td>\n      <td>0.395400</td>\n      <td>0.131300</td>\n      <td>0.235200</td>\n      <td>0.235200</td>\n      <td>231.131600</td>\n      <td>0.838200</td>\n    </tr>\n    <tr>\n      <td>4</td>\n      <td>3.664500</td>\n      <td>3.388304</td>\n      <td>0.396600</td>\n      <td>0.130800</td>\n      <td>0.236200</td>\n      <td>0.236000</td>\n      <td>231.673700</td>\n      <td>0.838500</td>\n    </tr>\n  </tbody>\n</table><p>"
     },
     "metadata": {}
    },
    {
     "name": "stderr",
     "text": "You are using the default legacy behaviour of the <class 'transformers.models.t5.tokenization_t5.T5Tokenizer'>. This is expected, and simply means that the `legacy` (previous) behavior will be used so nothing changes for you. If you want to use the new behaviour, set `legacy=False`. This should only be set if you understand what it means, and thoroughly read the reason why this was added as explained in https://github.com/huggingface/transformers/pull/24565\n",
     "output_type": "stream"
    },
    {
     "output_type": "display_data",
     "data": {
      "text/plain": "tokenizer_config.json:   0%|          | 0.00/25.0 [00:00<?, ?B/s]",
      "application/vnd.jupyter.widget-view+json": {
       "version_major": 2,
       "version_minor": 0,
       "model_id": "a011a26a94034a94898fac7d828148c6"
      }
     },
     "metadata": {}
    },
    {
     "output_type": "display_data",
     "data": {
      "text/plain": "config.json:   0%|          | 0.00/482 [00:00<?, ?B/s]",
      "application/vnd.jupyter.widget-view+json": {
       "version_major": 2,
       "version_minor": 0,
       "model_id": "a35b71248ef742278dd84a75e9f3b8ee"
      }
     },
     "metadata": {}
    },
    {
     "output_type": "display_data",
     "data": {
      "text/plain": "vocab.json:   0%|          | 0.00/899k [00:00<?, ?B/s]",
      "application/vnd.jupyter.widget-view+json": {
       "version_major": 2,
       "version_minor": 0,
       "model_id": "1681ca08cd654d39a969204a2a3c3696"
      }
     },
     "metadata": {}
    },
    {
     "output_type": "display_data",
     "data": {
      "text/plain": "merges.txt:   0%|          | 0.00/456k [00:00<?, ?B/s]",
      "application/vnd.jupyter.widget-view+json": {
       "version_major": 2,
       "version_minor": 0,
       "model_id": "437361b883e4463ead1ae81f6d472512"
      }
     },
     "metadata": {}
    },
    {
     "output_type": "display_data",
     "data": {
      "text/plain": "tokenizer.json:   0%|          | 0.00/1.36M [00:00<?, ?B/s]",
      "application/vnd.jupyter.widget-view+json": {
       "version_major": 2,
       "version_minor": 0,
       "model_id": "91da90b812f148ed963228384c25f5bf"
      }
     },
     "metadata": {}
    },
    {
     "output_type": "display_data",
     "data": {
      "text/plain": "model.safetensors:   0%|          | 0.00/1.42G [00:00<?, ?B/s]",
      "application/vnd.jupyter.widget-view+json": {
       "version_major": 2,
       "version_minor": 0,
       "model_id": "cc1372c955884054a6d0d7d55befd48c"
      }
     },
     "metadata": {}
    },
    {
     "name": "stderr",
     "text": "Some weights of RobertaModel were not initialized from the model checkpoint at roberta-large and are newly initialized: ['roberta.pooler.dense.bias', 'roberta.pooler.dense.weight']\nYou should probably TRAIN this model on a down-stream task to be able to use it for predictions and inference.\n",
     "output_type": "stream"
    },
    {
     "output_type": "display_data",
     "data": {
      "text/plain": "<Figure size 1000x600 with 1 Axes>",
      "image/png": "[encoded data removed]"
     },
     "metadata": {}
    }
   ],
   "execution_count": null
  },
  {
   "cell_type": "code",
   "source": [
    "trainer.save_model(\"fine_tuned_t5_small_model-naive-firstapproach\")\n",
    "trainer.push_to_hub(\"fine_tuned_t5_small_model-naive-firstapproach\")"
   ],
   "metadata": {
    "trusted": true,
    "execution": {
     "iopub.status.busy": "2024-12-19T11:53:41.467307Z",
     "iopub.execute_input": "2024-12-19T11:53:41.467600Z",
     "iopub.status.idle": "2024-12-19T11:53:52.759941Z",
     "shell.execute_reply.started": "2024-12-19T11:53:41.467574Z",
     "shell.execute_reply": "2024-12-19T11:53:52.759107Z"
    },
    "colab": {
     "referenced_widgets": [
      "0403395293904bfd8422e3cd25852bb3"
     ]
    },
    "id": "PUzYGUUxO-ge",
    "outputId": "54cc14b7-95fc-4458-cf85-889859fa3f85"
   },
   "outputs": [
    {
     "output_type": "display_data",
     "data": {
      "text/plain": "model.safetensors:   0%|          | 0.00/242M [00:00<?, ?B/s]",
      "application/vnd.jupyter.widget-view+json": {
       "version_major": 2,
       "version_minor": 0,
       "model_id": "0403395293904bfd8422e3cd25852bb3"
      }
     },
     "metadata": {}
    },
    {
     "execution_count": 29,
     "output_type": "execute_result",
     "data": {
      "text/plain": "CommitInfo(commit_url='https://huggingface.co/ariW/fine_tuned_t5_small_model-naive-firstapproach/commit/2e7cd386e75f8214739746a6cb149f1fab99f7df', commit_message='fine_tuned_t5_small_model-naive-firstapproach', commit_description='', oid='2e7cd386e75f8214739746a6cb149f1fab99f7df', pr_url=None, repo_url=RepoUrl('https://huggingface.co/ariW/fine_tuned_t5_small_model-naive-firstapproach', endpoint='https://huggingface.co', repo_type='model', repo_id='ariW/fine_tuned_t5_small_model-naive-firstapproach'), pr_revision=None, pr_num=None)"
     },
     "metadata": {}
    }
   ],
   "execution_count": null
  },
  {
   "cell_type": "markdown",
   "source": [
    "## Use the Fine-Tuned Model to make Abstract Text"
   ],
   "metadata": {
    "id": "GjzoFdlUO-ge"
   }
  },
  {
   "cell_type": "code",
   "source": [
    "test_data = data.iloc[0]\n",
    "test_data[\"Merged_Section\"]"
   ],
   "metadata": {
    "trusted": true,
    "execution": {
     "iopub.status.busy": "2024-12-19T11:53:52.761047Z",
     "iopub.execute_input": "2024-12-19T11:53:52.761353Z",
     "iopub.status.idle": "2024-12-19T11:53:52.767919Z",
     "shell.execute_reply.started": "2024-12-19T11:53:52.761306Z",
     "shell.execute_reply": "2024-12-19T11:53:52.767057Z"
    },
    "id": "j7ftAEBYO-ge",
    "outputId": "899312c2-60a4-4393-a9be-acdbb2334bd1"
   },
   "outputs": [
    {
     "execution_count": 30,
     "output_type": "execute_result",
     "data": {
      "text/plain": "'the onset of covid-19 in january 2020 heralded an unparalleled global health crisis, leading to widespread fatalities and significant lifestyle changes. the virus’s highly contagious nature, coupled with the emergence of mutated strains, continues to pose concerns about sustained transmission and enduring societal impacts . despite global vaccination efforts, covid-19 remains a substantial challenge. this study identified key determinants of covid-19 vaccination among korean adults using the andersen model. gender, age, education level, job status, marital status, psychological concerns about covid-19, healthcare access, unmet healthcare needs, mental health conditions, and health behaviors all significantly shaped vaccination patterns. the findings suggest that public health authorities should focus on disseminating reliable information about vaccines, especially to economically disadvantaged individuals and those with poor mental or physical health. tailored intervention strategies are necessary to actively promote vaccination uptake, particularly among socially vulnerable groups. in future research, longitudinal studies will be essential to monitor changes in vaccine perceptions and behaviors as the pandemic and vaccination campaigns evolve. overall, this study contributes to the growing body of knowledge on covid-19 vaccination and provides a solid foundation for designing educational and policy interventions to increase vaccination rates.'"
     },
     "metadata": {}
    }
   ],
   "execution_count": null
  },
  {
   "cell_type": "code",
   "source": [
    "test_data[\"Abstract\"]"
   ],
   "metadata": {
    "trusted": true,
    "execution": {
     "iopub.status.busy": "2024-12-19T11:53:52.768888Z",
     "iopub.execute_input": "2024-12-19T11:53:52.769189Z",
     "iopub.status.idle": "2024-12-19T11:53:52.781177Z",
     "shell.execute_reply.started": "2024-12-19T11:53:52.769145Z",
     "shell.execute_reply": "2024-12-19T11:53:52.780325Z"
    },
    "id": "n37LulskO-ge",
    "outputId": "071f82cc-6ae4-482b-e767-6961953aaaa7"
   },
   "outputs": [
    {
     "execution_count": 31,
     "output_type": "execute_result",
     "data": {
      "text/plain": "'abstract covid-19 vaccination is a critical public health measure to control the pandemic, but disparities in vaccination uptake remain a concern. this study investigates the determinants of covid-19 vaccination among korean adults using the andersen model. data from 231,784 participants in the community health survey were analyzed using chi-square testing and logistic regression. the risk of non-vaccination was higher among those aged 19–64 , males , the unemployed , unmarried individuals , those with unmet healthcare needs , recipients of national basic livelihood guarantees , those with lower subjective health , individuals with depression , current smokers , and those skipping breakfast . conversely, the risk was lower for those with less than a high school education , individuals with psychological concerns about infection or public criticism , individuals with chronic diseases , and current alcohol consumers . these findings underscore the need for targeted intervention strategies and support systems to promote vaccination in vulnerable populations. further research should explore the long-term impact of these interventions on vaccination uptake.'"
     },
     "metadata": {}
    }
   ],
   "execution_count": null
  },
  {
   "cell_type": "code",
   "source": [
    "from transformers import pipeline\n",
    "\n",
    "summarizer = pipeline(\"summarization\", model=\"ariW/fine_tuned_t5_small_model-naive-firstapproach\")\n",
    "pred = summarizer(test_data[\"Merged_Section\"], min_length=100)\n",
    "pred"
   ],
   "metadata": {
    "trusted": true,
    "execution": {
     "iopub.status.busy": "2024-12-19T11:53:52.782286Z",
     "iopub.execute_input": "2024-12-19T11:53:52.783055Z",
     "iopub.status.idle": "2024-12-19T11:54:05.759676Z",
     "shell.execute_reply.started": "2024-12-19T11:53:52.783021Z",
     "shell.execute_reply": "2024-12-19T11:54:05.758822Z"
    },
    "colab": {
     "referenced_widgets": [
      "517392c0001b4d1db9f35f4f893b316b",
      "239b3fa57a3e40e38229966c1cd0bbcc",
      "f73535d161ef4f78b416d527e6c363eb",
      "bfc5b37a861c49d189139349ad262ebf",
      "731091b868494a8999694fd09e930ec5",
      "cf52c2c597ba438eab8f8e26b91b448d",
      "9b74b282b5ee4886b5e9c70db4e11b2b"
     ]
    },
    "id": "4ssUhveSO-ge",
    "outputId": "83c82b96-93cd-4b29-a956-82ee5b16f306"
   },
   "outputs": [
    {
     "output_type": "display_data",
     "data": {
      "text/plain": "config.json:   0%|          | 0.00/1.50k [00:00<?, ?B/s]",
      "application/vnd.jupyter.widget-view+json": {
       "version_major": 2,
       "version_minor": 0,
       "model_id": "517392c0001b4d1db9f35f4f893b316b"
      }
     },
     "metadata": {}
    },
    {
     "output_type": "display_data",
     "data": {
      "text/plain": "model.safetensors:   0%|          | 0.00/242M [00:00<?, ?B/s]",
      "application/vnd.jupyter.widget-view+json": {
       "version_major": 2,
       "version_minor": 0,
       "model_id": "239b3fa57a3e40e38229966c1cd0bbcc"
      }
     },
     "metadata": {}
    },
    {
     "output_type": "display_data",
     "data": {
      "text/plain": "generation_config.json:   0%|          | 0.00/192 [00:00<?, ?B/s]",
      "application/vnd.jupyter.widget-view+json": {
       "version_major": 2,
       "version_minor": 0,
       "model_id": "f73535d161ef4f78b416d527e6c363eb"
      }
     },
     "metadata": {}
    },
    {
     "output_type": "display_data",
     "data": {
      "text/plain": "tokenizer_config.json:   0%|          | 0.00/20.7k [00:00<?, ?B/s]",
      "application/vnd.jupyter.widget-view+json": {
       "version_major": 2,
       "version_minor": 0,
       "model_id": "bfc5b37a861c49d189139349ad262ebf"
      }
     },
     "metadata": {}
    },
    {
     "output_type": "display_data",
     "data": {
      "text/plain": "spiece.model:   0%|          | 0.00/792k [00:00<?, ?B/s]",
      "application/vnd.jupyter.widget-view+json": {
       "version_major": 2,
       "version_minor": 0,
       "model_id": "731091b868494a8999694fd09e930ec5"
      }
     },
     "metadata": {}
    },
    {
     "output_type": "display_data",
     "data": {
      "text/plain": "tokenizer.json:   0%|          | 0.00/2.42M [00:00<?, ?B/s]",
      "application/vnd.jupyter.widget-view+json": {
       "version_major": 2,
       "version_minor": 0,
       "model_id": "cf52c2c597ba438eab8f8e26b91b448d"
      }
     },
     "metadata": {}
    },
    {
     "output_type": "display_data",
     "data": {
      "text/plain": "special_tokens_map.json:   0%|          | 0.00/2.54k [00:00<?, ?B/s]",
      "application/vnd.jupyter.widget-view+json": {
       "version_major": 2,
       "version_minor": 0,
       "model_id": "9b74b282b5ee4886b5e9c70db4e11b2b"
      }
     },
     "metadata": {}
    },
    {
     "name": "stderr",
     "text": "Hardware accelerator e.g. GPU is available in the environment, but no `device` argument is passed to the `Pipeline` object. Model will be on CPU.\n",
     "output_type": "stream"
    },
    {
     "execution_count": 32,
     "output_type": "execute_result",
     "data": {
      "text/plain": "[{'summary_text': 'the onset of covid-19 in january 2020 heralded an unparalleled global health crisis . the virus’s highly contagious nature, coupled with the emergence of mutated strains, continues to pose concerns about sustained transmission and enduring societal impacts . gender, age, education level, job status, marital status, unmet healthcare needs, mental health conditions, and health behaviors all significantly shaped vaccination patterns . findings suggest public health authorities should focus on disseminating reliable information about vaccines'}]"
     },
     "metadata": {}
    }
   ],
   "execution_count": null
  },
  {
   "cell_type": "markdown",
   "source": [
    "# Evaluate the result"
   ],
   "metadata": {
    "id": "nQ9dsGZWO-ge"
   }
  },
  {
   "cell_type": "code",
   "source": [
    "pred[0]['summary_text']"
   ],
   "metadata": {
    "trusted": true,
    "execution": {
     "iopub.status.busy": "2024-12-19T11:54:05.760936Z",
     "iopub.execute_input": "2024-12-19T11:54:05.761286Z",
     "iopub.status.idle": "2024-12-19T11:54:05.767600Z",
     "shell.execute_reply.started": "2024-12-19T11:54:05.761247Z",
     "shell.execute_reply": "2024-12-19T11:54:05.766623Z"
    },
    "id": "hpCGUtoTO-ge",
    "outputId": "32067c36-b11a-4bc8-bdfb-c762182b34a3"
   },
   "outputs": [
    {
     "execution_count": 33,
     "output_type": "execute_result",
     "data": {
      "text/plain": "'the onset of covid-19 in january 2020 heralded an unparalleled global health crisis . the virus’s highly contagious nature, coupled with the emergence of mutated strains, continues to pose concerns about sustained transmission and enduring societal impacts . gender, age, education level, job status, marital status, unmet healthcare needs, mental health conditions, and health behaviors all significantly shaped vaccination patterns . findings suggest public health authorities should focus on disseminating reliable information about vaccines'"
     },
     "metadata": {}
    }
   ],
   "execution_count": null
  },
  {
   "cell_type": "code",
   "source": [
    "preds = [pred[0]['summary_text']]"
   ],
   "metadata": {
    "trusted": true,
    "execution": {
     "iopub.status.busy": "2024-12-19T11:54:05.768660Z",
     "iopub.execute_input": "2024-12-19T11:54:05.768930Z",
     "iopub.status.idle": "2024-12-19T11:54:05.777014Z",
     "shell.execute_reply.started": "2024-12-19T11:54:05.768901Z",
     "shell.execute_reply": "2024-12-19T11:54:05.776347Z"
    },
    "id": "qT_Qu2rBO-ge"
   },
   "outputs": [],
   "execution_count": null
  },
  {
   "cell_type": "code",
   "source": [
    "labels = [test_data[\"Abstract\"]]"
   ],
   "metadata": {
    "trusted": true,
    "execution": {
     "iopub.status.busy": "2024-12-19T11:54:05.778050Z",
     "iopub.execute_input": "2024-12-19T11:54:05.778323Z",
     "iopub.status.idle": "2024-12-19T11:54:05.787796Z",
     "shell.execute_reply.started": "2024-12-19T11:54:05.778286Z",
     "shell.execute_reply": "2024-12-19T11:54:05.787100Z"
    },
    "id": "raP1N-MKO-gh"
   },
   "outputs": [],
   "execution_count": null
  },
  {
   "cell_type": "code",
   "source": [
    "from evaluate import load\n",
    "\n",
    "rouge = load(\"rouge\")\n",
    "\n",
    "rouge.compute(predictions=preds, references=labels, use_stemmer=True)"
   ],
   "metadata": {
    "trusted": true,
    "execution": {
     "iopub.status.busy": "2024-12-19T11:54:05.788768Z",
     "iopub.execute_input": "2024-12-19T11:54:05.789028Z",
     "iopub.status.idle": "2024-12-19T11:54:06.521187Z",
     "shell.execute_reply.started": "2024-12-19T11:54:05.789000Z",
     "shell.execute_reply": "2024-12-19T11:54:06.520393Z"
    },
    "id": "bw6QLyDkO-gh",
    "outputId": "7fe8fdf9-5653-4a4a-edda-1fa7ebbf14d7"
   },
   "outputs": [
    {
     "execution_count": 36,
     "output_type": "execute_result",
     "data": {
      "text/plain": "{'rouge1': 0.2468085106382979,\n 'rouge2': 0.05150214592274678,\n 'rougeL': 0.15319148936170213,\n 'rougeLsum': 0.15319148936170213}"
     },
     "metadata": {}
    }
   ],
   "execution_count": null
  },
  {
   "cell_type": "code",
   "source": [
    "import bert_score\n",
    "P, R, F1 = bert_score.score(preds, labels, lang='en', verbose=True)\n",
    "print(f\"Precision: {P}\")\n",
    "print(f\"Recall: {R}\")\n",
    "print(f\"F1 Score: {F1}\")"
   ],
   "metadata": {
    "trusted": true,
    "execution": {
     "iopub.status.busy": "2024-12-19T11:54:06.522285Z",
     "iopub.execute_input": "2024-12-19T11:54:06.522663Z",
     "iopub.status.idle": "2024-12-19T11:54:07.432405Z",
     "shell.execute_reply.started": "2024-12-19T11:54:06.522621Z",
     "shell.execute_reply": "2024-12-19T11:54:07.431550Z"
    },
    "colab": {
     "referenced_widgets": [
      "b8aa8757ba6e41cdaf4d4eeab45638b6",
      "29da8245b7b1495eb9d79970a5394bc7"
     ]
    },
    "id": "o0CXdol1O-gh",
    "outputId": "0c70f8c4-35e0-4989-f7a4-3a8c0136abb5"
   },
   "outputs": [
    {
     "name": "stderr",
     "text": "Some weights of RobertaModel were not initialized from the model checkpoint at roberta-large and are newly initialized: ['roberta.pooler.dense.bias', 'roberta.pooler.dense.weight']\nYou should probably TRAIN this model on a down-stream task to be able to use it for predictions and inference.\n",
     "output_type": "stream"
    },
    {
     "name": "stdout",
     "text": "calculating scores...\ncomputing bert embedding.\n",
     "output_type": "stream"
    },
    {
     "output_type": "display_data",
     "data": {
      "text/plain": "  0%|          | 0/1 [00:00<?, ?it/s]",
      "application/vnd.jupyter.widget-view+json": {
       "version_major": 2,
       "version_minor": 0,
       "model_id": "b8aa8757ba6e41cdaf4d4eeab45638b6"
      }
     },
     "metadata": {}
    },
    {
     "name": "stdout",
     "text": "computing greedy matching.\n",
     "output_type": "stream"
    },
    {
     "output_type": "display_data",
     "data": {
      "text/plain": "  0%|          | 0/1 [00:00<?, ?it/s]",
      "application/vnd.jupyter.widget-view+json": {
       "version_major": 2,
       "version_minor": 0,
       "model_id": "29da8245b7b1495eb9d79970a5394bc7"
      }
     },
     "metadata": {}
    },
    {
     "name": "stdout",
     "text": "done in 0.12 seconds, 8.14 sentences/sec\nPrecision: tensor([0.8526])\nRecall: tensor([0.8253])\nF1 Score: tensor([0.8387])\n",
     "output_type": "stream"
    }
   ],
   "execution_count": null
  },
  {
   "cell_type": "markdown",
   "source": [
    "# Source Copy Rate"
   ],
   "metadata": {
    "id": "-HqXs5ORTMAA"
   }
  },
  {
   "cell_type": "code",
   "source": [
    "dataset"
   ],
   "metadata": {
    "colab": {
     "base_uri": "https://localhost:8080/"
    },
    "id": "jeOmCsC4Twh3",
    "outputId": "aad0260e-dd5e-443c-e401-a56a24302a7e"
   },
   "execution_count": 21,
   "outputs": [
    {
     "output_type": "execute_result",
     "data": {
      "text/plain": [
       "DatasetDict({\n",
       "    train: Dataset({\n",
       "        features: ['Abstract', 'Merged_Section'],\n",
       "        num_rows: 757\n",
       "    })\n",
       "    test: Dataset({\n",
       "        features: ['Abstract', 'Merged_Section'],\n",
       "        num_rows: 190\n",
       "    })\n",
       "})"
      ]
     },
     "metadata": {},
     "execution_count": 21
    }
   ]
  },
  {
   "cell_type": "code",
   "source": [
    "dataset['test'][0]['Merged_Section']"
   ],
   "metadata": {
    "colab": {
     "base_uri": "https://localhost:8080/",
     "height": 192
    },
    "id": "QfelUYVKV_Nv",
    "outputId": "0cfa0243-3136-4ca7-92ab-37203e58902d"
   },
   "execution_count": 45,
   "outputs": [
    {
     "output_type": "execute_result",
     "data": {
      "text/plain": [
       "'psoriasis is a long-term skin disorder that has no cure and may express itself as an active severe disease or as mild stable disease . psoriasis patients are more susceptible to mental health diseases than patients with other dermatological conditions . it is recognized that the risk of depression, anxiety, and suicidality is higher in patients with psoriasis . psoriasis is a specific and important chronic health condition, a long-term skin disorder with no cure, and diagnosed patients are particularly susceptible to experience worse quality of life.using path analysis and hierarchical multiple linear regression, the results indicate that the variables that significantly contribute to psoriasis disability are years of education, impact on social life and body image. body image-related cognitive fusion is a significant mediator in the relationship between disease severity and acceptance, and psoriasis disability.the main findings and strengths of this study are important on three different levels: providing psoriasis patients with information appropriate to their educational level in order to reduce distorted perceptions of disease severity that may compromise their quality of life and adaptation to the disease, intervening in the ability to accept this specific long-term chronic health condition, and addressing issues associated with a negatively disproportionate body image in relation to the extent and characteristics of the physical lesions.the limitations of this study are related to the reduced number of samples used in this initial exploratory study and the nature of the instruments, which are all self-reporting. in the future, studies with a larger sample and a longitudinal design will be able to confirm and strengthen the results obtained, contributing to a better understanding of the psoriasis disease experience and enabling a multidisciplinary approach within integrated psoriasis treatment.'"
      ],
      "application/vnd.google.colaboratory.intrinsic+json": {
       "type": "string"
      }
     },
     "metadata": {},
     "execution_count": 45
    }
   ]
  },
  {
   "cell_type": "code",
   "source": [
    "import torch\n",
    "device = torch.device(\"cuda\" if torch.cuda.is_available() else \"cpu\")\n",
    "device"
   ],
   "metadata": {
    "colab": {
     "base_uri": "https://localhost:8080/"
    },
    "id": "iGr2XEHqTfRI",
    "outputId": "52c83cf7-7425-45aa-d13e-9547dbc0002c"
   },
   "execution_count": 17,
   "outputs": [
    {
     "output_type": "execute_result",
     "data": {
      "text/plain": [
       "device(type='cuda')"
      ]
     },
     "metadata": {},
     "execution_count": 17
    }
   ]
  },
  {
   "cell_type": "code",
   "source": [
    "from transformers import (\n",
    "    TFAutoModelForSeq2SeqLM,\n",
    "    DataCollatorForSeq2Seq,\n",
    "    create_optimizer,\n",
    "    AdamWeightDecay,\n",
    "    TFPegasusForConditionalGeneration,\n",
    "    PegasusTokenizerFast,\n",
    "    AutoTokenizer,\n",
    "    Seq2SeqTrainingArguments,\n",
    "    Seq2SeqTrainer,\n",
    "    AutoModelForSeq2SeqLM,\n",
    "    GenerationConfig,\n",
    "    T5ForConditionalGeneration,\n",
    "    pipeline\n",
    ")\n",
    "import nltk\n",
    "from sklearn.feature_extraction.text import CountVectorizer\n",
    "from nltk.tokenize import word_tokenize\n",
    "from tqdm import tqdm\n",
    "import numpy as np"
   ],
   "metadata": {
    "id": "0re9izRYTpxD"
   },
   "execution_count": 41,
   "outputs": []
  },
  {
   "cell_type": "code",
   "source": [
    "nltk.download('punkt_tab')"
   ],
   "metadata": {
    "colab": {
     "base_uri": "https://localhost:8080/"
    },
    "id": "C_iOF_eOUBKo",
    "outputId": "794d0d17-81dd-433a-9e4d-bbcea4cead35"
   },
   "execution_count": 37,
   "outputs": [
    {
     "output_type": "stream",
     "name": "stderr",
     "text": [
      "[nltk_data] Downloading package punkt_tab to /root/nltk_data...\n",
      "[nltk_data]   Unzipping tokenizers/punkt_tab.zip.\n"
     ]
    },
    {
     "output_type": "execute_result",
     "data": {
      "text/plain": [
       "True"
      ]
     },
     "metadata": {},
     "execution_count": 37
    }
   ]
  },
  {
   "cell_type": "code",
   "source": [
    "model_name = \"ariW/fine_tuned_t5_small_model-naive-firstapproach\"\n",
    "tokenizer = AutoTokenizer.from_pretrained(model_name)\n",
    "model = AutoModelForSeq2SeqLM.from_pretrained(model_name).to(device)"
   ],
   "metadata": {
    "colab": {
     "base_uri": "https://localhost:8080/",
     "height": 435,
     "referenced_widgets": [
      "1be69efa190f44cd93819bf86046f9b3",
      "47af6d6659ba4f6eaf20e9473148e275",
      "1fc82a1926cc43c29bf6c94003db9655",
      "6829ba4b3c7d4d2a91a63cdbff8fa96f",
      "36d55f892c4e4f93ad713118bdc42239",
      "702947c1c8eb4333bc90fffbfee1f688",
      "3462c1f2c33a453dbfaf1739adeccbd9",
      "38b3e5235704492aa35dcd3e1478e863",
      "016d3d31084e4310998505aed8022ca5",
      "ce1956778bce4fb5bc4cbfcbb608325f",
      "fd7e1dcc7b1746efabd5e690b06fc050",
      "4916843693db41b9a763b93b51cecc7f",
      "e4fd85a933694361a12fbc914c7d418e",
      "91efcf23514644bf898f937ccc315a86",
      "41645a0fd6274ec387c1997acabf5246",
      "b3743752c6eb4a22aa71c4d1ab504d82",
      "9ada205d7596432a8db03967c99dac8f",
      "caf0fdecf10043baa0ff5b7f382469b4",
      "dc28877087ba444680dfe5346caba378",
      "918fb32d93a546369b6e31d1bcc57228",
      "083fa54ad5c6408fbb09417f15625208",
      "6e40738dc97e4fff9830993a21452203",
      "84bb03128cd546b39b1e57bc1532f4a1",
      "f8e96c2046f14be1b67d23cb7763bf51",
      "5fd6aab2eca44040a8c95fa63a7e591a",
      "27ab0db28b3a464aa7870461247e8ef4",
      "ee9621e65d5a46c6b73bbd76bc92d076",
      "3a98384dc30043f6ba4bcd2c93d82592",
      "046f5b28999a47cbaade8fccf0065645",
      "974bfc3f989740a5b6b7134c47505629",
      "efa9791a262b4ff59259de66633c0f29",
      "155082be27f14f11a9b00e96053d6cc3",
      "2c4b80c3dc554694810992b9cf5754cd",
      "f264fb574a7c406387087a89fa93e603",
      "fa7363eda81d4a1b8ec1c48c0b5c936a",
      "740cf6f334c144e0b0765e1c3beee84d",
      "b4f3ea10b3404c7aad00af50377b6671",
      "a9d4f845c1104f1582fd9fa18cce58a8",
      "8d875ebcd9b94da4bd8ccb97637ce6e2",
      "1a0af3afa9154c3eaf4673c1ccb91020",
      "62a8eface2934c3299d573a0d4d8adaa",
      "bb619473eafb4ee1a43fba9eaa8a25bf",
      "6bbeee5cb83f405d8e01d5fa95732c89",
      "8197e099be6143ff90c6dca332513905",
      "48f1ab8c57d2429993d1c0be232dfd0b",
      "393cd5dfb49f4c458ae63ea8f72a7d49",
      "2efc1bd1e7d640de96076d11011b3cbf",
      "af3c6ba142364b9f85e296559ce4db2c",
      "3e58ad5cd05c4a9c9484a6ad2932643f",
      "ae032e14c54540cfbfffa159c8fee2d9",
      "915f2d53f2634ab59c90a6db889f1008",
      "f4c735b7be8b427f99b343a0818876b7",
      "fd6a19b4178a411dbd7e16aec4072c95",
      "e96b4eed8c48459985e5f3336896e1aa",
      "1d0de61e04214253893b679f5c6e4af7",
      "13eff104721043b3832574d727b908b0",
      "7d74ccbb4d694749bd1b05b718b9b42b",
      "8ce361fba6084635a77fb4347569a4d6",
      "d749285618a24cb1961ea969b63238ab",
      "c8f3ddf82e1f4ddea7bcd3e00f0d9ab2",
      "a84c66278ef94036a7ea4d5f0acbb84a",
      "b9ea8a932ca44d6c8acd450371e9544f",
      "5a8d91d33a724646ae29daf68b3950a8",
      "cf7d3151c6144a5f93e0ad7902cbd608",
      "5a0d29214f954dc086ebc2fe9d23562c",
      "9cbe1f79f5ab4e008c58308b814fb3ad",
      "0666fbe7bd044316a058054faf6210d7",
      "bf0d6d9ce4274843a03c97479dc8ee57",
      "d31a74290cfb4edd9510fec48317c9ec",
      "0644c9aa7ed94b139e680bfc571eca9e",
      "1faef07a644d489b9f3a78d1e7b083b1",
      "b44e2f76f7a94eed830ff1851b0f7da3",
      "379aafa16e5a482499e14027dbc81f57",
      "88bacfa26b604047b035fcc494ee121e",
      "68aa1b9a64274109adbf8a48d3b78ce8",
      "814771c405314ce9ab3d7dabad79c619",
      "9afec2e058f8460389b10b607c5925ad"
     ]
    },
    "id": "CjbQl4ixTPDR",
    "outputId": "6d3b02ff-2e54-4af4-eb64-f1302315d35d"
   },
   "execution_count": 20,
   "outputs": [
    {
     "output_type": "stream",
     "name": "stderr",
     "text": [
      "/usr/local/lib/python3.10/dist-packages/huggingface_hub/utils/_auth.py:94: UserWarning: \n",
      "The secret `HF_TOKEN` does not exist in your Colab secrets.\n",
      "To authenticate with the Hugging Face Hub, create a token in your settings tab (https://huggingface.co/settings/tokens), set it as secret in your Google Colab and restart your session.\n",
      "You will be able to reuse this secret in all of your notebooks.\n",
      "Please note that authentication is recommended but still optional to access public models or datasets.\n",
      "  warnings.warn(\n"
     ]
    },
    {
     "output_type": "display_data",
     "data": {
      "text/plain": [
       "tokenizer_config.json:   0%|          | 0.00/20.7k [00:00<?, ?B/s]"
      ],
      "application/vnd.jupyter.widget-view+json": {
       "version_major": 2,
       "version_minor": 0,
       "model_id": "1be69efa190f44cd93819bf86046f9b3"
      }
     },
     "metadata": {}
    },
    {
     "output_type": "display_data",
     "data": {
      "text/plain": [
       "spiece.model:   0%|          | 0.00/792k [00:00<?, ?B/s]"
      ],
      "application/vnd.jupyter.widget-view+json": {
       "version_major": 2,
       "version_minor": 0,
       "model_id": "4916843693db41b9a763b93b51cecc7f"
      }
     },
     "metadata": {}
    },
    {
     "output_type": "display_data",
     "data": {
      "text/plain": [
       "tokenizer.json:   0%|          | 0.00/2.42M [00:00<?, ?B/s]"
      ],
      "application/vnd.jupyter.widget-view+json": {
       "version_major": 2,
       "version_minor": 0,
       "model_id": "84bb03128cd546b39b1e57bc1532f4a1"
      }
     },
     "metadata": {}
    },
    {
     "output_type": "display_data",
     "data": {
      "text/plain": [
       "special_tokens_map.json:   0%|          | 0.00/2.54k [00:00<?, ?B/s]"
      ],
      "application/vnd.jupyter.widget-view+json": {
       "version_major": 2,
       "version_minor": 0,
       "model_id": "f264fb574a7c406387087a89fa93e603"
      }
     },
     "metadata": {}
    },
    {
     "output_type": "display_data",
     "data": {
      "text/plain": [
       "config.json:   0%|          | 0.00/1.50k [00:00<?, ?B/s]"
      ],
      "application/vnd.jupyter.widget-view+json": {
       "version_major": 2,
       "version_minor": 0,
       "model_id": "48f1ab8c57d2429993d1c0be232dfd0b"
      }
     },
     "metadata": {}
    },
    {
     "output_type": "display_data",
     "data": {
      "text/plain": [
       "model.safetensors:   0%|          | 0.00/242M [00:00<?, ?B/s]"
      ],
      "application/vnd.jupyter.widget-view+json": {
       "version_major": 2,
       "version_minor": 0,
       "model_id": "13eff104721043b3832574d727b908b0"
      }
     },
     "metadata": {}
    },
    {
     "output_type": "display_data",
     "data": {
      "text/plain": [
       "generation_config.json:   0%|          | 0.00/192 [00:00<?, ?B/s]"
      ],
      "application/vnd.jupyter.widget-view+json": {
       "version_major": 2,
       "version_minor": 0,
       "model_id": "0666fbe7bd044316a058054faf6210d7"
      }
     },
     "metadata": {}
    },
    {
     "output_type": "stream",
     "name": "stderr",
     "text": [
      "/usr/local/lib/python3.10/dist-packages/transformers/generation/configuration_utils.py:628: UserWarning: `do_sample` is set to `False`. However, `temperature` is set to `3` -- this flag is only used in sample-based generation modes. You should set `do_sample=True` or unset `temperature`. This was detected when initializing the generation config instance, which means the corresponding file may hold incorrect parameterization and should be fixed.\n",
      "  warnings.warn(\n",
      "/usr/local/lib/python3.10/dist-packages/transformers/generation/configuration_utils.py:628: UserWarning: `do_sample` is set to `False`. However, `temperature` is set to `3` -- this flag is only used in sample-based generation modes. You should set `do_sample=True` or unset `temperature`.\n",
      "  warnings.warn(\n"
     ]
    }
   ]
  },
  {
   "cell_type": "code",
   "source": [
    "# Function for batch prediction\n",
    "def batch_predict(evaluation_inputs, model, tokenizer, generation_kwargs, batch_size=8):\n",
    "    inputs = []\n",
    "    results = []\n",
    "    for i in tqdm(range(0, len(evaluation_inputs), batch_size), desc=\"Processing Batches\"):\n",
    "        batch_inputs = evaluation_inputs[i:i + batch_size]\n",
    "        encodings = tokenizer(\n",
    "            batch_inputs['Merged_Section'],\n",
    "            return_tensors=\"pt\",\n",
    "            padding=True,\n",
    "            truncation=True\n",
    "        )\n",
    "\n",
    "\n",
    "        with torch.no_grad():\n",
    "            outputs = model.generate(\n",
    "                encodings[\"input_ids\"].to(device),\n",
    "                attention_mask=encodings[\"attention_mask\"].to(device),\n",
    "                **generation_kwargs\n",
    "            )\n",
    "        decoded_inputs = tokenizer.batch_decode(encodings['input_ids'], skip_special_tokens=True)\n",
    "        decoded_outputs = tokenizer.batch_decode(outputs, skip_special_tokens=True, clean_up_tokenization_spaces=True)\n",
    "        results.extend(decoded_outputs)\n",
    "        inputs.extend(decoded_inputs)\n",
    "    return results,inputs"
   ],
   "metadata": {
    "id": "RGTHO3eHTzQu"
   },
   "execution_count": 31,
   "outputs": []
  },
  {
   "cell_type": "code",
   "source": [
    "def calculate_copy_rate(inputs, predictions):\n",
    "    copy_rates = []\n",
    "    for input_text, prediction in tqdm(zip(inputs, predictions), total=len(inputs), desc=\"Processing\"):\n",
    "        input_tokens = set(word_tokenize(input_text.lower()))\n",
    "        pred_tokens = word_tokenize(prediction.lower())\n",
    "        copied_tokens = [token for token in pred_tokens if token in input_tokens]\n",
    "        copy_rate = len(copied_tokens) / len(pred_tokens) if pred_tokens else 0\n",
    "        copy_rates.append(copy_rate)\n",
    "\n",
    "    return np.mean(copy_rates)"
   ],
   "metadata": {
    "id": "Ga6hmYCQT6R6"
   },
   "execution_count": 38,
   "outputs": []
  },
  {
   "cell_type": "code",
   "source": [
    "# Perform batch predictions\n",
    "generation_kwargs = {\n",
    "    \"min_length\": 200,\n",
    "    \"max_length\": 250,\n",
    "    \"num_beams\": 4,    # Use beam search for better quality\n",
    "    \"length_penalty\": 1.0\n",
    "}\n",
    "generated_summaries = batch_predict(dataset['test'], model, tokenizer, generation_kwargs)\n",
    "len(generated_summaries)"
   ],
   "metadata": {
    "colab": {
     "base_uri": "https://localhost:8080/"
    },
    "id": "AuVtT6p6UJEw",
    "outputId": "641f37ee-b8c1-4ed6-f64b-64ab4da780c8"
   },
   "execution_count": 35,
   "outputs": [
    {
     "output_type": "stream",
     "name": "stderr",
     "text": [
      "\rProcessing Batches:   0%|          | 0/24 [00:00<?, ?it/s]/usr/local/lib/python3.10/dist-packages/transformers/generation/configuration_utils.py:628: UserWarning: `do_sample` is set to `False`. However, `temperature` is set to `3` -- this flag is only used in sample-based generation modes. You should set `do_sample=True` or unset `temperature`.\n",
      "  warnings.warn(\n",
      "Processing Batches: 100%|██████████| 24/24 [02:32<00:00,  6.34s/it]\n"
     ]
    },
    {
     "output_type": "execute_result",
     "data": {
      "text/plain": [
       "2"
      ]
     },
     "metadata": {},
     "execution_count": 35
    }
   ]
  },
  {
   "cell_type": "code",
   "source": [
    "# Example usage:\n",
    "average_copy_rate = calculate_copy_rate(generated_summaries[1], generated_summaries[0])\n",
    "print(f\"\\nAverage Copy Rate: {average_copy_rate:.2%}\")"
   ],
   "metadata": {
    "colab": {
     "base_uri": "https://localhost:8080/"
    },
    "id": "ewi-Xs39Ut-U",
    "outputId": "f11e6f28-173d-4710-8703-00a3a4b7f9de"
   },
   "execution_count": 43,
   "outputs": [
    {
     "output_type": "stream",
     "name": "stderr",
     "text": [
      "Processing: 100%|██████████| 190/190 [00:01<00:00, 112.50it/s]"
     ]
    },
    {
     "output_type": "stream",
     "name": "stdout",
     "text": [
      "\n",
      "Average Copy Rate: 99.29%\n"
     ]
    },
    {
     "output_type": "stream",
     "name": "stderr",
     "text": [
      "\n"
     ]
    }
   ]
  }
 ]
}
